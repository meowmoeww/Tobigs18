{
 "cells": [
  {
   "cell_type": "markdown",
   "metadata": {
    "id": "fu39oBW0RVn5"
   },
   "source": [
    "# [과제 3] 로지스틱 회귀분석\n",
    "### - sklearn 패키지를 사용해 로지스틱 회귀분석을 진행해주세요.\n",
    "### - 성능지표를 계산하고 이에 대해 해석해주세요.\n",
    "### - 성능 개선을 시도해주세요. (어떠한 성능지표를 기준으로 개선을 시도했는지, 그 이유도 함께 적어주세요.)\n",
    "### - 주석으로 설명 및 근거 자세하게 달아주시면 감사하겠습니다. :)"
   ]
  },
  {
   "cell_type": "markdown",
   "metadata": {
    "id": "8rN2SWezRVn_"
   },
   "source": [
    "## Data "
   ]
  },
  {
   "cell_type": "markdown",
   "metadata": {
    "id": "Y7SYKNvQRVn_"
   },
   "source": [
    "출처 : https://www.kaggle.com/mlg-ulb/creditcardfraud\n",
    "\n",
    "\n",
    "* V1 ~ V28 : 비식별화 된 개인정보 \n",
    "* **Class** : Target 변수  \n",
    "  - 1 : fraudulent transactions (사기)\n",
    "  - 0 : otherwise "
   ]
  },
  {
   "cell_type": "code",
   "execution_count": 1,
   "metadata": {
    "id": "Uvjw2fTCRVoA"
   },
   "outputs": [],
   "source": [
    "import pandas as pd\n",
    "import numpy as np\n",
    "import seaborn as sns\n",
    "import matplotlib.pyplot as plt\n",
    "import warnings\n",
    "warnings.filterwarnings(action='ignore')"
   ]
  },
  {
   "cell_type": "code",
   "execution_count": 15,
   "metadata": {},
   "outputs": [],
   "source": [
    "import  scipy.signal.signaltools\n",
    "\n",
    "def _centered(arr, newsize):\n",
    "    # Return the center newsize portion of the array.\n",
    "    newsize = np.asarray(newsize)\n",
    "    currsize = np.array(arr.shape)\n",
    "    startind = (currsize - newsize) // 2\n",
    "    endind = startind + newsize\n",
    "    myslice = [slice(startind[k], endind[k]) for k in range(len(endind))]\n",
    "    return arr[tuple(myslice)]\n",
    "\n",
    "scipy.signal.signaltools._centered = _centered\n",
    "\n",
    "#머신러닝 모델 구축 / 평가\n",
    "import scipy as sp\n",
    "import scipy.stats as stats\n",
    "\n",
    "import statsmodels.api as sm\n",
    "from statsmodels.formula.api import ols\n",
    "\n",
    "from sklearn.model_selection import train_test_split\n",
    "from sklearn.metrics import mean_squared_error,r2_score,mean_absolute_error\n",
    "\n",
    "#데이터 시각화\n",
    "import seaborn as sns\n",
    "import matplotlib.pyplot as plt\n",
    "import matplotlib.font_manager as fm\n",
    "\n",
    "#한글 폰트\n",
    "plt.style.use('seaborn')\n",
    "plt.rc('font', family='DejaVu Sans')\n",
    "plt.rc('axes', unicode_minus=False)"
   ]
  },
  {
   "cell_type": "code",
   "execution_count": 2,
   "metadata": {
    "id": "znQit70ZRVoA"
   },
   "outputs": [],
   "source": [
    "data = pd.read_csv(\"assignment3_creditcard.csv\")"
   ]
  },
  {
   "cell_type": "code",
   "execution_count": 3,
   "metadata": {
    "colab": {
     "base_uri": "https://localhost:8080/",
     "height": 220
    },
    "id": "v98OeXW5RVoB",
    "outputId": "42afeddc-07e6-4224-95ee-08b455f72475"
   },
   "outputs": [
    {
     "data": {
      "text/html": [
       "<div>\n",
       "<style scoped>\n",
       "    .dataframe tbody tr th:only-of-type {\n",
       "        vertical-align: middle;\n",
       "    }\n",
       "\n",
       "    .dataframe tbody tr th {\n",
       "        vertical-align: top;\n",
       "    }\n",
       "\n",
       "    .dataframe thead th {\n",
       "        text-align: right;\n",
       "    }\n",
       "</style>\n",
       "<table border=\"1\" class=\"dataframe\">\n",
       "  <thead>\n",
       "    <tr style=\"text-align: right;\">\n",
       "      <th></th>\n",
       "      <th>V1</th>\n",
       "      <th>V2</th>\n",
       "      <th>V3</th>\n",
       "      <th>V4</th>\n",
       "      <th>V5</th>\n",
       "      <th>V6</th>\n",
       "      <th>V7</th>\n",
       "      <th>V8</th>\n",
       "      <th>V9</th>\n",
       "      <th>V10</th>\n",
       "      <th>...</th>\n",
       "      <th>V20</th>\n",
       "      <th>V21</th>\n",
       "      <th>V22</th>\n",
       "      <th>V23</th>\n",
       "      <th>V24</th>\n",
       "      <th>V25</th>\n",
       "      <th>V26</th>\n",
       "      <th>V27</th>\n",
       "      <th>V28</th>\n",
       "      <th>Class</th>\n",
       "    </tr>\n",
       "  </thead>\n",
       "  <tbody>\n",
       "    <tr>\n",
       "      <th>0</th>\n",
       "      <td>-1.848212</td>\n",
       "      <td>2.384900</td>\n",
       "      <td>0.379573</td>\n",
       "      <td>1.048381</td>\n",
       "      <td>-0.845070</td>\n",
       "      <td>2.537837</td>\n",
       "      <td>-4.542983</td>\n",
       "      <td>-10.201458</td>\n",
       "      <td>-1.504967</td>\n",
       "      <td>-2.234167</td>\n",
       "      <td>...</td>\n",
       "      <td>2.585817</td>\n",
       "      <td>-5.291690</td>\n",
       "      <td>0.859364</td>\n",
       "      <td>0.423231</td>\n",
       "      <td>-0.506985</td>\n",
       "      <td>1.020052</td>\n",
       "      <td>-0.627751</td>\n",
       "      <td>-0.017753</td>\n",
       "      <td>0.280982</td>\n",
       "      <td>0</td>\n",
       "    </tr>\n",
       "    <tr>\n",
       "      <th>1</th>\n",
       "      <td>2.071805</td>\n",
       "      <td>-0.477943</td>\n",
       "      <td>-1.444444</td>\n",
       "      <td>-0.548657</td>\n",
       "      <td>0.010036</td>\n",
       "      <td>-0.582242</td>\n",
       "      <td>-0.042878</td>\n",
       "      <td>-0.247160</td>\n",
       "      <td>1.171923</td>\n",
       "      <td>-0.342382</td>\n",
       "      <td>...</td>\n",
       "      <td>-0.077306</td>\n",
       "      <td>0.042858</td>\n",
       "      <td>0.390125</td>\n",
       "      <td>0.041569</td>\n",
       "      <td>0.598427</td>\n",
       "      <td>0.098803</td>\n",
       "      <td>0.979686</td>\n",
       "      <td>-0.093244</td>\n",
       "      <td>-0.065615</td>\n",
       "      <td>0</td>\n",
       "    </tr>\n",
       "    <tr>\n",
       "      <th>2</th>\n",
       "      <td>-2.985294</td>\n",
       "      <td>-2.747472</td>\n",
       "      <td>1.194068</td>\n",
       "      <td>-0.003036</td>\n",
       "      <td>-1.151041</td>\n",
       "      <td>-0.263559</td>\n",
       "      <td>0.553500</td>\n",
       "      <td>0.635600</td>\n",
       "      <td>0.438545</td>\n",
       "      <td>-1.806488</td>\n",
       "      <td>...</td>\n",
       "      <td>1.345776</td>\n",
       "      <td>0.373760</td>\n",
       "      <td>-0.385777</td>\n",
       "      <td>1.197596</td>\n",
       "      <td>0.407229</td>\n",
       "      <td>0.008013</td>\n",
       "      <td>0.762362</td>\n",
       "      <td>-0.299024</td>\n",
       "      <td>-0.303929</td>\n",
       "      <td>0</td>\n",
       "    </tr>\n",
       "    <tr>\n",
       "      <th>3</th>\n",
       "      <td>-1.479452</td>\n",
       "      <td>1.542874</td>\n",
       "      <td>0.290895</td>\n",
       "      <td>0.838142</td>\n",
       "      <td>-0.529290</td>\n",
       "      <td>-0.717661</td>\n",
       "      <td>0.484516</td>\n",
       "      <td>0.545092</td>\n",
       "      <td>-0.780767</td>\n",
       "      <td>0.324804</td>\n",
       "      <td>...</td>\n",
       "      <td>0.038397</td>\n",
       "      <td>0.116771</td>\n",
       "      <td>0.405560</td>\n",
       "      <td>-0.116453</td>\n",
       "      <td>0.541275</td>\n",
       "      <td>-0.216665</td>\n",
       "      <td>-0.415578</td>\n",
       "      <td>0.027126</td>\n",
       "      <td>-0.150347</td>\n",
       "      <td>0</td>\n",
       "    </tr>\n",
       "    <tr>\n",
       "      <th>4</th>\n",
       "      <td>-0.281976</td>\n",
       "      <td>-0.309699</td>\n",
       "      <td>-2.162299</td>\n",
       "      <td>-0.851514</td>\n",
       "      <td>0.106167</td>\n",
       "      <td>-1.483888</td>\n",
       "      <td>1.930994</td>\n",
       "      <td>-0.843049</td>\n",
       "      <td>-1.249272</td>\n",
       "      <td>1.079608</td>\n",
       "      <td>...</td>\n",
       "      <td>-0.875516</td>\n",
       "      <td>-0.004199</td>\n",
       "      <td>1.015108</td>\n",
       "      <td>-0.026748</td>\n",
       "      <td>0.077115</td>\n",
       "      <td>-1.468822</td>\n",
       "      <td>0.751700</td>\n",
       "      <td>0.496732</td>\n",
       "      <td>0.331001</td>\n",
       "      <td>0</td>\n",
       "    </tr>\n",
       "  </tbody>\n",
       "</table>\n",
       "<p>5 rows × 29 columns</p>\n",
       "</div>"
      ],
      "text/plain": [
       "         V1        V2        V3        V4        V5        V6        V7  \\\n",
       "0 -1.848212  2.384900  0.379573  1.048381 -0.845070  2.537837 -4.542983   \n",
       "1  2.071805 -0.477943 -1.444444 -0.548657  0.010036 -0.582242 -0.042878   \n",
       "2 -2.985294 -2.747472  1.194068 -0.003036 -1.151041 -0.263559  0.553500   \n",
       "3 -1.479452  1.542874  0.290895  0.838142 -0.529290 -0.717661  0.484516   \n",
       "4 -0.281976 -0.309699 -2.162299 -0.851514  0.106167 -1.483888  1.930994   \n",
       "\n",
       "          V8        V9       V10  ...       V20       V21       V22       V23  \\\n",
       "0 -10.201458 -1.504967 -2.234167  ...  2.585817 -5.291690  0.859364  0.423231   \n",
       "1  -0.247160  1.171923 -0.342382  ... -0.077306  0.042858  0.390125  0.041569   \n",
       "2   0.635600  0.438545 -1.806488  ...  1.345776  0.373760 -0.385777  1.197596   \n",
       "3   0.545092 -0.780767  0.324804  ...  0.038397  0.116771  0.405560 -0.116453   \n",
       "4  -0.843049 -1.249272  1.079608  ... -0.875516 -0.004199  1.015108 -0.026748   \n",
       "\n",
       "        V24       V25       V26       V27       V28  Class  \n",
       "0 -0.506985  1.020052 -0.627751 -0.017753  0.280982      0  \n",
       "1  0.598427  0.098803  0.979686 -0.093244 -0.065615      0  \n",
       "2  0.407229  0.008013  0.762362 -0.299024 -0.303929      0  \n",
       "3  0.541275 -0.216665 -0.415578  0.027126 -0.150347      0  \n",
       "4  0.077115 -1.468822  0.751700  0.496732  0.331001      0  \n",
       "\n",
       "[5 rows x 29 columns]"
      ]
     },
     "execution_count": 3,
     "metadata": {},
     "output_type": "execute_result"
    }
   ],
   "source": [
    "data.head()"
   ]
  },
  {
   "cell_type": "markdown",
   "metadata": {},
   "source": [
    "전처리"
   ]
  },
  {
   "cell_type": "code",
   "execution_count": 28,
   "metadata": {},
   "outputs": [
    {
     "data": {
      "text/plain": [
       "V1       0\n",
       "V2       0\n",
       "V3       0\n",
       "V4       0\n",
       "V5       0\n",
       "V6       0\n",
       "V7       0\n",
       "V8       0\n",
       "V9       0\n",
       "V10      0\n",
       "V11      0\n",
       "V12      0\n",
       "V13      0\n",
       "V14      0\n",
       "V15      0\n",
       "V16      0\n",
       "V17      0\n",
       "V18      0\n",
       "V19      0\n",
       "V20      0\n",
       "V21      0\n",
       "V22      0\n",
       "V23      0\n",
       "V24      0\n",
       "V25      0\n",
       "V26      0\n",
       "V27      0\n",
       "V28      0\n",
       "Class    0\n",
       "dtype: int64"
      ]
     },
     "execution_count": 28,
     "metadata": {},
     "output_type": "execute_result"
    }
   ],
   "source": [
    "data.isnull().sum() #결측값은 없다"
   ]
  },
  {
   "cell_type": "code",
   "execution_count": 6,
   "metadata": {},
   "outputs": [],
   "source": [
    "#duplicate check\n",
    "data_d=data.copy()\n",
    "data_d.drop_duplicates(subset=None, inplace=True)"
   ]
  },
  {
   "cell_type": "markdown",
   "metadata": {},
   "source": [
    "중복된 값이 있나 확인하고 있다면 그 값을 제거해주도록 한다"
   ]
  },
  {
   "cell_type": "code",
   "execution_count": 8,
   "metadata": {},
   "outputs": [
    {
     "name": "stdout",
     "output_type": "stream",
     "text": [
      "(28678, 29)\n",
      "(28455, 29)\n"
     ]
    }
   ],
   "source": [
    "print(data.shape)\n",
    "print(data_d.shape)\n",
    "data = data_d"
   ]
  },
  {
   "cell_type": "code",
   "execution_count": 9,
   "metadata": {},
   "outputs": [
    {
     "data": {
      "image/png": "[encoded data removed]",
      "text/plain": [
       "<Figure size 1440x1440 with 29 Axes>"
      ]
     },
     "metadata": {
      "needs_background": "light"
     },
     "output_type": "display_data"
    }
   ],
   "source": [
    "def draw_histograms(dataframe, features, rows, cols):\n",
    "    fig=plt.figure(figsize=(20,20))\n",
    "    for i, feature in enumerate(features):\n",
    "        ax=fig.add_subplot(rows,cols,i+1)\n",
    "        dataframe[feature].hist(bins=20,ax=ax,facecolor='midnightblue')\n",
    "        ax.set_title(feature+\" Distribution\",color='DarkRed')\n",
    "        ax.set_yscale('log')\n",
    "    fig.tight_layout()  \n",
    "    plt.show()\n",
    "draw_histograms(data,data.columns,8,4)"
   ]
  },
  {
   "cell_type": "code",
   "execution_count": 10,
   "metadata": {},
   "outputs": [
    {
     "data": {
      "image/png": "[encoded data removed]",
      "text/plain": [
       "<Figure size 432x288 with 1 Axes>"
      ]
     },
     "metadata": {
      "needs_background": "light"
     },
     "output_type": "display_data"
    }
   ],
   "source": [
    "ax=sns.countplot(x='Class',data=data);\n",
    "ax.set_yscale('log')"
   ]
  },
  {
   "cell_type": "code",
   "execution_count": 11,
   "metadata": {},
   "outputs": [
    {
     "name": "stdout",
     "output_type": "stream",
     "text": [
      "<class 'pandas.core.frame.DataFrame'>\n",
      "Int64Index: 28455 entries, 0 to 28677\n",
      "Data columns (total 29 columns):\n",
      " #   Column  Non-Null Count  Dtype  \n",
      "---  ------  --------------  -----  \n",
      " 0   V1      28455 non-null  float64\n",
      " 1   V2      28455 non-null  float64\n",
      " 2   V3      28455 non-null  float64\n",
      " 3   V4      28455 non-null  float64\n",
      " 4   V5      28455 non-null  float64\n",
      " 5   V6      28455 non-null  float64\n",
      " 6   V7      28455 non-null  float64\n",
      " 7   V8      28455 non-null  float64\n",
      " 8   V9      28455 non-null  float64\n",
      " 9   V10     28455 non-null  float64\n",
      " 10  V11     28455 non-null  float64\n",
      " 11  V12     28455 non-null  float64\n",
      " 12  V13     28455 non-null  float64\n",
      " 13  V14     28455 non-null  float64\n",
      " 14  V15     28455 non-null  float64\n",
      " 15  V16     28455 non-null  float64\n",
      " 16  V17     28455 non-null  float64\n",
      " 17  V18     28455 non-null  float64\n",
      " 18  V19     28455 non-null  float64\n",
      " 19  V20     28455 non-null  float64\n",
      " 20  V21     28455 non-null  float64\n",
      " 21  V22     28455 non-null  float64\n",
      " 22  V23     28455 non-null  float64\n",
      " 23  V24     28455 non-null  float64\n",
      " 24  V25     28455 non-null  float64\n",
      " 25  V26     28455 non-null  float64\n",
      " 26  V27     28455 non-null  float64\n",
      " 27  V28     28455 non-null  float64\n",
      " 28  Class   28455 non-null  int64  \n",
      "dtypes: float64(28), int64(1)\n",
      "memory usage: 7.5 MB\n"
     ]
    }
   ],
   "source": [
    "data.info()"
   ]
  },
  {
   "cell_type": "code",
   "execution_count": 12,
   "metadata": {},
   "outputs": [],
   "source": [
    "estimators=[ 'V1', 'V2', 'V3', 'V4', 'V5', 'V6', 'V7', 'V8', 'V9', 'V10',\n",
    "       'V11', 'V12', 'V13', 'V14', 'V15', 'V16', 'V17', 'V18', 'V19', 'V20',\n",
    "       'V21', 'V22', 'V23', 'V24', 'V25', 'V26', 'V27', 'V28']\n",
    "\n",
    "X1 = data[estimators]\n",
    "y = data['Class']"
   ]
  },
  {
   "cell_type": "code",
   "execution_count": 18,
   "metadata": {},
   "outputs": [
    {
     "name": "stdout",
     "output_type": "stream",
     "text": [
      "Optimization terminated successfully.\n",
      "         Current function value: 0.010691\n",
      "         Iterations 12\n"
     ]
    }
   ],
   "source": [
    "X = sm.add_constant(X1) #상수항 결합\n",
    "reg_logit = sm.Logit(y,X) # 로지스틱회귀\n",
    "results_logit = reg_logit.fit()"
   ]
  },
  {
   "cell_type": "code",
   "execution_count": 19,
   "metadata": {},
   "outputs": [
    {
     "data": {
      "text/html": [
       "<table class=\"simpletable\">\n",
       "<caption>Logit Regression Results</caption>\n",
       "<tr>\n",
       "  <th>Dep. Variable:</th>         <td>Class</td>      <th>  No. Observations:  </th>  <td> 28455</td> \n",
       "</tr>\n",
       "<tr>\n",
       "  <th>Model:</th>                 <td>Logit</td>      <th>  Df Residuals:      </th>  <td> 28426</td> \n",
       "</tr>\n",
       "<tr>\n",
       "  <th>Method:</th>                 <td>MLE</td>       <th>  Df Model:          </th>  <td>    28</td> \n",
       "</tr>\n",
       "<tr>\n",
       "  <th>Date:</th>            <td>Tue, 02 Aug 2022</td> <th>  Pseudo R-squ.:     </th>  <td>0.7789</td> \n",
       "</tr>\n",
       "<tr>\n",
       "  <th>Time:</th>                <td>15:15:36</td>     <th>  Log-Likelihood:    </th> <td> -304.20</td>\n",
       "</tr>\n",
       "<tr>\n",
       "  <th>converged:</th>             <td>True</td>       <th>  LL-Null:           </th> <td> -1375.5</td>\n",
       "</tr>\n",
       "<tr>\n",
       "  <th>Covariance Type:</th>     <td>nonrobust</td>    <th>  LLR p-value:       </th>  <td> 0.000</td> \n",
       "</tr>\n",
       "</table>\n",
       "<table class=\"simpletable\">\n",
       "<tr>\n",
       "    <td></td>       <th>coef</th>     <th>std err</th>      <th>z</th>      <th>P>|z|</th>  <th>[0.025</th>    <th>0.975]</th>  \n",
       "</tr>\n",
       "<tr>\n",
       "  <th>const</th> <td>   -7.6518</td> <td>    0.283</td> <td>  -27.060</td> <td> 0.000</td> <td>   -8.206</td> <td>   -7.098</td>\n",
       "</tr>\n",
       "<tr>\n",
       "  <th>V1</th>    <td>    0.0734</td> <td>    0.073</td> <td>    1.004</td> <td> 0.316</td> <td>   -0.070</td> <td>    0.217</td>\n",
       "</tr>\n",
       "<tr>\n",
       "  <th>V2</th>    <td>   -0.0691</td> <td>    0.096</td> <td>   -0.721</td> <td> 0.471</td> <td>   -0.257</td> <td>    0.119</td>\n",
       "</tr>\n",
       "<tr>\n",
       "  <th>V3</th>    <td>   -0.0081</td> <td>    0.084</td> <td>   -0.097</td> <td> 0.923</td> <td>   -0.172</td> <td>    0.156</td>\n",
       "</tr>\n",
       "<tr>\n",
       "  <th>V4</th>    <td>    0.8480</td> <td>    0.134</td> <td>    6.319</td> <td> 0.000</td> <td>    0.585</td> <td>    1.111</td>\n",
       "</tr>\n",
       "<tr>\n",
       "  <th>V5</th>    <td>    0.0237</td> <td>    0.124</td> <td>    0.192</td> <td> 0.848</td> <td>   -0.219</td> <td>    0.266</td>\n",
       "</tr>\n",
       "<tr>\n",
       "  <th>V6</th>    <td>   -0.2133</td> <td>    0.160</td> <td>   -1.334</td> <td> 0.182</td> <td>   -0.527</td> <td>    0.100</td>\n",
       "</tr>\n",
       "<tr>\n",
       "  <th>V7</th>    <td>   -0.0150</td> <td>    0.105</td> <td>   -0.142</td> <td> 0.887</td> <td>   -0.221</td> <td>    0.191</td>\n",
       "</tr>\n",
       "<tr>\n",
       "  <th>V8</th>    <td>   -0.2183</td> <td>    0.070</td> <td>   -3.136</td> <td> 0.002</td> <td>   -0.355</td> <td>   -0.082</td>\n",
       "</tr>\n",
       "<tr>\n",
       "  <th>V9</th>    <td>   -0.0239</td> <td>    0.205</td> <td>   -0.117</td> <td> 0.907</td> <td>   -0.426</td> <td>    0.378</td>\n",
       "</tr>\n",
       "<tr>\n",
       "  <th>V10</th>   <td>   -0.8071</td> <td>    0.204</td> <td>   -3.957</td> <td> 0.000</td> <td>   -1.207</td> <td>   -0.407</td>\n",
       "</tr>\n",
       "<tr>\n",
       "  <th>V11</th>   <td>    0.0804</td> <td>    0.136</td> <td>    0.591</td> <td> 0.555</td> <td>   -0.186</td> <td>    0.347</td>\n",
       "</tr>\n",
       "<tr>\n",
       "  <th>V12</th>   <td>   -0.3065</td> <td>    0.142</td> <td>   -2.156</td> <td> 0.031</td> <td>   -0.585</td> <td>   -0.028</td>\n",
       "</tr>\n",
       "<tr>\n",
       "  <th>V13</th>   <td>   -0.2054</td> <td>    0.135</td> <td>   -1.520</td> <td> 0.128</td> <td>   -0.470</td> <td>    0.059</td>\n",
       "</tr>\n",
       "<tr>\n",
       "  <th>V14</th>   <td>   -0.5241</td> <td>    0.109</td> <td>   -4.825</td> <td> 0.000</td> <td>   -0.737</td> <td>   -0.311</td>\n",
       "</tr>\n",
       "<tr>\n",
       "  <th>V15</th>   <td>   -0.2116</td> <td>    0.151</td> <td>   -1.404</td> <td> 0.160</td> <td>   -0.507</td> <td>    0.084</td>\n",
       "</tr>\n",
       "<tr>\n",
       "  <th>V16</th>   <td>   -0.2644</td> <td>    0.239</td> <td>   -1.107</td> <td> 0.268</td> <td>   -0.733</td> <td>    0.204</td>\n",
       "</tr>\n",
       "<tr>\n",
       "  <th>V17</th>   <td>    0.0846</td> <td>    0.122</td> <td>    0.693</td> <td> 0.488</td> <td>   -0.155</td> <td>    0.324</td>\n",
       "</tr>\n",
       "<tr>\n",
       "  <th>V18</th>   <td>   -0.2196</td> <td>    0.234</td> <td>   -0.937</td> <td> 0.349</td> <td>   -0.679</td> <td>    0.240</td>\n",
       "</tr>\n",
       "<tr>\n",
       "  <th>V19</th>   <td>   -0.0500</td> <td>    0.176</td> <td>   -0.284</td> <td> 0.776</td> <td>   -0.395</td> <td>    0.295</td>\n",
       "</tr>\n",
       "<tr>\n",
       "  <th>V20</th>   <td>   -0.3080</td> <td>    0.132</td> <td>   -2.327</td> <td> 0.020</td> <td>   -0.567</td> <td>   -0.049</td>\n",
       "</tr>\n",
       "<tr>\n",
       "  <th>V21</th>   <td>    0.4499</td> <td>    0.119</td> <td>    3.778</td> <td> 0.000</td> <td>    0.216</td> <td>    0.683</td>\n",
       "</tr>\n",
       "<tr>\n",
       "  <th>V22</th>   <td>    0.6796</td> <td>    0.226</td> <td>    3.011</td> <td> 0.003</td> <td>    0.237</td> <td>    1.122</td>\n",
       "</tr>\n",
       "<tr>\n",
       "  <th>V23</th>   <td>   -0.1216</td> <td>    0.102</td> <td>   -1.188</td> <td> 0.235</td> <td>   -0.322</td> <td>    0.079</td>\n",
       "</tr>\n",
       "<tr>\n",
       "  <th>V24</th>   <td>    0.1396</td> <td>    0.294</td> <td>    0.475</td> <td> 0.635</td> <td>   -0.436</td> <td>    0.715</td>\n",
       "</tr>\n",
       "<tr>\n",
       "  <th>V25</th>   <td>   -0.1349</td> <td>    0.242</td> <td>   -0.556</td> <td> 0.578</td> <td>   -0.610</td> <td>    0.340</td>\n",
       "</tr>\n",
       "<tr>\n",
       "  <th>V26</th>   <td>   -0.4505</td> <td>    0.345</td> <td>   -1.306</td> <td> 0.192</td> <td>   -1.126</td> <td>    0.226</td>\n",
       "</tr>\n",
       "<tr>\n",
       "  <th>V27</th>   <td>   -0.7928</td> <td>    0.288</td> <td>   -2.753</td> <td> 0.006</td> <td>   -1.357</td> <td>   -0.228</td>\n",
       "</tr>\n",
       "<tr>\n",
       "  <th>V28</th>   <td>   -0.1312</td> <td>    0.185</td> <td>   -0.711</td> <td> 0.477</td> <td>   -0.493</td> <td>    0.230</td>\n",
       "</tr>\n",
       "</table><br/><br/>Possibly complete quasi-separation: A fraction 0.15 of observations can be<br/>perfectly predicted. This might indicate that there is complete<br/>quasi-separation. In this case some parameters will not be identified."
      ],
      "text/plain": [
       "<class 'statsmodels.iolib.summary.Summary'>\n",
       "\"\"\"\n",
       "                           Logit Regression Results                           \n",
       "==============================================================================\n",
       "Dep. Variable:                  Class   No. Observations:                28455\n",
       "Model:                          Logit   Df Residuals:                    28426\n",
       "Method:                           MLE   Df Model:                           28\n",
       "Date:                Tue, 02 Aug 2022   Pseudo R-squ.:                  0.7789\n",
       "Time:                        15:15:36   Log-Likelihood:                -304.20\n",
       "converged:                       True   LL-Null:                       -1375.5\n",
       "Covariance Type:            nonrobust   LLR p-value:                     0.000\n",
       "==============================================================================\n",
       "                 coef    std err          z      P>|z|      [0.025      0.975]\n",
       "------------------------------------------------------------------------------\n",
       "const         -7.6518      0.283    -27.060      0.000      -8.206      -7.098\n",
       "V1             0.0734      0.073      1.004      0.316      -0.070       0.217\n",
       "V2            -0.0691      0.096     -0.721      0.471      -0.257       0.119\n",
       "V3            -0.0081      0.084     -0.097      0.923      -0.172       0.156\n",
       "V4             0.8480      0.134      6.319      0.000       0.585       1.111\n",
       "V5             0.0237      0.124      0.192      0.848      -0.219       0.266\n",
       "V6            -0.2133      0.160     -1.334      0.182      -0.527       0.100\n",
       "V7            -0.0150      0.105     -0.142      0.887      -0.221       0.191\n",
       "V8            -0.2183      0.070     -3.136      0.002      -0.355      -0.082\n",
       "V9            -0.0239      0.205     -0.117      0.907      -0.426       0.378\n",
       "V10           -0.8071      0.204     -3.957      0.000      -1.207      -0.407\n",
       "V11            0.0804      0.136      0.591      0.555      -0.186       0.347\n",
       "V12           -0.3065      0.142     -2.156      0.031      -0.585      -0.028\n",
       "V13           -0.2054      0.135     -1.520      0.128      -0.470       0.059\n",
       "V14           -0.5241      0.109     -4.825      0.000      -0.737      -0.311\n",
       "V15           -0.2116      0.151     -1.404      0.160      -0.507       0.084\n",
       "V16           -0.2644      0.239     -1.107      0.268      -0.733       0.204\n",
       "V17            0.0846      0.122      0.693      0.488      -0.155       0.324\n",
       "V18           -0.2196      0.234     -0.937      0.349      -0.679       0.240\n",
       "V19           -0.0500      0.176     -0.284      0.776      -0.395       0.295\n",
       "V20           -0.3080      0.132     -2.327      0.020      -0.567      -0.049\n",
       "V21            0.4499      0.119      3.778      0.000       0.216       0.683\n",
       "V22            0.6796      0.226      3.011      0.003       0.237       1.122\n",
       "V23           -0.1216      0.102     -1.188      0.235      -0.322       0.079\n",
       "V24            0.1396      0.294      0.475      0.635      -0.436       0.715\n",
       "V25           -0.1349      0.242     -0.556      0.578      -0.610       0.340\n",
       "V26           -0.4505      0.345     -1.306      0.192      -1.126       0.226\n",
       "V27           -0.7928      0.288     -2.753      0.006      -1.357      -0.228\n",
       "V28           -0.1312      0.185     -0.711      0.477      -0.493       0.230\n",
       "==============================================================================\n",
       "\n",
       "Possibly complete quasi-separation: A fraction 0.15 of observations can be\n",
       "perfectly predicted. This might indicate that there is complete\n",
       "quasi-separation. In this case some parameters will not be identified.\n",
       "\"\"\""
      ]
     },
     "execution_count": 19,
     "metadata": {},
     "output_type": "execute_result"
    }
   ],
   "source": [
    "results_logit.summary()"
   ]
  },
  {
   "cell_type": "markdown",
   "metadata": {},
   "source": [
    "Feature Selection: Backward elemination (P-value approach)"
   ]
  },
  {
   "cell_type": "code",
   "execution_count": 22,
   "metadata": {},
   "outputs": [],
   "source": [
    "col=X1.columns[:-1]\n",
    "\n",
    "def back_feature_elem (data_frame,dep_var,col_list):\n",
    "    \"\"\" Takes in the dataframe, the dependent variable and a list of column names, runs the regression repeatedly eleminating feature with the highest\n",
    "    P-value above alpha one at a time and returns the regression summary with all p-values below alpha\"\"\"\n",
    "\n",
    "    while len(col_list)>0 :\n",
    "        model=sm.Logit(dep_var,data_frame[col_list])\n",
    "        result=model.fit(disp=0)\n",
    "        largest_pvalue=round(result.pvalues,3).nlargest(1)\n",
    "        if largest_pvalue[0]<(0.0001):\n",
    "            return result\n",
    "            break\n",
    "        else:\n",
    "            col_list=col_list.drop(largest_pvalue.index)\n",
    "\n",
    "result=back_feature_elem(X,data.Class,col)"
   ]
  },
  {
   "cell_type": "code",
   "execution_count": 23,
   "metadata": {},
   "outputs": [
    {
     "data": {
      "text/html": [
       "<table class=\"simpletable\">\n",
       "<caption>Logit Regression Results</caption>\n",
       "<tr>\n",
       "  <th>Dep. Variable:</th>         <td>Class</td>      <th>  No. Observations:  </th>  <td> 28455</td> \n",
       "</tr>\n",
       "<tr>\n",
       "  <th>Model:</th>                 <td>Logit</td>      <th>  Df Residuals:      </th>  <td> 28428</td> \n",
       "</tr>\n",
       "<tr>\n",
       "  <th>Method:</th>                 <td>MLE</td>       <th>  Df Model:          </th>  <td>    26</td> \n",
       "</tr>\n",
       "<tr>\n",
       "  <th>Date:</th>            <td>Tue, 02 Aug 2022</td> <th>  Pseudo R-squ.:     </th>  <td>  -inf</td> \n",
       "</tr>\n",
       "<tr>\n",
       "  <th>Time:</th>                <td>15:17:50</td>     <th>  Log-Likelihood:    </th> <td>    -inf</td>\n",
       "</tr>\n",
       "<tr>\n",
       "  <th>converged:</th>             <td>True</td>       <th>  LL-Null:           </th> <td> -1375.5</td>\n",
       "</tr>\n",
       "<tr>\n",
       "  <th>Covariance Type:</th>     <td>nonrobust</td>    <th>  LLR p-value:       </th>  <td> 1.000</td> \n",
       "</tr>\n",
       "</table>\n",
       "<table class=\"simpletable\">\n",
       "<tr>\n",
       "   <td></td>      <th>coef</th>     <th>std err</th>      <th>z</th>      <th>P>|z|</th>  <th>[0.025</th>    <th>0.975]</th>  \n",
       "</tr>\n",
       "<tr>\n",
       "  <th>V1</th>  <td>   -3.6160</td> <td>    0.038</td> <td>  -96.346</td> <td> 0.000</td> <td>   -3.690</td> <td>   -3.542</td>\n",
       "</tr>\n",
       "<tr>\n",
       "  <th>V2</th>  <td>    3.6137</td> <td>    0.039</td> <td>   92.058</td> <td> 0.000</td> <td>    3.537</td> <td>    3.691</td>\n",
       "</tr>\n",
       "<tr>\n",
       "  <th>V3</th>  <td>   -8.1047</td> <td>    0.083</td> <td>  -97.331</td> <td> 0.000</td> <td>   -8.268</td> <td>   -7.941</td>\n",
       "</tr>\n",
       "<tr>\n",
       "  <th>V4</th>  <td>    4.7776</td> <td>    0.050</td> <td>   95.323</td> <td> 0.000</td> <td>    4.679</td> <td>    4.876</td>\n",
       "</tr>\n",
       "<tr>\n",
       "  <th>V5</th>  <td>   -5.5781</td> <td>    0.059</td> <td>  -95.266</td> <td> 0.000</td> <td>   -5.693</td> <td>   -5.463</td>\n",
       "</tr>\n",
       "<tr>\n",
       "  <th>V6</th>  <td>   -1.9268</td> <td>    0.023</td> <td>  -83.084</td> <td> 0.000</td> <td>   -1.972</td> <td>   -1.881</td>\n",
       "</tr>\n",
       "<tr>\n",
       "  <th>V7</th>  <td>  -10.5665</td> <td>    0.109</td> <td>  -96.638</td> <td> 0.000</td> <td>  -10.781</td> <td>  -10.352</td>\n",
       "</tr>\n",
       "<tr>\n",
       "  <th>V8</th>  <td>    2.5370</td> <td>    0.029</td> <td>   86.396</td> <td> 0.000</td> <td>    2.479</td> <td>    2.595</td>\n",
       "</tr>\n",
       "<tr>\n",
       "  <th>V9</th>  <td>   -5.2308</td> <td>    0.056</td> <td>  -93.621</td> <td> 0.000</td> <td>   -5.340</td> <td>   -5.121</td>\n",
       "</tr>\n",
       "<tr>\n",
       "  <th>V10</th> <td>  -12.0925</td> <td>    0.125</td> <td>  -96.633</td> <td> 0.000</td> <td>  -12.338</td> <td>  -11.847</td>\n",
       "</tr>\n",
       "<tr>\n",
       "  <th>V11</th> <td>    8.4204</td> <td>    0.088</td> <td>   96.212</td> <td> 0.000</td> <td>    8.249</td> <td>    8.592</td>\n",
       "</tr>\n",
       "<tr>\n",
       "  <th>V12</th> <td>  -15.2085</td> <td>    0.157</td> <td>  -97.125</td> <td> 0.000</td> <td>  -15.515</td> <td>  -14.902</td>\n",
       "</tr>\n",
       "<tr>\n",
       "  <th>V13</th> <td>    0.1616</td> <td>    0.016</td> <td>   10.131</td> <td> 0.000</td> <td>    0.130</td> <td>    0.193</td>\n",
       "</tr>\n",
       "<tr>\n",
       "  <th>V14</th> <td>  -15.7035</td> <td>    0.161</td> <td>  -97.256</td> <td> 0.000</td> <td>  -16.020</td> <td>  -15.387</td>\n",
       "</tr>\n",
       "<tr>\n",
       "  <th>V15</th> <td>   -0.3423</td> <td>    0.018</td> <td>  -19.195</td> <td> 0.000</td> <td>   -0.377</td> <td>   -0.307</td>\n",
       "</tr>\n",
       "<tr>\n",
       "  <th>V16</th> <td>  -14.3132</td> <td>    0.148</td> <td>  -96.786</td> <td> 0.000</td> <td>  -14.603</td> <td>  -14.023</td>\n",
       "</tr>\n",
       "<tr>\n",
       "  <th>V17</th> <td>  -25.9287</td> <td>    0.266</td> <td>  -97.453</td> <td> 0.000</td> <td>  -26.450</td> <td>  -25.407</td>\n",
       "</tr>\n",
       "<tr>\n",
       "  <th>V18</th> <td>   -9.6584</td> <td>    0.100</td> <td>  -96.270</td> <td> 0.000</td> <td>   -9.855</td> <td>   -9.462</td>\n",
       "</tr>\n",
       "<tr>\n",
       "  <th>V19</th> <td>    3.1185</td> <td>    0.037</td> <td>   83.540</td> <td> 0.000</td> <td>    3.045</td> <td>    3.192</td>\n",
       "</tr>\n",
       "<tr>\n",
       "  <th>V20</th> <td>    2.0131</td> <td>    0.035</td> <td>   57.676</td> <td> 0.000</td> <td>    1.945</td> <td>    2.082</td>\n",
       "</tr>\n",
       "<tr>\n",
       "  <th>V21</th> <td>    2.2191</td> <td>    0.031</td> <td>   70.481</td> <td> 0.000</td> <td>    2.157</td> <td>    2.281</td>\n",
       "</tr>\n",
       "<tr>\n",
       "  <th>V22</th> <td>    0.1665</td> <td>    0.022</td> <td>    7.519</td> <td> 0.000</td> <td>    0.123</td> <td>    0.210</td>\n",
       "</tr>\n",
       "<tr>\n",
       "  <th>V23</th> <td>   -0.1343</td> <td>    0.033</td> <td>   -4.123</td> <td> 0.000</td> <td>   -0.198</td> <td>   -0.070</td>\n",
       "</tr>\n",
       "<tr>\n",
       "  <th>V24</th> <td>   -0.1488</td> <td>    0.026</td> <td>   -5.693</td> <td> 0.000</td> <td>   -0.200</td> <td>   -0.098</td>\n",
       "</tr>\n",
       "<tr>\n",
       "  <th>V25</th> <td>    0.5944</td> <td>    0.033</td> <td>   17.975</td> <td> 0.000</td> <td>    0.530</td> <td>    0.659</td>\n",
       "</tr>\n",
       "<tr>\n",
       "  <th>V26</th> <td>    0.2031</td> <td>    0.033</td> <td>    6.186</td> <td> 0.000</td> <td>    0.139</td> <td>    0.268</td>\n",
       "</tr>\n",
       "<tr>\n",
       "  <th>V27</th> <td>    2.5946</td> <td>    0.054</td> <td>   48.208</td> <td> 0.000</td> <td>    2.489</td> <td>    2.700</td>\n",
       "</tr>\n",
       "</table>"
      ],
      "text/plain": [
       "<class 'statsmodels.iolib.summary.Summary'>\n",
       "\"\"\"\n",
       "                           Logit Regression Results                           \n",
       "==============================================================================\n",
       "Dep. Variable:                  Class   No. Observations:                28455\n",
       "Model:                          Logit   Df Residuals:                    28428\n",
       "Method:                           MLE   Df Model:                           26\n",
       "Date:                Tue, 02 Aug 2022   Pseudo R-squ.:                    -inf\n",
       "Time:                        15:17:50   Log-Likelihood:                   -inf\n",
       "converged:                       True   LL-Null:                       -1375.5\n",
       "Covariance Type:            nonrobust   LLR p-value:                     1.000\n",
       "==============================================================================\n",
       "                 coef    std err          z      P>|z|      [0.025      0.975]\n",
       "------------------------------------------------------------------------------\n",
       "V1            -3.6160      0.038    -96.346      0.000      -3.690      -3.542\n",
       "V2             3.6137      0.039     92.058      0.000       3.537       3.691\n",
       "V3            -8.1047      0.083    -97.331      0.000      -8.268      -7.941\n",
       "V4             4.7776      0.050     95.323      0.000       4.679       4.876\n",
       "V5            -5.5781      0.059    -95.266      0.000      -5.693      -5.463\n",
       "V6            -1.9268      0.023    -83.084      0.000      -1.972      -1.881\n",
       "V7           -10.5665      0.109    -96.638      0.000     -10.781     -10.352\n",
       "V8             2.5370      0.029     86.396      0.000       2.479       2.595\n",
       "V9            -5.2308      0.056    -93.621      0.000      -5.340      -5.121\n",
       "V10          -12.0925      0.125    -96.633      0.000     -12.338     -11.847\n",
       "V11            8.4204      0.088     96.212      0.000       8.249       8.592\n",
       "V12          -15.2085      0.157    -97.125      0.000     -15.515     -14.902\n",
       "V13            0.1616      0.016     10.131      0.000       0.130       0.193\n",
       "V14          -15.7035      0.161    -97.256      0.000     -16.020     -15.387\n",
       "V15           -0.3423      0.018    -19.195      0.000      -0.377      -0.307\n",
       "V16          -14.3132      0.148    -96.786      0.000     -14.603     -14.023\n",
       "V17          -25.9287      0.266    -97.453      0.000     -26.450     -25.407\n",
       "V18           -9.6584      0.100    -96.270      0.000      -9.855      -9.462\n",
       "V19            3.1185      0.037     83.540      0.000       3.045       3.192\n",
       "V20            2.0131      0.035     57.676      0.000       1.945       2.082\n",
       "V21            2.2191      0.031     70.481      0.000       2.157       2.281\n",
       "V22            0.1665      0.022      7.519      0.000       0.123       0.210\n",
       "V23           -0.1343      0.033     -4.123      0.000      -0.198      -0.070\n",
       "V24           -0.1488      0.026     -5.693      0.000      -0.200      -0.098\n",
       "V25            0.5944      0.033     17.975      0.000       0.530       0.659\n",
       "V26            0.2031      0.033      6.186      0.000       0.139       0.268\n",
       "V27            2.5946      0.054     48.208      0.000       2.489       2.700\n",
       "==============================================================================\n",
       "\"\"\""
      ]
     },
     "execution_count": 23,
     "metadata": {},
     "output_type": "execute_result"
    }
   ],
   "source": [
    "result.summary()"
   ]
  },
  {
   "cell_type": "markdown",
   "metadata": {},
   "source": [
    "V28 변수만 삭제해줘도 p-value의 값이 상대적으로 큰 변수가 사라진다 "
   ]
  },
  {
   "cell_type": "code",
   "execution_count": 25,
   "metadata": {},
   "outputs": [],
   "source": [
    "new_features=data[['V1', 'V2', 'V3', 'V4', 'V5', 'V6', 'V7', 'V8', 'V9', 'V10',\n",
    "       'V11', 'V12', 'V13', 'V14', 'V15', 'V16', 'V17', 'V20','V21', 'V22', 'V23', 'V25', 'V26', 'V27','Class']]\n",
    "x=new_features.iloc[:,:-1]\n",
    "y=new_features.iloc[:,-1]\n",
    "from sklearn.model_selection import train_test_split\n",
    "x_train,x_test,y_train,y_test=train_test_split(x,y,test_size=.2,stratify=y,random_state=42)"
   ]
  },
  {
   "cell_type": "code",
   "execution_count": 26,
   "metadata": {},
   "outputs": [],
   "source": [
    "from sklearn.linear_model import LogisticRegression\n",
    "logreg=LogisticRegression()\n",
    "logreg.fit(x_train,y_train)\n",
    "y_pred=logreg.predict(x_test)"
   ]
  },
  {
   "cell_type": "markdown",
   "metadata": {},
   "source": [
    "### **$\\beta$ 값 확인하기**"
   ]
  },
  {
   "cell_type": "code",
   "execution_count": 33,
   "metadata": {},
   "outputs": [
    {
     "data": {
      "text/html": [
       "<div>\n",
       "<style scoped>\n",
       "    .dataframe tbody tr th:only-of-type {\n",
       "        vertical-align: middle;\n",
       "    }\n",
       "\n",
       "    .dataframe tbody tr th {\n",
       "        vertical-align: top;\n",
       "    }\n",
       "\n",
       "    .dataframe thead th {\n",
       "        text-align: right;\n",
       "    }\n",
       "</style>\n",
       "<table border=\"1\" class=\"dataframe\">\n",
       "  <thead>\n",
       "    <tr style=\"text-align: right;\">\n",
       "      <th></th>\n",
       "      <th>beta</th>\n",
       "      <th>exp(beta)</th>\n",
       "      <th>interprt</th>\n",
       "    </tr>\n",
       "  </thead>\n",
       "  <tbody>\n",
       "    <tr>\n",
       "      <th>const</th>\n",
       "      <td>-7.57</td>\n",
       "      <td>0.0</td>\n",
       "      <td>protective</td>\n",
       "    </tr>\n",
       "    <tr>\n",
       "      <th>V1</th>\n",
       "      <td>0.06</td>\n",
       "      <td>1.06</td>\n",
       "      <td>risky</td>\n",
       "    </tr>\n",
       "    <tr>\n",
       "      <th>V2</th>\n",
       "      <td>-0.06</td>\n",
       "      <td>0.94</td>\n",
       "      <td>protective</td>\n",
       "    </tr>\n",
       "    <tr>\n",
       "      <th>V3</th>\n",
       "      <td>0.05</td>\n",
       "      <td>1.05</td>\n",
       "      <td>risky</td>\n",
       "    </tr>\n",
       "    <tr>\n",
       "      <th>V4</th>\n",
       "      <td>0.8</td>\n",
       "      <td>2.23</td>\n",
       "      <td>risky</td>\n",
       "    </tr>\n",
       "    <tr>\n",
       "      <th>V5</th>\n",
       "      <td>-0.01</td>\n",
       "      <td>0.99</td>\n",
       "      <td>protective</td>\n",
       "    </tr>\n",
       "    <tr>\n",
       "      <th>V6</th>\n",
       "      <td>-0.23</td>\n",
       "      <td>0.79</td>\n",
       "      <td>protective</td>\n",
       "    </tr>\n",
       "    <tr>\n",
       "      <th>V7</th>\n",
       "      <td>-0.05</td>\n",
       "      <td>0.95</td>\n",
       "      <td>protective</td>\n",
       "    </tr>\n",
       "    <tr>\n",
       "      <th>V8</th>\n",
       "      <td>-0.23</td>\n",
       "      <td>0.79</td>\n",
       "      <td>protective</td>\n",
       "    </tr>\n",
       "    <tr>\n",
       "      <th>V9</th>\n",
       "      <td>0.05</td>\n",
       "      <td>1.05</td>\n",
       "      <td>risky</td>\n",
       "    </tr>\n",
       "    <tr>\n",
       "      <th>V10</th>\n",
       "      <td>-0.55</td>\n",
       "      <td>0.58</td>\n",
       "      <td>protective</td>\n",
       "    </tr>\n",
       "    <tr>\n",
       "      <th>V11</th>\n",
       "      <td>0.16</td>\n",
       "      <td>1.17</td>\n",
       "      <td>risky</td>\n",
       "    </tr>\n",
       "    <tr>\n",
       "      <th>V12</th>\n",
       "      <td>-0.29</td>\n",
       "      <td>0.75</td>\n",
       "      <td>protective</td>\n",
       "    </tr>\n",
       "    <tr>\n",
       "      <th>V13</th>\n",
       "      <td>-0.22</td>\n",
       "      <td>0.8</td>\n",
       "      <td>protective</td>\n",
       "    </tr>\n",
       "    <tr>\n",
       "      <th>V14</th>\n",
       "      <td>-0.62</td>\n",
       "      <td>0.54</td>\n",
       "      <td>protective</td>\n",
       "    </tr>\n",
       "    <tr>\n",
       "      <th>V15</th>\n",
       "      <td>-0.06</td>\n",
       "      <td>0.94</td>\n",
       "      <td>protective</td>\n",
       "    </tr>\n",
       "    <tr>\n",
       "      <th>V16</th>\n",
       "      <td>-0.4</td>\n",
       "      <td>0.67</td>\n",
       "      <td>protective</td>\n",
       "    </tr>\n",
       "    <tr>\n",
       "      <th>V17</th>\n",
       "      <td>0.07</td>\n",
       "      <td>1.07</td>\n",
       "      <td>risky</td>\n",
       "    </tr>\n",
       "    <tr>\n",
       "      <th>V20</th>\n",
       "      <td>-0.18</td>\n",
       "      <td>0.84</td>\n",
       "      <td>protective</td>\n",
       "    </tr>\n",
       "    <tr>\n",
       "      <th>V21</th>\n",
       "      <td>0.37</td>\n",
       "      <td>1.45</td>\n",
       "      <td>risky</td>\n",
       "    </tr>\n",
       "    <tr>\n",
       "      <th>V22</th>\n",
       "      <td>0.68</td>\n",
       "      <td>1.97</td>\n",
       "      <td>risky</td>\n",
       "    </tr>\n",
       "    <tr>\n",
       "      <th>V23</th>\n",
       "      <td>-0.22</td>\n",
       "      <td>0.8</td>\n",
       "      <td>protective</td>\n",
       "    </tr>\n",
       "    <tr>\n",
       "      <th>V25</th>\n",
       "      <td>-0.11</td>\n",
       "      <td>0.9</td>\n",
       "      <td>protective</td>\n",
       "    </tr>\n",
       "    <tr>\n",
       "      <th>V26</th>\n",
       "      <td>-0.43</td>\n",
       "      <td>0.65</td>\n",
       "      <td>protective</td>\n",
       "    </tr>\n",
       "    <tr>\n",
       "      <th>V27</th>\n",
       "      <td>-0.33</td>\n",
       "      <td>0.72</td>\n",
       "      <td>protective</td>\n",
       "    </tr>\n",
       "  </tbody>\n",
       "</table>\n",
       "</div>"
      ],
      "text/plain": [
       "        beta exp(beta)    interprt\n",
       "const  -7.57       0.0  protective\n",
       "V1      0.06      1.06       risky\n",
       "V2     -0.06      0.94  protective\n",
       "V3      0.05      1.05       risky\n",
       "V4       0.8      2.23       risky\n",
       "V5     -0.01      0.99  protective\n",
       "V6     -0.23      0.79  protective\n",
       "V7     -0.05      0.95  protective\n",
       "V8     -0.23      0.79  protective\n",
       "V9      0.05      1.05       risky\n",
       "V10    -0.55      0.58  protective\n",
       "V11     0.16      1.17       risky\n",
       "V12    -0.29      0.75  protective\n",
       "V13    -0.22       0.8  protective\n",
       "V14    -0.62      0.54  protective\n",
       "V15    -0.06      0.94  protective\n",
       "V16     -0.4      0.67  protective\n",
       "V17     0.07      1.07       risky\n",
       "V20    -0.18      0.84  protective\n",
       "V21     0.37      1.45       risky\n",
       "V22     0.68      1.97       risky\n",
       "V23    -0.22       0.8  protective\n",
       "V25    -0.11       0.9  protective\n",
       "V26    -0.43      0.65  protective\n",
       "V27    -0.33      0.72  protective"
      ]
     },
     "execution_count": 33,
     "metadata": {},
     "output_type": "execute_result"
    }
   ],
   "source": [
    "#칼럼에 따른 beta, exp(beta) 확인\n",
    "column_name=[\"const\",'V1', 'V2', 'V3', 'V4', 'V5', 'V6', 'V7', 'V8', 'V9', 'V10',\n",
    "       'V11', 'V12', 'V13', 'V14', 'V15', 'V16', 'V17', 'V20','V21', 'V22', 'V23', 'V25', 'V26', 'V27']\n",
    "beta=np.concatenate([logreg.intercept_,logreg.coef_.reshape(-1)]).round(2)\n",
    "odds=np.exp(beta).round(2)\n",
    "interpret=np.where(beta>0,\"risky\",\"protective\")\n",
    "\n",
    "#beta 해석\n",
    "beta_analysis=pd.DataFrame(np.c_[beta,odds,interpret],index=column_name,columns=[\"beta\",\"exp(beta)\",\"interprt\"])\n",
    "beta_analysis"
   ]
  },
  {
   "cell_type": "markdown",
   "metadata": {},
   "source": [
    "### Test"
   ]
  },
  {
   "cell_type": "code",
   "execution_count": 38,
   "metadata": {},
   "outputs": [
    {
     "data": {
      "text/plain": [
       "array([[2.71453664e-03],\n",
       "       [1.47417822e-01],\n",
       "       [9.89385821e-05],\n",
       "       ...,\n",
       "       [2.73846846e-04],\n",
       "       [3.76316327e-04],\n",
       "       [1.61950711e-04]])"
      ]
     },
     "execution_count": 38,
     "metadata": {},
     "output_type": "execute_result"
    }
   ],
   "source": [
    "logreg.predict_proba(x_test)\n",
    "\n",
    "#패키지 이용하지 않고 직접 계산하는 경우\n",
    "\n",
    "#beta 곱하기 X\n",
    "xbeta=np.matmul(np.c_[np.ones(x_test.shape[0]),x_test],beta.reshape(-1,1))\n",
    "\n",
    "#P(Y=1) 계산\n",
    "P_1=1/(1+np.exp(-xbeta))\n",
    "P_1"
   ]
  },
  {
   "cell_type": "markdown",
   "metadata": {},
   "source": [
    "## 성능평가하기"
   ]
  },
  {
   "cell_type": "markdown",
   "metadata": {},
   "source": [
    "### f1 score"
   ]
  },
  {
   "cell_type": "code",
   "execution_count": 42,
   "metadata": {},
   "outputs": [
    {
     "data": {
      "text/plain": [
       "0.6933333333333334"
      ]
     },
     "execution_count": 42,
     "metadata": {},
     "output_type": "execute_result"
    }
   ],
   "source": [
    "# f1 score\n",
    "from sklearn.metrics import *\n",
    "f1_score(y_pred, y_test)"
   ]
  },
  {
   "cell_type": "code",
   "execution_count": 43,
   "metadata": {},
   "outputs": [
    {
     "data": {
      "text/plain": [
       "array([[5642,   22],\n",
       "       [   1,   26]], dtype=int64)"
      ]
     },
     "execution_count": 43,
     "metadata": {},
     "output_type": "execute_result"
    }
   ],
   "source": [
    "confusion_matrix(y_pred, y_test)"
   ]
  },
  {
   "cell_type": "markdown",
   "metadata": {},
   "source": [
    "분류결과는 true 중 실제는 true : 5642\n",
    "\n",
    "분류결과는 true중 실제는 false : 22\n",
    "\n",
    "분류결과는 false중 실제는 true : 1\n",
    "\n",
    "분류결과는 false중 실제는 false: 26"
   ]
  },
  {
   "cell_type": "markdown",
   "metadata": {},
   "source": [
    "### **cutoff 조절**"
   ]
  },
  {
   "cell_type": "code",
   "execution_count": 40,
   "metadata": {},
   "outputs": [
    {
     "name": "stdout",
     "output_type": "stream",
     "text": [
      "정확도 :  0.98 민감도 :  0.92 정밀도 :  0.25 cut off :  0.01\n",
      "정확도 :  1.00 민감도 :  0.81 정밀도 :  0.85 cut off :  0.12\n",
      "정확도 :  1.00 민감도 :  0.77 정밀도 :  0.88 cut off :  0.23\n",
      "정확도 :  1.00 민감도 :  0.77 정밀도 :  0.90 cut off :  0.34\n",
      "정확도 :  1.00 민감도 :  0.75 정밀도 :  0.90 cut off :  0.45\n",
      "정확도 :  1.00 민감도 :  0.75 정밀도 :  0.90 cut off :  0.55\n",
      "정확도 :  1.00 민감도 :  0.75 정밀도 :  0.90 cut off :  0.66\n",
      "정확도 :  1.00 민감도 :  0.71 정밀도 :  0.94 cut off :  0.77\n",
      "정확도 :  1.00 민감도 :  0.69 정밀도 :  0.94 cut off :  0.88\n",
      "정확도 :  1.00 민감도 :  0.54 정밀도 :  0.96 cut off :  0.99\n"
     ]
    }
   ],
   "source": [
    "from sklearn.metrics import roc_curve,accuracy_score,confusion_matrix,recall_score,precision_score\n",
    "\n",
    "Cut_off=np.linspace(0.01,0.99,10) #cut off 값 만들기\n",
    "for cutoff in Cut_off:\n",
    "  y_pred=np.where(P_1.reshape(-1)>=cutoff,1,0)\n",
    "  #cutoff 보다 크면 1 (유방암), 아니면 0 (유방암 X)\n",
    "  acc=accuracy_score(y_true=y_test,y_pred=y_pred) #정확도\n",
    "  recall=recall_score(y_true=y_test,y_pred=y_pred) #민감도\n",
    "  precision=precision_score(y_true=y_test,y_pred=y_pred) #정밀도\n",
    "\n",
    "  print(f\"정확도 : {acc : 0.2f}\",f\"민감도 : {recall : 0.2f}\",f\"정밀도 : {precision : 0.2f}\",f\"cut off : {cutoff : 0.2f}\")"
   ]
  },
  {
   "cell_type": "markdown",
   "metadata": {},
   "source": [
    "정확도: 예측결과가 True일때, 실제값도 True인것\n",
    "민감도: 실제 True인 것 중에서 모델이 True라고 분류한 것의 비율\n",
    "정밀도: 모델이 True로 분류한 것 중에서 실제값이 True인 비율"
   ]
  },
  {
   "cell_type": "markdown",
   "metadata": {},
   "source": [
    "ROC 곡선그리기"
   ]
  },
  {
   "cell_type": "code",
   "execution_count": 46,
   "metadata": {},
   "outputs": [
    {
     "data": {
      "image/png": "[encoded data removed]",
      "text/plain": [
       "<Figure size 720x720 with 1 Axes>"
      ]
     },
     "metadata": {},
     "output_type": "display_data"
    }
   ],
   "source": [
    "#X_test에 대해 y=1(유방암)일 확률\n",
    "probs=logreg.predict_proba(x_test)[:,1]\n",
    "\n",
    "#ROC curve x축, y축\n",
    "model_fpr, model_tpr, threshold1=roc_curve(y_test,probs)\n",
    "\n",
    "#random은 유방암 유무를 랜덤하게 판정한 것\n",
    "random_fpr,random_tpr, threshold2=roc_curve(y_test,[0 for i in range(x_test.__len__())])\n",
    "\n",
    "#plot\n",
    "plt.figure(figsize=(10,10))\n",
    "plt.plot(model_fpr,model_tpr,marker=\".\",label=\"Logisitic\")\n",
    "plt.plot(random_fpr,random_tpr,linestyle=\"--\",label=\"Random\")\n",
    "\n",
    "#axis\n",
    "plt.xlabel(\"False Positive Rate\",size=20)\n",
    "plt.ylabel(\"True Positive Rate\",size=20)\n",
    "\n",
    "#show the legend\n",
    "plt.legend(fontsize=20)\n",
    "\n",
    "plt.title(\"ROC curve\")\n",
    "plt.show()"
   ]
  },
  {
   "cell_type": "markdown",
   "metadata": {},
   "source": [
    "## 성능개선"
   ]
  },
  {
   "cell_type": "code",
   "execution_count": 48,
   "metadata": {},
   "outputs": [],
   "source": [
    "from sklearn.preprocessing import StandardScaler\n",
    "standardScaler = StandardScaler()\n",
    "standardScaler.fit(x_train)\n",
    "train_data_standardScaled = standardScaler.transform(x_train)\n",
    "test_data_standardScaled = standardScaler.transform(x_test)"
   ]
  },
  {
   "cell_type": "code",
   "execution_count": 49,
   "metadata": {},
   "outputs": [
    {
     "data": {
      "text/plain": [
       "array([[5639,   12],\n",
       "       [   4,   36]], dtype=int64)"
      ]
     },
     "execution_count": 49,
     "metadata": {},
     "output_type": "execute_result"
    }
   ],
   "source": [
    "from sklearn.linear_model import LogisticRegression\n",
    "logreg=LogisticRegression()\n",
    "logreg.fit(train_data_standardScaled,y_train)\n",
    "y_pred=logreg.predict(test_data_standardScaled)\n",
    "\n",
    "logreg.predict_proba(test_data_standardScaled)\n",
    "\n",
    "#패키지 이용하지 않고 직접 계산하는 경우\n",
    "\n",
    "#beta 곱하기 X\n",
    "xbeta=np.matmul(np.c_[np.ones(test_data_standardScaled.shape[0]),test_data_standardScaled],beta.reshape(-1,1))\n",
    "\n",
    "#P(Y=1) 계산\n",
    "P_1=1/(1+np.exp(-xbeta))\n",
    "P_1\n",
    "\n",
    "confusion_matrix(y_pred, y_test)"
   ]
  },
  {
   "cell_type": "code",
   "execution_count": 50,
   "metadata": {},
   "outputs": [
    {
     "data": {
      "text/plain": [
       "0.8181818181818182"
      ]
     },
     "execution_count": 50,
     "metadata": {},
     "output_type": "execute_result"
    }
   ],
   "source": [
    "# f1 score\n",
    "from sklearn.metrics import *\n",
    "f1_score(y_pred, y_test)"
   ]
  },
  {
   "cell_type": "markdown",
   "metadata": {},
   "source": [
    "standardscaler를 해주니 정오표기준 오분류된 개수가 23개에서 16개로 줄어들었고\n",
    "\n",
    "fl score도 0.69에서 0.81로 올라갔다"
   ]
  },
  {
   "cell_type": "code",
   "execution_count": null,
   "metadata": {},
   "outputs": [],
   "source": []
  }
 ],
 "metadata": {
  "colab": {
   "collapsed_sections": [],
   "name": "Regression_과제3",
   "provenance": []
  },
  "kernelspec": {
   "display_name": "Python 3",
   "language": "python",
   "name": "python3"
  },
  "language_info": {
   "codemirror_mode": {
    "name": "ipython",
    "version": 3
   },
   "file_extension": ".py",
   "mimetype": "text/x-python",
   "name": "python",
   "nbconvert_exporter": "python",
   "pygments_lexer": "ipython3",
   "version": "3.8.8"
  }
 },
 "nbformat": 4,
 "nbformat_minor": 1
}
