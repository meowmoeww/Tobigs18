{
  "cells": [
    {
      "cell_type": "markdown",
      "id": "00493e77",
      "metadata": {
        "id": "00493e77"
      },
      "source": [
        "> # Neural Network Basic - Week3 과제\n"
      ]
    },
    {
      "cell_type": "markdown",
      "id": "747656a3",
      "metadata": {
        "id": "747656a3"
      },
      "source": [
        "## Import Library"
      ]
    },
    {
      "cell_type": "markdown",
      "source": [
        "주어진 코드로는 계속 에러가 나서 새로운 방식으로 데이터를 로드했습니다"
      ],
      "metadata": {
        "id": "wXY7_hxrrAau"
      },
      "id": "wXY7_hxrrAau"
    },
    {
      "cell_type": "markdown",
      "id": "bbd9ddbb",
      "metadata": {
        "id": "bbd9ddbb"
      },
      "source": [
        "## Load Dataset\n",
        "- MNIST "
      ]
    },
    {
      "cell_type": "code",
      "source": [
        "import tensorflow as tf\n",
        "\n",
        "(_train, y_train), (x_test, y_test) = tf.keras.datasets.mnist.load_data()\n",
        "\n",
        "print([i.shape for i in (x_train, y_train, x_test, y_test)])"
      ],
      "metadata": {
        "colab": {
          "base_uri": "https://localhost:8080/"
        },
        "id": "keRfUry6fL6W",
        "outputId": "0f5c6280-141b-490a-9993-2569b3485a2d"
      },
      "id": "keRfUry6fL6W",
      "execution_count": 2,
      "outputs": [
        {
          "output_type": "stream",
          "name": "stdout",
          "text": [
            "[(60000, 28, 28), (60000,), (10000, 28, 28), (10000,)]\n"
          ]
        }
      ]
    },
    {
      "cell_type": "code",
      "execution_count": 3,
      "id": "2813d656",
      "metadata": {
        "id": "2813d656"
      },
      "outputs": [],
      "source": [
        "x_train = x_train.reshape(60000, 784)\n",
        "x_test = x_test.reshape(10000,784)"
      ]
    },
    {
      "cell_type": "code",
      "execution_count": 4,
      "id": "2bd1d69a",
      "metadata": {
        "id": "2bd1d69a",
        "outputId": "1fc252f5-b0b7-4a39-9354-349412d82fe5",
        "colab": {
          "base_uri": "https://localhost:8080/"
        }
      },
      "outputs": [
        {
          "output_type": "stream",
          "name": "stdout",
          "text": [
            "X_train shape: (60000, 784)\n",
            "X_test shape: (10000, 784)\n",
            "Y_train shape: (60000,)\n",
            "Y_train shape: (10000,)\n"
          ]
        }
      ],
      "source": [
        "print(f'X_train shape: {x_train.shape}')\n",
        "print(f'X_test shape: {x_test.shape}')\n",
        "print(f'Y_train shape: {y_train.shape}')\n",
        "print(f'Y_train shape: {y_test.shape}')"
      ]
    },
    {
      "cell_type": "markdown",
      "id": "4581cc2e",
      "metadata": {
        "id": "4581cc2e"
      },
      "source": [
        "## Activation Function \n",
        "- sigmoid & relu : hidden layer activation function \n",
        "- softmax : output layer activation function "
      ]
    },
    {
      "cell_type": "code",
      "source": [
        "import numpy as anp"
      ],
      "metadata": {
        "id": "JgjnYM29fXZV"
      },
      "id": "JgjnYM29fXZV",
      "execution_count": 5,
      "outputs": []
    },
    {
      "cell_type": "code",
      "execution_count": 6,
      "id": "a147a2b7",
      "metadata": {
        "id": "a147a2b7"
      },
      "outputs": [],
      "source": [
        "class sigmoid:\n",
        "    # sigmoid 함수를 작성하세요 \n",
        "    def forward(x):\n",
        "      A = 1 / (1 + np.exp(-x))\n",
        "      return A\n",
        "    \n",
        "    # sigmoid 함수의 미분을 작성하세요\n",
        "    def backward(x):\n",
        "        B =  (1 / (1 + np.exp(-x)))*( 1 - 1 / (1 + np.exp(-x)))\n",
        "        return B"
      ]
    },
    {
      "cell_type": "code",
      "execution_count": 7,
      "id": "f37afa8d",
      "metadata": {
        "id": "f37afa8d"
      },
      "outputs": [],
      "source": [
        "class relu:\n",
        "    # relu 함수를 작성하세요\n",
        "    def forward(x):\n",
        "        A = np.maximum(0, x)\n",
        "        return A\n",
        "    \n",
        "    # relu 함수의 미분을 작성하세요\n",
        "    def backward(x):\n",
        "        if x > 0:\n",
        "            B = 1\n",
        "        else:\n",
        "            B = 0\n",
        "        return B"
      ]
    },
    {
      "cell_type": "code",
      "execution_count": 8,
      "id": "cb44b346",
      "metadata": {
        "id": "cb44b346"
      },
      "outputs": [],
      "source": [
        "class softmax:\n",
        "    def forward(z):\n",
        "        y = []\n",
        "        for zi in z:\n",
        "            c = np.max(zi)\n",
        "            exp_zi = np.exp(zi-c)\n",
        "            sum_exp_zi = np.sum(exp_zi)\n",
        "            yi = exp_zi / sum_exp_zi\n",
        "            y.append(yi)\n",
        "\n",
        "        return np.array(y)\n",
        "    \n",
        "    def backward(p, y) :\n",
        "        dp = p.copy()\n",
        "        for dpi, yi in zip(dp, y):\n",
        "            for k in range(dp.shape[1]):\n",
        "                if k == yi :\n",
        "                    dpi[k] -= 1\n",
        "        return dp"
      ]
    },
    {
      "cell_type": "markdown",
      "id": "36955740",
      "metadata": {
        "id": "36955740"
      },
      "source": [
        "## Loss Function"
      ]
    },
    {
      "cell_type": "code",
      "execution_count": 9,
      "id": "44e0ad37",
      "metadata": {
        "id": "44e0ad37"
      },
      "outputs": [],
      "source": [
        "def cross_entropy(p, y):\n",
        "    loss = []\n",
        "    for pi, yi in zip(p, y):\n",
        "        for k in range(p.shape[1]):\n",
        "            if k == yi:\n",
        "                loss.append((-1) * (np.log(pi[k] + 1e-8))) \n",
        "    return loss"
      ]
    },
    {
      "cell_type": "markdown",
      "id": "0f9a7228",
      "metadata": {
        "id": "0f9a7228"
      },
      "source": [
        "## Layer"
      ]
    },
    {
      "cell_type": "code",
      "execution_count": 10,
      "id": "668bda1a",
      "metadata": {
        "id": "668bda1a"
      },
      "outputs": [],
      "source": [
        "class Layer:\n",
        "    def __init__(self, input_size, output_size, std=1e-4) :\n",
        "        self.input_size = input_size\n",
        "        self.output_size = output_size\n",
        "        self.bias = np.random.randn(output_size)\n",
        "        self.weight = np.random.randn(input_size, output_size)*std"
      ]
    },
    {
      "cell_type": "markdown",
      "id": "a72dfcee",
      "metadata": {
        "id": "a72dfcee"
      },
      "source": [
        "## Neural Network\n",
        "- 각 메소드와 변수들의 역할을 주석으로 달아주세요! "
      ]
    },
    {
      "cell_type": "code",
      "execution_count": 11,
      "id": "33125095",
      "metadata": {
        "id": "33125095"
      },
      "outputs": [],
      "source": [
        "class CustomNet:\n",
        "    # CustomNet을 선언할 때 생성되는 값들입니다.\n",
        "    def __init__(self, lr=0.0001, epoch=500, batch_size=200): #init : 초기화 메서드로 어떤 클래스의 객체가 만들어질 때 자동으로 호출되어서 그 객체가 갖게 될 여러 가지 성질을 정해주는 일을 해준다\n",
        "        self.lr = lr #learning rate는 0.0001로 지정\n",
        "        self.epoch = epoch  # epoch는 500으로 지정\n",
        "        self.batch_size = batch_size #batchsize는 200으로 지정\n",
        "        self.loss_function = cross_entropy #loss function은 cross_entropy로 지정\n",
        "        self.layers = [] # layer을 나중에 쌓기 위한 공간을 만들어두기\n",
        "        self.activations = [softmax] #활성화 함수는 softmax로 지정\n",
        "        self.nodes = []\n",
        "    \n",
        "    # Layer를 추가할 때 호출합니다\n",
        "    def addLayer(self, Layer): \n",
        "        self.layers.append(Layer) #layer에 추가하고싶은 층을 추가해준다 \n",
        "        if not self.nodes: #처음으로 입력하는거라 node가 비어있다면\n",
        "            self.nodes.append(np.zeros(Layer.input_size)) #노드에 input_size에 대한 정보를 입력한다\n",
        "        self.nodes.append(np.zeros(Layer.output_size)) #노드에 output_size에 대한 정보를 입력한다\n",
        "        \n",
        "    # Activation Function을 추가할 때 호출합니다\n",
        "    def addActivation(self, Activation): \n",
        "        tmp = self.activations.pop() # pop: 맨 마지막 요소를 돌려주고 그 요소는 삭제한다 = 맨 마지막에 있는 activation 함수를 돌려준다, 왜냐면 이걸 최종activation 함수로 사용할거기 때문에\n",
        "        self.activations.append(Activation) # 그리고 추가할 Activation 함수를 추가해주고\n",
        "        self.activations.append(tmp) #아까 빼둔 tmp를 다시 추가해줌으로써 마지막 activation 함수는 계속 softmax가 될 수 있도록 해준다\n",
        "        \n",
        "    # 순전파 함수\n",
        "    def _forward(self, X):\n",
        "        self.nodes[0] = X.copy() # X를 카피해 node의 첫번째 요소로 해준다\n",
        "        output = X.copy() # output의 공간을 만들기 위해 X를 카피해준다 \n",
        "        for i in range(len(self.layers)): # 층의 개수만큼 반복문을 실행해준다\n",
        "            Layer = self.layers[i] # 반복되는 횟수에 맞게 i번째 층이 Layer가 될 수 있게 해준다\n",
        "            Activation = self.activations[i] # i번째에 있는 활성화 함수를 사용해주고\n",
        "            output = np.dot(self.nodes[i], Layer.weight) # i번째 층에 있는 노드와 아까 선언한 Layer의 weight의 내적을 통해 output을 산출한다\n",
        "            output = output+ Layer.bias # y의 값은 내적에 편항값을 추가해줘야하므로 Layer의 bias를 더해준다\n",
        "            output = Activation.forward(output) #활성화 함수를 적용시켜주고 여기서는 softmax가 사용되도록 한다\n",
        "            self.nodes[i+1] = output # output이 다음 노드의 값이 될 수 있도록 해준다 \n",
        "        return output   \n",
        "    \n",
        "    # 역전파 함수\n",
        "    def _backward(self, X, output, y) :\n",
        "        for i in reversed(range(len(self.layers))): #역전파이니까 forward와 다르게 층의 개수만큼 뒤에서부터 반복될 수 있게 해준다\n",
        "            a = self.nodes[i+1] # 다음 노드의 값을 가져온다\n",
        "            Layer = self.layers[i] #  반복되는 횟수에 맞게 i번째 층이 Layer가 될 수 있게 해준다\n",
        "            Activation = self.activations[i]  # i번째에 있는 활성화 함수를 사용해주고\n",
        "            \n",
        "            if i+1 == len(self.layers): #for문의 첫번째 순서라면 : self.layers[i]가 마지막 층이라면 \n",
        "                error = Activation.backward(output, y) #outpu과 y의 값을 가지고 에러를 계산해라\n",
        "            else: # 그걸 제외한 나머지면 \n",
        "                error *= Activation.backward(a) # 노드의 값을 가지고 에러를 계산해라 \n",
        "            Layer.weight -= np.dot(error.T, self.nodes[i]).T*self.lr/X.shape[0] #에러값, lr(learning rate: 0.0001)을 이용해 weigth 업데이트\n",
        "            Layer.bias -= error.sum(axis=0)*self.lr/X.shape[0] #bias 업데이트\n",
        "            error = np.dot(error, Layer.weight.T) # 에러값 계산\n",
        "            \n",
        "    # Accrucy를 반환합니다\n",
        "    def _accuracy(self, output, y):\n",
        "        pre_p = np.argmax(output, axis=1) #output에서 열을 따라 가장 큰 값의 인덱스를 찾는다 : 그게 모델이 예측한 y_pred이기 때문에  \n",
        "        return np.sum(pre_p==y)/y.shape[0] # pre_p == y : 예측값과 y가 맞는 경우를 더해주고 y의 사이즈로 나눠줘 accuracy를 계산한다\n",
        "    \n",
        "    # 데이터셋에 모델을 fit할때 호출합니다\n",
        "    def fit(self, X, y, val_X, val_y):\n",
        "        history = {'val_acc': [],'val_loss': []}\n",
        "        N = X.shape[0]\n",
        "        for i in range(self.epoch): # epoch수만큼 실행해라\n",
        "            for j in range(N//self.batch_size):  # mini_batch_size만큼 실행해라\n",
        "                batch_mask = np.random.choice(N, self.batch_size) # N개의 batch_size 크기만큼 random하게 batch_mask 생성\n",
        "                X_batch = X[batch_mask] # X batch 추출\n",
        "                y_batch = y[batch_mask] # y batch 추출\n",
        "                output = self._forward(X_batch) # X_batch 데이터를 순전파 시켜 output 계산 \n",
        "                self._backward(X_batch, output, y_batch) # X_batch와 output, y_batch를 이용해 역전파 계산\n",
        "            \n",
        "            #accuracy와 loss를 기록해둡시다\n",
        "            output = self._forward(val_X) # val_X 데이터를 순전파 시켜 output 계산\n",
        "            history[\"val_acc\"].append(self._accuracy(output, val_y)) # output과 val_y를 이용해 valid 데이터의 accuracy를 계산한다\n",
        "            history[\"val_loss\"].append(sum(self.loss_function(output, val_y)))  # output과 val_y를 이용해 valid 데이터의 loss 값을 계싼한다\n",
        "            \n",
        "            #중간중간 기록을 찍어볼 때 사용. 적절히 조절해 쓰세요\n",
        "            if i % 10 == 0:\n",
        "                print(i, \"test accuracy :\", history[\"val_acc\"][-1]) \n",
        "                print(i, \"test loss     :\", history[\"val_loss\"][-1])\n",
        "        return history"
      ]
    },
    {
      "cell_type": "markdown",
      "id": "e7787d0e",
      "metadata": {
        "id": "e7787d0e"
      },
      "source": [
        "## Customizing\n",
        "- Network parameter, Layer architecture, Activation function .. 등등 다양한 하이퍼파라미터를 커스터마이징하여 높은 성능에 도달해 봅시다! "
      ]
    },
    {
      "cell_type": "code",
      "source": [
        "import numpy as np"
      ],
      "metadata": {
        "id": "AjPgs3yFfnTU"
      },
      "id": "AjPgs3yFfnTU",
      "execution_count": 14,
      "outputs": []
    },
    {
      "cell_type": "code",
      "execution_count": 15,
      "id": "10d3d20c",
      "metadata": {
        "id": "10d3d20c"
      },
      "outputs": [],
      "source": [
        "# 하이퍼파라미터를 적절히 조절해 뉴럴넷을 선언하세요\n",
        "nn = CustomNet(lr=0.005, epoch=200, batch_size=400)\n",
        "\n",
        "# 원하는 만큼 층과 활성화 함수를 쌓아 주세요. 기본적으로 2Layer를 예시로 적어드립니다\n",
        "nn.addLayer(Layer(784,100))\n",
        "nn.addActivation(sigmoid)\n",
        "nn.addLayer(Layer(100,10))"
      ]
    },
    {
      "cell_type": "code",
      "execution_count": 16,
      "id": "771766e2",
      "metadata": {
        "id": "771766e2",
        "outputId": "fe6f5eb0-e3f6-4b78-ddb8-036c2fd58bfe",
        "colab": {
          "base_uri": "https://localhost:8080/"
        }
      },
      "outputs": [
        {
          "output_type": "stream",
          "name": "stdout",
          "text": [
            "(784, 100) (100,)\n",
            "(100, 10) (10,)\n"
          ]
        }
      ],
      "source": [
        "# 선언한 뉴럴넷의 구조입니다\n",
        "for layer in nn.layers:\n",
        "    print(layer.weight.shape, layer.bias.shape)"
      ]
    },
    {
      "cell_type": "code",
      "execution_count": 17,
      "id": "b2c1018a",
      "metadata": {
        "id": "b2c1018a",
        "colab": {
          "base_uri": "https://localhost:8080/"
        },
        "outputId": "495cf26b-b71f-40a1-fac5-a352ff1d2f64"
      },
      "outputs": [
        {
          "output_type": "stream",
          "name": "stdout",
          "text": [
            "0 test accuracy : 0.141\n",
            "0 test loss     : 22392.2595270654\n"
          ]
        },
        {
          "output_type": "stream",
          "name": "stderr",
          "text": [
            "/usr/local/lib/python3.7/dist-packages/ipykernel_launcher.py:4: RuntimeWarning: overflow encountered in exp\n",
            "  after removing the cwd from sys.path.\n"
          ]
        },
        {
          "output_type": "stream",
          "name": "stdout",
          "text": [
            "10 test accuracy : 0.6861\n",
            "10 test loss     : 11639.349749290086\n",
            "20 test accuracy : 0.7759\n",
            "20 test loss     : 8483.74398528711\n",
            "30 test accuracy : 0.8056\n",
            "30 test loss     : 7133.821375349864\n",
            "40 test accuracy : 0.8205\n",
            "40 test loss     : 6504.650288840137\n",
            "50 test accuracy : 0.8277\n",
            "50 test loss     : 6128.006655845317\n",
            "60 test accuracy : 0.8319\n",
            "60 test loss     : 5905.6805951089\n",
            "70 test accuracy : 0.8337\n",
            "70 test loss     : 5763.411068794139\n",
            "80 test accuracy : 0.8363\n",
            "80 test loss     : 5610.311415375757\n",
            "90 test accuracy : 0.8378\n",
            "90 test loss     : 5537.516071479452\n",
            "100 test accuracy : 0.8415\n",
            "100 test loss     : 5456.064009112391\n",
            "110 test accuracy : 0.845\n",
            "110 test loss     : 5404.809463639999\n",
            "120 test accuracy : 0.8437\n",
            "120 test loss     : 5341.787489424018\n",
            "130 test accuracy : 0.8447\n",
            "130 test loss     : 5316.6909099328\n",
            "140 test accuracy : 0.844\n",
            "140 test loss     : 5283.68072550003\n",
            "150 test accuracy : 0.8444\n",
            "150 test loss     : 5255.512301263192\n",
            "160 test accuracy : 0.846\n",
            "160 test loss     : 5249.175868343516\n",
            "170 test accuracy : 0.8476\n",
            "170 test loss     : 5225.642989899482\n",
            "180 test accuracy : 0.8473\n",
            "180 test loss     : 5220.63828453834\n",
            "190 test accuracy : 0.8456\n",
            "190 test loss     : 5234.539039453291\n"
          ]
        }
      ],
      "source": [
        "history = nn.fit(x_train, y_train, x_test, y_test)"
      ]
    },
    {
      "cell_type": "markdown",
      "id": "b76a6163",
      "metadata": {
        "id": "b76a6163"
      },
      "source": [
        "## Accuracy, Loss Visualization\n",
        "- 자유롭게 Accuracy나 Loss를 시각화하여 확인하고 결과를 확인해 보세요! "
      ]
    },
    {
      "cell_type": "code",
      "execution_count": 25,
      "id": "eb733190",
      "metadata": {
        "id": "eb733190",
        "colab": {
          "base_uri": "https://localhost:8080/",
          "height": 573
        },
        "outputId": "488956ee-660a-4a4c-e4a8-7f317f0b1262"
      },
      "outputs": [
        {
          "output_type": "display_data",
          "data": {
            "text/plain": [
              "<Figure size 432x288 with 1 Axes>"
            ],
            "image/png": "[encoded data removed]"
          },
          "metadata": {
            "needs_background": "light"
          }
        },
        {
          "output_type": "display_data",
          "data": {
            "text/plain": [
              "<Figure size 432x288 with 1 Axes>"
            ],
            "image/png": "[encoded data removed]"
          },
          "metadata": {
            "needs_background": "light"
          }
        }
      ],
      "source": [
        "plt.plot(history['val_acc'])\n",
        "plt.title('test accuracy')\n",
        "plt.ylabel('accuracy')\n",
        "plt.xlabel('epoch')\n",
        "plt.legend(['train', 'test'], loc='upper left')\n",
        "plt.show()\n",
        "## summarize history for loss\n",
        "plt.plot(history['val_loss'])\n",
        "plt.title('test loss')\n",
        "plt.ylabel('loss')\n",
        "plt.xlabel('epoch')\n",
        "plt.legend(['train', 'test'], loc='upper left')\n",
        "plt.show()"
      ]
    },
    {
      "cell_type": "markdown",
      "source": [
        "epoch가 늘어날수록 loss는 감소하고 accuracy는 증가하는 것을 알 수 있다\n",
        "이로 인해 model을 학습시킬수록 예측력을 높일 수 있는 방식으로 파라미터들이 업데이트 되는 걸 알 수 있다"
      ],
      "metadata": {
        "id": "zoDMq9nUq312"
      },
      "id": "zoDMq9nUq312"
    },
    {
      "cell_type": "code",
      "source": [
        ""
      ],
      "metadata": {
        "id": "LA3XwdNTqg0e"
      },
      "id": "LA3XwdNTqg0e",
      "execution_count": null,
      "outputs": []
    },
    {
      "cell_type": "code",
      "source": [
        ""
      ],
      "metadata": {
        "id": "AiqF7q1sruTn"
      },
      "id": "AiqF7q1sruTn",
      "execution_count": null,
      "outputs": []
    }
  ],
  "metadata": {
    "kernelspec": {
      "display_name": "Python 3 (ipykernel)",
      "language": "python",
      "name": "python3"
    },
    "language_info": {
      "codemirror_mode": {
        "name": "ipython",
        "version": 3
      },
      "file_extension": ".py",
      "mimetype": "text/x-python",
      "name": "python",
      "nbconvert_exporter": "python",
      "pygments_lexer": "ipython3",
      "version": "3.9.7"
    },
    "colab": {
      "name": "week3_NeuralNetworkBasic_실습.ipynb",
      "provenance": [],
      "collapsed_sections": []
    },
    "accelerator": "GPU",
    "gpuClass": "standard"
  },
  "nbformat": 4,
  "nbformat_minor": 5
}