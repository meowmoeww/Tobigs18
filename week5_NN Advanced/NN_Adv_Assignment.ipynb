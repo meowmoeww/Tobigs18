{
 "cells": [
  {
   "cell_type": "markdown",
   "id": "b0ba9b89",
   "metadata": {},
   "source": [
    "## NN Adv Assignment"
   ]
  },
  {
   "cell_type": "code",
   "execution_count": 4,
   "id": "80f09603",
   "metadata": {},
   "outputs": [],
   "source": [
    "import numpy as np\n",
    "import pandas as pd\n",
    "import matplotlib.pyplot as plt\n",
    "\n",
    "### Pytorch\n",
    "\n",
    "import torch\n",
    "import torch.nn as nn\n",
    "import torch.nn.functional as F\n",
    "\n",
    "### TensorFlow\n",
    "\n",
    "import tensorflow as tf\n",
    "from tensorflow import keras\n",
    "\n",
    "import warnings\n",
    "warnings.filterwarnings(action='ignore')"
   ]
  },
  {
   "cell_type": "markdown",
   "id": "7e8c1bab",
   "metadata": {},
   "source": [
    "### Load Data"
   ]
  },
  {
   "cell_type": "code",
   "execution_count": 108,
   "id": "b3eb5f5d",
   "metadata": {},
   "outputs": [],
   "source": [
    "train = pd.read_csv('Train.csv')\n",
    "test = pd.read_csv('Test.csv')"
   ]
  },
  {
   "cell_type": "code",
   "execution_count": 109,
   "id": "ae6f6178",
   "metadata": {},
   "outputs": [
    {
     "data": {
      "text/html": [
       "<div>\n",
       "<style scoped>\n",
       "    .dataframe tbody tr th:only-of-type {\n",
       "        vertical-align: middle;\n",
       "    }\n",
       "\n",
       "    .dataframe tbody tr th {\n",
       "        vertical-align: top;\n",
       "    }\n",
       "\n",
       "    .dataframe thead th {\n",
       "        text-align: right;\n",
       "    }\n",
       "</style>\n",
       "<table border=\"1\" class=\"dataframe\">\n",
       "  <thead>\n",
       "    <tr style=\"text-align: right;\">\n",
       "      <th></th>\n",
       "      <th>0</th>\n",
       "      <th>1</th>\n",
       "      <th>2</th>\n",
       "      <th>3</th>\n",
       "      <th>4</th>\n",
       "      <th>5</th>\n",
       "      <th>6</th>\n",
       "      <th>7</th>\n",
       "      <th>8</th>\n",
       "      <th>9</th>\n",
       "      <th>...</th>\n",
       "      <th>775</th>\n",
       "      <th>776</th>\n",
       "      <th>777</th>\n",
       "      <th>778</th>\n",
       "      <th>779</th>\n",
       "      <th>780</th>\n",
       "      <th>781</th>\n",
       "      <th>782</th>\n",
       "      <th>783</th>\n",
       "      <th>label</th>\n",
       "    </tr>\n",
       "  </thead>\n",
       "  <tbody>\n",
       "    <tr>\n",
       "      <th>0</th>\n",
       "      <td>0</td>\n",
       "      <td>0</td>\n",
       "      <td>0</td>\n",
       "      <td>0</td>\n",
       "      <td>0</td>\n",
       "      <td>0</td>\n",
       "      <td>0</td>\n",
       "      <td>0</td>\n",
       "      <td>0</td>\n",
       "      <td>0</td>\n",
       "      <td>...</td>\n",
       "      <td>0</td>\n",
       "      <td>0</td>\n",
       "      <td>0</td>\n",
       "      <td>0</td>\n",
       "      <td>0</td>\n",
       "      <td>0</td>\n",
       "      <td>0</td>\n",
       "      <td>0</td>\n",
       "      <td>0</td>\n",
       "      <td>1</td>\n",
       "    </tr>\n",
       "    <tr>\n",
       "      <th>1</th>\n",
       "      <td>0</td>\n",
       "      <td>0</td>\n",
       "      <td>0</td>\n",
       "      <td>0</td>\n",
       "      <td>0</td>\n",
       "      <td>0</td>\n",
       "      <td>0</td>\n",
       "      <td>0</td>\n",
       "      <td>0</td>\n",
       "      <td>0</td>\n",
       "      <td>...</td>\n",
       "      <td>0</td>\n",
       "      <td>0</td>\n",
       "      <td>0</td>\n",
       "      <td>0</td>\n",
       "      <td>0</td>\n",
       "      <td>0</td>\n",
       "      <td>0</td>\n",
       "      <td>0</td>\n",
       "      <td>0</td>\n",
       "      <td>3</td>\n",
       "    </tr>\n",
       "    <tr>\n",
       "      <th>2</th>\n",
       "      <td>0</td>\n",
       "      <td>0</td>\n",
       "      <td>0</td>\n",
       "      <td>0</td>\n",
       "      <td>0</td>\n",
       "      <td>0</td>\n",
       "      <td>0</td>\n",
       "      <td>0</td>\n",
       "      <td>0</td>\n",
       "      <td>0</td>\n",
       "      <td>...</td>\n",
       "      <td>0</td>\n",
       "      <td>0</td>\n",
       "      <td>0</td>\n",
       "      <td>0</td>\n",
       "      <td>0</td>\n",
       "      <td>0</td>\n",
       "      <td>0</td>\n",
       "      <td>0</td>\n",
       "      <td>0</td>\n",
       "      <td>8</td>\n",
       "    </tr>\n",
       "    <tr>\n",
       "      <th>3</th>\n",
       "      <td>0</td>\n",
       "      <td>0</td>\n",
       "      <td>0</td>\n",
       "      <td>0</td>\n",
       "      <td>0</td>\n",
       "      <td>0</td>\n",
       "      <td>0</td>\n",
       "      <td>0</td>\n",
       "      <td>0</td>\n",
       "      <td>0</td>\n",
       "      <td>...</td>\n",
       "      <td>0</td>\n",
       "      <td>0</td>\n",
       "      <td>0</td>\n",
       "      <td>0</td>\n",
       "      <td>0</td>\n",
       "      <td>0</td>\n",
       "      <td>0</td>\n",
       "      <td>0</td>\n",
       "      <td>0</td>\n",
       "      <td>7</td>\n",
       "    </tr>\n",
       "    <tr>\n",
       "      <th>4</th>\n",
       "      <td>0</td>\n",
       "      <td>0</td>\n",
       "      <td>0</td>\n",
       "      <td>0</td>\n",
       "      <td>0</td>\n",
       "      <td>0</td>\n",
       "      <td>0</td>\n",
       "      <td>0</td>\n",
       "      <td>0</td>\n",
       "      <td>0</td>\n",
       "      <td>...</td>\n",
       "      <td>0</td>\n",
       "      <td>0</td>\n",
       "      <td>0</td>\n",
       "      <td>0</td>\n",
       "      <td>0</td>\n",
       "      <td>0</td>\n",
       "      <td>0</td>\n",
       "      <td>0</td>\n",
       "      <td>0</td>\n",
       "      <td>5</td>\n",
       "    </tr>\n",
       "  </tbody>\n",
       "</table>\n",
       "<p>5 rows × 785 columns</p>\n",
       "</div>"
      ],
      "text/plain": [
       "   0  1  2  3  4  5  6  7  8  9  ...  775  776  777  778  779  780  781  782  \\\n",
       "0  0  0  0  0  0  0  0  0  0  0  ...    0    0    0    0    0    0    0    0   \n",
       "1  0  0  0  0  0  0  0  0  0  0  ...    0    0    0    0    0    0    0    0   \n",
       "2  0  0  0  0  0  0  0  0  0  0  ...    0    0    0    0    0    0    0    0   \n",
       "3  0  0  0  0  0  0  0  0  0  0  ...    0    0    0    0    0    0    0    0   \n",
       "4  0  0  0  0  0  0  0  0  0  0  ...    0    0    0    0    0    0    0    0   \n",
       "\n",
       "   783  label  \n",
       "0    0      1  \n",
       "1    0      3  \n",
       "2    0      8  \n",
       "3    0      7  \n",
       "4    0      5  \n",
       "\n",
       "[5 rows x 785 columns]"
      ]
     },
     "execution_count": 109,
     "metadata": {},
     "output_type": "execute_result"
    }
   ],
   "source": [
    "train.head()"
   ]
  },
  {
   "cell_type": "code",
   "execution_count": 110,
   "id": "4e92830d",
   "metadata": {},
   "outputs": [
    {
     "data": {
      "text/plain": [
       "10"
      ]
     },
     "execution_count": 110,
     "metadata": {},
     "output_type": "execute_result"
    }
   ],
   "source": [
    "train['label'].nunique()"
   ]
  },
  {
   "cell_type": "code",
   "execution_count": 55,
   "id": "2133c848",
   "metadata": {},
   "outputs": [
    {
     "data": {
      "text/html": [
       "<div>\n",
       "<style scoped>\n",
       "    .dataframe tbody tr th:only-of-type {\n",
       "        vertical-align: middle;\n",
       "    }\n",
       "\n",
       "    .dataframe tbody tr th {\n",
       "        vertical-align: top;\n",
       "    }\n",
       "\n",
       "    .dataframe thead th {\n",
       "        text-align: right;\n",
       "    }\n",
       "</style>\n",
       "<table border=\"1\" class=\"dataframe\">\n",
       "  <thead>\n",
       "    <tr style=\"text-align: right;\">\n",
       "      <th></th>\n",
       "      <th>0</th>\n",
       "      <th>1</th>\n",
       "      <th>2</th>\n",
       "      <th>3</th>\n",
       "      <th>4</th>\n",
       "      <th>5</th>\n",
       "      <th>6</th>\n",
       "      <th>7</th>\n",
       "      <th>8</th>\n",
       "      <th>9</th>\n",
       "      <th>...</th>\n",
       "      <th>774</th>\n",
       "      <th>775</th>\n",
       "      <th>776</th>\n",
       "      <th>777</th>\n",
       "      <th>778</th>\n",
       "      <th>779</th>\n",
       "      <th>780</th>\n",
       "      <th>781</th>\n",
       "      <th>782</th>\n",
       "      <th>783</th>\n",
       "    </tr>\n",
       "  </thead>\n",
       "  <tbody>\n",
       "    <tr>\n",
       "      <th>0</th>\n",
       "      <td>0</td>\n",
       "      <td>0</td>\n",
       "      <td>0</td>\n",
       "      <td>0</td>\n",
       "      <td>0</td>\n",
       "      <td>0</td>\n",
       "      <td>0</td>\n",
       "      <td>0</td>\n",
       "      <td>0</td>\n",
       "      <td>0</td>\n",
       "      <td>...</td>\n",
       "      <td>67</td>\n",
       "      <td>0</td>\n",
       "      <td>0</td>\n",
       "      <td>0</td>\n",
       "      <td>0</td>\n",
       "      <td>0</td>\n",
       "      <td>0</td>\n",
       "      <td>0</td>\n",
       "      <td>0</td>\n",
       "      <td>0</td>\n",
       "    </tr>\n",
       "    <tr>\n",
       "      <th>1</th>\n",
       "      <td>0</td>\n",
       "      <td>0</td>\n",
       "      <td>0</td>\n",
       "      <td>0</td>\n",
       "      <td>0</td>\n",
       "      <td>0</td>\n",
       "      <td>0</td>\n",
       "      <td>1</td>\n",
       "      <td>2</td>\n",
       "      <td>0</td>\n",
       "      <td>...</td>\n",
       "      <td>0</td>\n",
       "      <td>0</td>\n",
       "      <td>1</td>\n",
       "      <td>0</td>\n",
       "      <td>0</td>\n",
       "      <td>0</td>\n",
       "      <td>0</td>\n",
       "      <td>0</td>\n",
       "      <td>0</td>\n",
       "      <td>0</td>\n",
       "    </tr>\n",
       "    <tr>\n",
       "      <th>2</th>\n",
       "      <td>0</td>\n",
       "      <td>0</td>\n",
       "      <td>0</td>\n",
       "      <td>0</td>\n",
       "      <td>0</td>\n",
       "      <td>0</td>\n",
       "      <td>0</td>\n",
       "      <td>0</td>\n",
       "      <td>0</td>\n",
       "      <td>0</td>\n",
       "      <td>...</td>\n",
       "      <td>93</td>\n",
       "      <td>58</td>\n",
       "      <td>78</td>\n",
       "      <td>45</td>\n",
       "      <td>0</td>\n",
       "      <td>0</td>\n",
       "      <td>0</td>\n",
       "      <td>0</td>\n",
       "      <td>0</td>\n",
       "      <td>0</td>\n",
       "    </tr>\n",
       "    <tr>\n",
       "      <th>3</th>\n",
       "      <td>0</td>\n",
       "      <td>0</td>\n",
       "      <td>0</td>\n",
       "      <td>0</td>\n",
       "      <td>0</td>\n",
       "      <td>0</td>\n",
       "      <td>0</td>\n",
       "      <td>0</td>\n",
       "      <td>0</td>\n",
       "      <td>0</td>\n",
       "      <td>...</td>\n",
       "      <td>71</td>\n",
       "      <td>0</td>\n",
       "      <td>0</td>\n",
       "      <td>0</td>\n",
       "      <td>0</td>\n",
       "      <td>0</td>\n",
       "      <td>0</td>\n",
       "      <td>0</td>\n",
       "      <td>0</td>\n",
       "      <td>0</td>\n",
       "    </tr>\n",
       "    <tr>\n",
       "      <th>4</th>\n",
       "      <td>0</td>\n",
       "      <td>0</td>\n",
       "      <td>0</td>\n",
       "      <td>0</td>\n",
       "      <td>0</td>\n",
       "      <td>0</td>\n",
       "      <td>0</td>\n",
       "      <td>0</td>\n",
       "      <td>0</td>\n",
       "      <td>0</td>\n",
       "      <td>...</td>\n",
       "      <td>0</td>\n",
       "      <td>0</td>\n",
       "      <td>63</td>\n",
       "      <td>0</td>\n",
       "      <td>0</td>\n",
       "      <td>0</td>\n",
       "      <td>0</td>\n",
       "      <td>0</td>\n",
       "      <td>0</td>\n",
       "      <td>0</td>\n",
       "    </tr>\n",
       "  </tbody>\n",
       "</table>\n",
       "<p>5 rows × 784 columns</p>\n",
       "</div>"
      ],
      "text/plain": [
       "   0  1  2  3  4  5  6  7  8  9  ...  774  775  776  777  778  779  780  781  \\\n",
       "0  0  0  0  0  0  0  0  0  0  0  ...   67    0    0    0    0    0    0    0   \n",
       "1  0  0  0  0  0  0  0  1  2  0  ...    0    0    1    0    0    0    0    0   \n",
       "2  0  0  0  0  0  0  0  0  0  0  ...   93   58   78   45    0    0    0    0   \n",
       "3  0  0  0  0  0  0  0  0  0  0  ...   71    0    0    0    0    0    0    0   \n",
       "4  0  0  0  0  0  0  0  0  0  0  ...    0    0   63    0    0    0    0    0   \n",
       "\n",
       "   782  783  \n",
       "0    0    0  \n",
       "1    0    0  \n",
       "2    0    0  \n",
       "3    0    0  \n",
       "4    0    0  \n",
       "\n",
       "[5 rows x 784 columns]"
      ]
     },
     "execution_count": 55,
     "metadata": {},
     "output_type": "execute_result"
    }
   ],
   "source": [
    "test.head()"
   ]
  },
  {
   "cell_type": "code",
   "execution_count": 111,
   "id": "35dc5b73",
   "metadata": {},
   "outputs": [],
   "source": [
    "X = train.iloc[:, :-1].values\n",
    "y = train.iloc[:, -1].values"
   ]
  },
  {
   "cell_type": "code",
   "execution_count": null,
   "id": "26c6d257",
   "metadata": {},
   "outputs": [],
   "source": [
    "pltsize = 1\n",
    "plt.figure(figsize=(20 * pltsize, pltsize))\n",
    "for idx in range(0, 20):\n",
    "  plt.subplot(1, 20, idx + 1)\n",
    "  plt.axis('off')\n",
    "  plt.imshow(X[idx].reshape(28, 28), cmap='gray_r')\n",
    "  plt.title(f'Class : {y[idx]}')"
   ]
  },
  {
   "cell_type": "code",
   "execution_count": 112,
   "id": "dbb3b988",
   "metadata": {},
   "outputs": [],
   "source": [
    "X_test = test.values"
   ]
  },
  {
   "cell_type": "code",
   "execution_count": 113,
   "id": "cd3fac2c",
   "metadata": {},
   "outputs": [
    {
     "data": {
      "text/plain": [
       "(10500, 784)"
      ]
     },
     "execution_count": 113,
     "metadata": {},
     "output_type": "execute_result"
    }
   ],
   "source": [
    "X_test.shape"
   ]
  },
  {
   "cell_type": "code",
   "execution_count": null,
   "id": "9d06175b",
   "metadata": {},
   "outputs": [],
   "source": [
    "pltsize = 1\n",
    "plt.figure(figsize=(20 * pltsize, pltsize))\n",
    "for idx in range(0, 20):\n",
    "  plt.subplot(1, 20, idx + 1)\n",
    "  plt.axis('off')\n",
    "  plt.imshow(X_test[idx].reshape(28, 28), cmap='gray_r')"
   ]
  },
  {
   "cell_type": "markdown",
   "id": "c2df1b99",
   "metadata": {},
   "source": [
    "### Train-Test Split"
   ]
  },
  {
   "cell_type": "code",
   "execution_count": 114,
   "id": "7b16076f",
   "metadata": {},
   "outputs": [],
   "source": [
    "from sklearn.model_selection import train_test_split\n",
    "\n",
    "X_train, X_val, y_train, y_val = train_test_split(X, y, test_size = 0.2, random_state = 16, stratify = y, shuffle = True)\n",
    "\n",
    "## Normalization\n",
    "X_train = X_train / 255.0\n",
    "X_val = X_val / 255.0\n",
    "X_test = X_test / 255.0\n",
    "\n",
    "X_train = torch.FloatTensor(X_train)\n",
    "y_train = torch.LongTensor(y_train)\n",
    "\n",
    "X_val = torch.FloatTensor(X_val)\n",
    "y_val = torch.LongTensor(y_val)\n",
    "\n",
    "X_test = torch.FloatTensor(X_test)"
   ]
  },
  {
   "cell_type": "code",
   "execution_count": 115,
   "id": "d32fd6a0",
   "metadata": {},
   "outputs": [
    {
     "name": "stdout",
     "output_type": "stream",
     "text": [
      "cpu\n"
     ]
    }
   ],
   "source": [
    "if torch.cuda.is_available():\n",
    "  DEVICE = torch.device('cuda')\n",
    "else:\n",
    "  DEVICE = torch.device('cpu')\n",
    "\n",
    "print(DEVICE)"
   ]
  },
  {
   "cell_type": "code",
   "execution_count": 116,
   "id": "54a48d67",
   "metadata": {},
   "outputs": [],
   "source": [
    "BATCH_SIZE = 128\n",
    "EPOCHS = 15\n",
    "\n",
    "\n",
    "from torch.utils.data import Dataset\n",
    "from torch.utils.data import DataLoader\n",
    "\n",
    "class DataSet(Dataset):\n",
    "  def __init__(self, image, label = None):\n",
    "    super(DataSet, self).__init__()\n",
    "    self._image = image\n",
    "    self._label = label\n",
    "\n",
    "  def __len__(self):\n",
    "    return len(self._image)\n",
    "\n",
    "  def __getitem__(self, idx):\n",
    "    if self._label is None:\n",
    "      image = self._image[idx]\n",
    "      return image\n",
    "\n",
    "    else:\n",
    "      image = self._image[idx]\n",
    "      label = self._label[idx]\n",
    "\n",
    "      return image, label"
   ]
  },
  {
   "cell_type": "code",
   "execution_count": 117,
   "id": "79a967fc",
   "metadata": {},
   "outputs": [],
   "source": [
    "train_dataset = DataSet(X_train, y_train)\n",
    "train_loader = DataLoader(train_dataset, batch_size = BATCH_SIZE, shuffle = True, drop_last = False)\n",
    "\n",
    "val_dataset = DataSet(X_val, y_val)\n",
    "val_loader = DataLoader(val_dataset, batch_size = BATCH_SIZE, shuffle = True, drop_last = False)\n",
    "\n",
    "test_dataset = DataSet(X_test)\n",
    "test_loader = DataLoader(test_dataset, batch_size = BATCH_SIZE, shuffle = False, drop_last = False)"
   ]
  },
  {
   "cell_type": "code",
   "execution_count": 118,
   "id": "0d15d621",
   "metadata": {},
   "outputs": [],
   "source": [
    "def train(model, train_loader):\n",
    "  model.train()\n",
    "  train_loss = 0\n",
    "  correct = 0\n",
    "\n",
    "  for image, label in train_loader:\n",
    "    image = image.to(DEVICE)\n",
    "    label = label.to(DEVICE)\n",
    "    optimizer.zero_grad()\n",
    "    output = model(image)\n",
    "    loss = criterion(output, label)\n",
    "    loss.backward()\n",
    "    optimizer.step()\n",
    "\n",
    "    train_loss += loss.item()\n",
    "    prediction = output.max(1, keepdim = True)[1]\n",
    "    correct += prediction.eq(label.view_as(prediction)).sum().item()\n",
    "      \n",
    "  train_loss /= len(train_loader)\n",
    "  train_accuracy = 100. * correct / len(train_loader.dataset)\n",
    "  return train_loss, train_accuracy"
   ]
  },
  {
   "cell_type": "code",
   "execution_count": 119,
   "id": "970e9e1b",
   "metadata": {},
   "outputs": [],
   "source": [
    "def evaluate(model, test_loader):\n",
    "  model.eval()\n",
    "  test_loss = 0\n",
    "  correct = 0\n",
    "\n",
    "  with torch.no_grad():\n",
    "    for image, label in test_loader:\n",
    "      image = image.to(DEVICE)\n",
    "      label = label.to(DEVICE)\n",
    "      output = model(image)\n",
    "      test_loss += criterion(output, label).item()\n",
    "      prediction = output.max(1, keepdim = True)[1]\n",
    "      correct += prediction.eq(label.view_as(prediction)).sum().item()\n",
    "\n",
    "  test_loss /= len(test_loader)\n",
    "  test_accuracy = 100. * correct / len(test_loader.dataset)\n",
    "  return test_loss, test_accuracy"
   ]
  },
  {
   "cell_type": "code",
   "execution_count": 120,
   "id": "1b436577",
   "metadata": {},
   "outputs": [],
   "source": [
    "def pred(model, test_loader):\n",
    "  model.eval()\n",
    "  pred_li = []\n",
    "\n",
    "  with torch.no_grad():\n",
    "    for image in test_loader:\n",
    "      image = image.to(DEVICE)\n",
    "      output = model(image)\n",
    "      pred_li.append(output.cpu().numpy().argmax(axis=1))\n",
    "\n",
    "  return np.concatenate(pred_li)"
   ]
  },
  {
   "cell_type": "markdown",
   "id": "2cf3234f",
   "metadata": {},
   "source": [
    "## baseline_pytorch"
   ]
  },
  {
   "cell_type": "code",
   "execution_count": 65,
   "id": "5d743b3a",
   "metadata": {},
   "outputs": [],
   "source": [
    "class Net(nn.Module):\n",
    "  def __init__(self):\n",
    "    super(Net, self).__init__()\n",
    "    self.linear1 = nn.Sequential(\n",
    "        nn.Linear(28 * 28, 512)\n",
    "    )\n",
    "    self.linear2 = nn.Sequential(\n",
    "        nn.Linear(512, 256)\n",
    "    )\n",
    "    self.linear3 = nn.Sequential(\n",
    "        nn.Linear(256, 128)\n",
    "    )\n",
    "    self.linear4 = nn.Sequential(\n",
    "        nn.Linear(128, 10)\n",
    "    )\n",
    "\n",
    "  def forward(self, x):\n",
    "    x = x.view(-1, 28 * 28)\n",
    "    x = self.linear1(x)\n",
    "    x = self.linear2(x)\n",
    "    x = self.linear3(x)\n",
    "    x = self.linear4(x)\n",
    "    return x"
   ]
  },
  {
   "cell_type": "code",
   "execution_count": 66,
   "id": "ebb05b3a",
   "metadata": {},
   "outputs": [
    {
     "name": "stdout",
     "output_type": "stream",
     "text": [
      "Net(\n",
      "  (linear1): Sequential(\n",
      "    (0): Linear(in_features=784, out_features=512, bias=True)\n",
      "  )\n",
      "  (linear2): Sequential(\n",
      "    (0): Linear(in_features=512, out_features=256, bias=True)\n",
      "  )\n",
      "  (linear3): Sequential(\n",
      "    (0): Linear(in_features=256, out_features=128, bias=True)\n",
      "  )\n",
      "  (linear4): Sequential(\n",
      "    (0): Linear(in_features=128, out_features=10, bias=True)\n",
      "  )\n",
      ")\n"
     ]
    }
   ],
   "source": [
    "model = Net().to(DEVICE)\n",
    "optimizer = torch.optim.SGD(model.parameters(), lr = 0.01, momentum = 0.5)\n",
    "criterion = nn.CrossEntropyLoss()\n",
    "\n",
    "print(model)"
   ]
  },
  {
   "cell_type": "code",
   "execution_count": 67,
   "id": "a33b7074",
   "metadata": {},
   "outputs": [
    {
     "name": "stdout",
     "output_type": "stream",
     "text": [
      "[EPOCH: 1], \tTrain Loss: 1.3142, \tTrain Accuracy: 56.56 %, \tVal Loss: 0.8089, \tVal Accuracy: 71.28 % \n",
      "\n",
      "[EPOCH: 2], \tTrain Loss: 0.7097, \tTrain Accuracy: 74.62 %, \tVal Loss: 0.6382, \tVal Accuracy: 76.64 % \n",
      "\n",
      "[EPOCH: 3], \tTrain Loss: 0.6056, \tTrain Accuracy: 78.49 %, \tVal Loss: 0.5651, \tVal Accuracy: 80.35 % \n",
      "\n",
      "[EPOCH: 4], \tTrain Loss: 0.5537, \tTrain Accuracy: 80.66 %, \tVal Loss: 0.5330, \tVal Accuracy: 80.87 % \n",
      "\n",
      "[EPOCH: 5], \tTrain Loss: 0.5201, \tTrain Accuracy: 81.73 %, \tVal Loss: 0.5056, \tVal Accuracy: 81.77 % \n",
      "\n",
      "[EPOCH: 6], \tTrain Loss: 0.4986, \tTrain Accuracy: 82.48 %, \tVal Loss: 0.4824, \tVal Accuracy: 82.97 % \n",
      "\n",
      "[EPOCH: 7], \tTrain Loss: 0.4834, \tTrain Accuracy: 82.99 %, \tVal Loss: 0.4747, \tVal Accuracy: 83.13 % \n",
      "\n",
      "[EPOCH: 8], \tTrain Loss: 0.4705, \tTrain Accuracy: 83.57 %, \tVal Loss: 0.4597, \tVal Accuracy: 83.59 % \n",
      "\n",
      "[EPOCH: 9], \tTrain Loss: 0.4609, \tTrain Accuracy: 83.73 %, \tVal Loss: 0.4551, \tVal Accuracy: 83.87 % \n",
      "\n",
      "[EPOCH: 10], \tTrain Loss: 0.4536, \tTrain Accuracy: 84.22 %, \tVal Loss: 0.4427, \tVal Accuracy: 84.55 % \n",
      "\n",
      "[EPOCH: 11], \tTrain Loss: 0.4474, \tTrain Accuracy: 84.43 %, \tVal Loss: 0.4385, \tVal Accuracy: 84.67 % \n",
      "\n",
      "[EPOCH: 12], \tTrain Loss: 0.4428, \tTrain Accuracy: 84.54 %, \tVal Loss: 0.4387, \tVal Accuracy: 84.48 % \n",
      "\n",
      "[EPOCH: 13], \tTrain Loss: 0.4375, \tTrain Accuracy: 84.62 %, \tVal Loss: 0.4289, \tVal Accuracy: 85.21 % \n",
      "\n",
      "[EPOCH: 14], \tTrain Loss: 0.4333, \tTrain Accuracy: 84.77 %, \tVal Loss: 0.4314, \tVal Accuracy: 84.77 % \n",
      "\n",
      "[EPOCH: 15], \tTrain Loss: 0.4300, \tTrain Accuracy: 84.96 %, \tVal Loss: 0.4256, \tVal Accuracy: 85.30 % \n",
      "\n"
     ]
    }
   ],
   "source": [
    "result_list = []\n",
    "for epoch in range(1, EPOCHS + 1):\n",
    "  train_loss, train_accuracy = train(model, train_loader)\n",
    "  val_loss, val_accuracy = evaluate(model, val_loader)\n",
    "  print(f\"[EPOCH: {epoch}], \\tTrain Loss: {train_loss:.4f}, \\tTrain Accuracy: {train_accuracy:.2f} %, \\tVal Loss: {val_loss:.4f}, \\tVal Accuracy: {val_accuracy:.2f} % \\n\")\n",
    "  result = {\n",
    "    'EPOCH': epoch,\n",
    "    'Train Loss': train_loss,\n",
    "    'Train Accuracy': train_accuracy,\n",
    "    'Val Loss': val_loss,\n",
    "    'Val Accuracy': val_accuracy}\n",
    "  \n",
    "  result_list.append(result)\n",
    "result_df = pd.DataFrame(result_list)"
   ]
  },
  {
   "cell_type": "code",
   "execution_count": 121,
   "id": "6c8fd31b",
   "metadata": {},
   "outputs": [
    {
     "data": {
      "image/png": "[encoded data removed]",
      "text/plain": [
       "<Figure size 1080x360 with 2 Axes>"
      ]
     },
     "metadata": {
      "needs_background": "light"
     },
     "output_type": "display_data"
    }
   ],
   "source": [
    "fig, axes = plt.subplots(nrows=1, ncols=2, figsize=(15, 5))\n",
    "\n",
    "axes[0].plot(result_df['EPOCH'], result_df['Train Loss'], label='Train Loss')\n",
    "axes[0].plot(result_df['EPOCH'], result_df['Val Loss'], label='Val Loss')\n",
    "axes[0].set_ylim(0.0, 1)\n",
    "axes[0].legend()\n",
    "axes[0].set_title('Loss')\n",
    "\n",
    "axes[1].plot(result_df['EPOCH'], result_df['Train Accuracy'], label='Train Accuracy')\n",
    "axes[1].plot(result_df['EPOCH'], result_df['Val Accuracy'], label='Val Accuracy')\n",
    "axes[1].set_ylim(80, 100)\n",
    "axes[1].legend()\n",
    "axes[1].set_title('ACC')\n",
    "\n",
    "plt.show()"
   ]
  },
  {
   "cell_type": "markdown",
   "id": "b2c99a75",
   "metadata": {},
   "source": [
    "## 변형해보기"
   ]
  },
  {
   "cell_type": "code",
   "execution_count": 122,
   "id": "a91557a8",
   "metadata": {},
   "outputs": [],
   "source": [
    "class Net(nn.Module):\n",
    "  def __init__(self):\n",
    "    super(Net, self).__init__()\n",
    "    self.linear1 = nn.Sequential(\n",
    "        nn.Linear(28 * 28, 512)\n",
    "    )\n",
    "    self.linear2 = nn.Sequential(\n",
    "        nn.Linear(512, 256)\n",
    "    )\n",
    "    self.linear3 = nn.Sequential(\n",
    "        nn.Linear(256, 128)\n",
    "    )\n",
    "    self.linear4 = nn.Sequential(\n",
    "        nn.Linear(128, 10)\n",
    "    )\n",
    "\n",
    "  def forward(self, x):\n",
    "    x = x.view(-1, 28 * 28)\n",
    "    x = F.relu(self.linear1(x))\n",
    "    x =  F.relu(self.linear2(x))\n",
    "    x =  F.relu(self.linear3(x))\n",
    "    x =  F.relu(self.linear4(x))\n",
    "    return x"
   ]
  },
  {
   "cell_type": "code",
   "execution_count": 123,
   "id": "b2c3dfa7",
   "metadata": {},
   "outputs": [
    {
     "name": "stdout",
     "output_type": "stream",
     "text": [
      "Net(\n",
      "  (linear1): Sequential(\n",
      "    (0): Linear(in_features=784, out_features=512, bias=True)\n",
      "  )\n",
      "  (linear2): Sequential(\n",
      "    (0): Linear(in_features=512, out_features=256, bias=True)\n",
      "  )\n",
      "  (linear3): Sequential(\n",
      "    (0): Linear(in_features=256, out_features=128, bias=True)\n",
      "  )\n",
      "  (linear4): Sequential(\n",
      "    (0): Linear(in_features=128, out_features=10, bias=True)\n",
      "  )\n",
      ")\n"
     ]
    }
   ],
   "source": [
    "model = Net().to(DEVICE)\n",
    "optimizer = torch.optim.SGD(model.parameters(), lr = 0.01, momentum = 0.5)\n",
    "criterion = nn.CrossEntropyLoss()\n",
    "\n",
    "print(model)"
   ]
  },
  {
   "cell_type": "code",
   "execution_count": 124,
   "id": "93da9126",
   "metadata": {},
   "outputs": [
    {
     "name": "stdout",
     "output_type": "stream",
     "text": [
      "[EPOCH: 1], \tTrain Loss: 2.1948, \tTrain Accuracy: 33.03 %, \tVal Loss: 1.8612, \tVal Accuracy: 38.52 % \n",
      "\n",
      "[EPOCH: 2], \tTrain Loss: 1.4707, \tTrain Accuracy: 52.89 %, \tVal Loss: 1.1307, \tVal Accuracy: 66.04 % \n",
      "\n",
      "[EPOCH: 3], \tTrain Loss: 0.9793, \tTrain Accuracy: 69.61 %, \tVal Loss: 0.8881, \tVal Accuracy: 72.27 % \n",
      "\n",
      "[EPOCH: 4], \tTrain Loss: 0.8435, \tTrain Accuracy: 73.37 %, \tVal Loss: 0.7974, \tVal Accuracy: 74.50 % \n",
      "\n",
      "[EPOCH: 5], \tTrain Loss: 0.7814, \tTrain Accuracy: 74.69 %, \tVal Loss: 0.7802, \tVal Accuracy: 74.33 % \n",
      "\n",
      "[EPOCH: 6], \tTrain Loss: 0.7445, \tTrain Accuracy: 75.50 %, \tVal Loss: 0.7249, \tVal Accuracy: 75.82 % \n",
      "\n",
      "[EPOCH: 7], \tTrain Loss: 0.7169, \tTrain Accuracy: 76.15 %, \tVal Loss: 0.6972, \tVal Accuracy: 76.76 % \n",
      "\n",
      "[EPOCH: 8], \tTrain Loss: 0.6980, \tTrain Accuracy: 76.61 %, \tVal Loss: 0.6816, \tVal Accuracy: 77.07 % \n",
      "\n",
      "[EPOCH: 9], \tTrain Loss: 0.6818, \tTrain Accuracy: 77.15 %, \tVal Loss: 0.6712, \tVal Accuracy: 77.47 % \n",
      "\n",
      "[EPOCH: 10], \tTrain Loss: 0.6682, \tTrain Accuracy: 77.51 %, \tVal Loss: 0.6787, \tVal Accuracy: 76.82 % \n",
      "\n",
      "[EPOCH: 11], \tTrain Loss: 0.6564, \tTrain Accuracy: 77.76 %, \tVal Loss: 0.6459, \tVal Accuracy: 78.15 % \n",
      "\n",
      "[EPOCH: 12], \tTrain Loss: 0.6451, \tTrain Accuracy: 78.08 %, \tVal Loss: 0.6326, \tVal Accuracy: 78.70 % \n",
      "\n",
      "[EPOCH: 13], \tTrain Loss: 0.6375, \tTrain Accuracy: 78.57 %, \tVal Loss: 0.6216, \tVal Accuracy: 78.87 % \n",
      "\n",
      "[EPOCH: 14], \tTrain Loss: 0.6259, \tTrain Accuracy: 78.76 %, \tVal Loss: 0.6166, \tVal Accuracy: 79.08 % \n",
      "\n",
      "[EPOCH: 15], \tTrain Loss: 0.6179, \tTrain Accuracy: 79.07 %, \tVal Loss: 0.6074, \tVal Accuracy: 79.39 % \n",
      "\n"
     ]
    }
   ],
   "source": [
    "result_list = []\n",
    "for epoch in range(1, EPOCHS + 1):\n",
    "  train_loss, train_accuracy = train(model, train_loader)\n",
    "  val_loss, val_accuracy = evaluate(model, val_loader)\n",
    "  print(f\"[EPOCH: {epoch}], \\tTrain Loss: {train_loss:.4f}, \\tTrain Accuracy: {train_accuracy:.2f} %, \\tVal Loss: {val_loss:.4f}, \\tVal Accuracy: {val_accuracy:.2f} % \\n\")\n",
    "  result = {\n",
    "    'EPOCH': epoch,\n",
    "    'Train Loss': train_loss,\n",
    "    'Train Accuracy': train_accuracy,\n",
    "    'Val Loss': val_loss,\n",
    "    'Val Accuracy': val_accuracy}\n",
    "  \n",
    "  result_list.append(result)\n",
    "result_df = pd.DataFrame(result_list)"
   ]
  },
  {
   "cell_type": "code",
   "execution_count": 126,
   "id": "f5540f3a",
   "metadata": {},
   "outputs": [
    {
     "data": {
      "image/png": "[encoded data removed]",
      "text/plain": [
       "<Figure size 1080x360 with 2 Axes>"
      ]
     },
     "metadata": {
      "needs_background": "light"
     },
     "output_type": "display_data"
    }
   ],
   "source": [
    "fig, axes = plt.subplots(nrows=1, ncols=2, figsize=(15, 5))\n",
    "\n",
    "axes[0].plot(result_df['EPOCH'], result_df['Train Loss'], label='Train Loss')\n",
    "axes[0].plot(result_df['EPOCH'], result_df['Val Loss'], label='Val Loss')\n",
    "axes[0].set_ylim(0.0, 1)\n",
    "axes[0].legend()\n",
    "axes[0].set_title('Loss')\n",
    "\n",
    "axes[1].plot(result_df['EPOCH'], result_df['Train Accuracy'], label='Train Accuracy')\n",
    "axes[1].plot(result_df['EPOCH'], result_df['Val Accuracy'], label='Val Accuracy')\n",
    "axes[1].set_ylim(60, 80)\n",
    "axes[1].legend()\n",
    "axes[1].set_title('ACC')\n",
    "\n",
    "plt.show()"
   ]
  },
  {
   "cell_type": "markdown",
   "id": "44446a2c",
   "metadata": {},
   "source": [
    "각 층마다 output에 대해 relu를 적용해줬지만 성능이 더 안 좋아졌다"
   ]
  },
  {
   "cell_type": "markdown",
   "id": "5fd9423f",
   "metadata": {},
   "source": [
    "## 변형하기 2\n",
    "\n",
    "### Weight Initialization"
   ]
  },
  {
   "cell_type": "code",
   "execution_count": 151,
   "id": "593187cf",
   "metadata": {},
   "outputs": [],
   "source": [
    "class Net(nn.Module):\n",
    "  def __init__(self):\n",
    "    super(Net, self).__init__()\n",
    "    self.linear1 = nn.Sequential(\n",
    "        nn.Linear(28 * 28, 512),\n",
    "        nn.ReLU()\n",
    "    )\n",
    "    self.linear2 = nn.Sequential(\n",
    "        nn.Linear(512, 256),\n",
    "        nn.ReLU()\n",
    "    )\n",
    "    self.linear3 = nn.Sequential(\n",
    "        nn.Linear(256, 128),\n",
    "        nn.ReLU()\n",
    "    )\n",
    "    self.linear4 = nn.Sequential(\n",
    "        nn.Linear(128, 10)\n",
    "    )\n",
    "\n",
    "    self._init_weight_()\n",
    "\n",
    "  def _init_weight_(self):\n",
    "    for m in self.linear1:\n",
    "      if isinstance(m, nn.Linear):\n",
    "        nn.init.kaiming_uniform_(m.weight)\n",
    "\n",
    "    for m in self.linear2:\n",
    "      if isinstance(m, nn.Linear):\n",
    "        nn.init.kaiming_uniform_(m.weight)\n",
    "\n",
    "    for m in self.linear3:\n",
    "      if isinstance(m, nn.Linear):\n",
    "        nn.init.kaiming_uniform_(m.weight)\n",
    "\n",
    "  def forward(self, x):\n",
    "    x = x.view(-1, 28 * 28)\n",
    "    x = self.linear1(x)\n",
    "    x = self.linear2(x)\n",
    "    x = self.linear3(x)\n",
    "    x = self.linear4(x)\n",
    "    return x"
   ]
  },
  {
   "cell_type": "code",
   "execution_count": 152,
   "id": "67193d2b",
   "metadata": {},
   "outputs": [
    {
     "name": "stdout",
     "output_type": "stream",
     "text": [
      "Net(\n",
      "  (linear1): Sequential(\n",
      "    (0): Linear(in_features=784, out_features=512, bias=True)\n",
      "    (1): ReLU()\n",
      "  )\n",
      "  (linear2): Sequential(\n",
      "    (0): Linear(in_features=512, out_features=256, bias=True)\n",
      "    (1): ReLU()\n",
      "  )\n",
      "  (linear3): Sequential(\n",
      "    (0): Linear(in_features=256, out_features=128, bias=True)\n",
      "    (1): ReLU()\n",
      "  )\n",
      "  (linear4): Sequential(\n",
      "    (0): Linear(in_features=128, out_features=10, bias=True)\n",
      "  )\n",
      ")\n"
     ]
    }
   ],
   "source": [
    "model = Net().to(DEVICE)\n",
    "optimizer = torch.optim.SGD(model.parameters(), lr = 0.01, momentum = 0.5)\n",
    "criterion = nn.CrossEntropyLoss()\n",
    "\n",
    "print(model)"
   ]
  },
  {
   "cell_type": "code",
   "execution_count": 153,
   "id": "dec81d7b",
   "metadata": {},
   "outputs": [
    {
     "name": "stdout",
     "output_type": "stream",
     "text": [
      "[EPOCH: 1], \tTrain Loss: 0.9782, \tTrain Accuracy: 68.83 %, \tVal Loss: 0.6328, \tVal Accuracy: 77.76 % \n",
      "\n",
      "[EPOCH: 2], \tTrain Loss: 0.5684, \tTrain Accuracy: 80.29 %, \tVal Loss: 0.5179, \tVal Accuracy: 81.76 % \n",
      "\n",
      "[EPOCH: 3], \tTrain Loss: 0.5028, \tTrain Accuracy: 82.28 %, \tVal Loss: 0.4682, \tVal Accuracy: 83.70 % \n",
      "\n",
      "[EPOCH: 4], \tTrain Loss: 0.4688, \tTrain Accuracy: 83.48 %, \tVal Loss: 0.4433, \tVal Accuracy: 84.37 % \n",
      "\n",
      "[EPOCH: 5], \tTrain Loss: 0.4425, \tTrain Accuracy: 84.28 %, \tVal Loss: 0.4223, \tVal Accuracy: 85.29 % \n",
      "\n",
      "[EPOCH: 6], \tTrain Loss: 0.4248, \tTrain Accuracy: 84.97 %, \tVal Loss: 0.4110, \tVal Accuracy: 85.44 % \n",
      "\n",
      "[EPOCH: 7], \tTrain Loss: 0.4091, \tTrain Accuracy: 85.46 %, \tVal Loss: 0.4223, \tVal Accuracy: 85.34 % \n",
      "\n",
      "[EPOCH: 8], \tTrain Loss: 0.3969, \tTrain Accuracy: 85.95 %, \tVal Loss: 0.3942, \tVal Accuracy: 86.04 % \n",
      "\n",
      "[EPOCH: 9], \tTrain Loss: 0.3855, \tTrain Accuracy: 86.34 %, \tVal Loss: 0.3827, \tVal Accuracy: 86.53 % \n",
      "\n",
      "[EPOCH: 10], \tTrain Loss: 0.3742, \tTrain Accuracy: 86.76 %, \tVal Loss: 0.3743, \tVal Accuracy: 86.71 % \n",
      "\n",
      "[EPOCH: 11], \tTrain Loss: 0.3635, \tTrain Accuracy: 87.12 %, \tVal Loss: 0.3654, \tVal Accuracy: 86.96 % \n",
      "\n",
      "[EPOCH: 12], \tTrain Loss: 0.3581, \tTrain Accuracy: 87.25 %, \tVal Loss: 0.3617, \tVal Accuracy: 87.11 % \n",
      "\n",
      "[EPOCH: 13], \tTrain Loss: 0.3484, \tTrain Accuracy: 87.58 %, \tVal Loss: 0.3643, \tVal Accuracy: 87.11 % \n",
      "\n",
      "[EPOCH: 14], \tTrain Loss: 0.3407, \tTrain Accuracy: 87.95 %, \tVal Loss: 0.3436, \tVal Accuracy: 87.89 % \n",
      "\n",
      "[EPOCH: 15], \tTrain Loss: 0.3338, \tTrain Accuracy: 88.07 %, \tVal Loss: 0.3423, \tVal Accuracy: 87.92 % \n",
      "\n"
     ]
    }
   ],
   "source": [
    "result_list = []\n",
    "for epoch in range(1, EPOCHS + 1):\n",
    "  train_loss, train_accuracy = train(model, train_loader)\n",
    "  val_loss, val_accuracy = evaluate(model, val_loader)\n",
    "  print(f\"[EPOCH: {epoch}], \\tTrain Loss: {train_loss:.4f}, \\tTrain Accuracy: {train_accuracy:.2f} %, \\tVal Loss: {val_loss:.4f}, \\tVal Accuracy: {val_accuracy:.2f} % \\n\")\n",
    "  result = {\n",
    "    'EPOCH': epoch,\n",
    "    'Train Loss': train_loss,\n",
    "    'Train Accuracy': train_accuracy,\n",
    "    'Val Loss': val_loss,\n",
    "    'Val Accuracy': val_accuracy}\n",
    "  \n",
    "  result_list.append(result)\n",
    "result_df = pd.DataFrame(result_list)"
   ]
  },
  {
   "cell_type": "markdown",
   "id": "b4823a12",
   "metadata": {},
   "source": [
    "### 가중치 초기화를 해주니 성능이 더 좋아졌다"
   ]
  },
  {
   "cell_type": "code",
   "execution_count": 154,
   "id": "c64355d2",
   "metadata": {},
   "outputs": [
    {
     "data": {
      "image/png": "[encoded data removed]",
      "text/plain": [
       "<Figure size 1080x360 with 2 Axes>"
      ]
     },
     "metadata": {
      "needs_background": "light"
     },
     "output_type": "display_data"
    }
   ],
   "source": [
    "fig, axes = plt.subplots(nrows=1, ncols=2, figsize=(15, 5))\n",
    "\n",
    "axes[0].plot(result_df['EPOCH'], result_df['Train Loss'], label='Train Loss')\n",
    "axes[0].plot(result_df['EPOCH'], result_df['Val Loss'], label='Val Loss')\n",
    "axes[0].set_ylim(0.0, 1)\n",
    "axes[0].legend()\n",
    "axes[0].set_title('Loss')\n",
    "\n",
    "axes[1].plot(result_df['EPOCH'], result_df['Train Accuracy'], label='Train Accuracy')\n",
    "axes[1].plot(result_df['EPOCH'], result_df['Val Accuracy'], label='Val Accuracy')\n",
    "axes[1].set_ylim(80, 100)\n",
    "axes[1].legend()\n",
    "axes[1].set_title('ACC')\n",
    "\n",
    "plt.show()"
   ]
  },
  {
   "cell_type": "code",
   "execution_count": 163,
   "id": "e9038b0d",
   "metadata": {},
   "outputs": [],
   "source": [
    "### kaiming_uniform 말고 xavier_uniform 사용해보았다"
   ]
  },
  {
   "cell_type": "code",
   "execution_count": 170,
   "id": "fac31726",
   "metadata": {},
   "outputs": [],
   "source": [
    "class Net(nn.Module):\n",
    "  def __init__(self):\n",
    "    super(Net, self).__init__()\n",
    "    self.linear1 = nn.Sequential(\n",
    "        nn.Linear(28 * 28, 512),\n",
    "        nn.ReLU()\n",
    "    )\n",
    "    self.linear2 = nn.Sequential(\n",
    "        nn.Linear(512, 256),\n",
    "        nn.ReLU()\n",
    "    )\n",
    "    self.linear3 = nn.Sequential(\n",
    "        nn.Linear(256, 128),\n",
    "        nn.ReLU()\n",
    "    )\n",
    "    self.linear4 = nn.Sequential(\n",
    "        nn.Linear(128, 10)\n",
    "    )\n",
    "\n",
    "    self._init_weight_()\n",
    "\n",
    "  def _init_weight_(self):\n",
    "    for m in self.linear1:\n",
    "      if isinstance(m, nn.Linear):\n",
    "        nn.init.xavier_uniform_(m.weight)\n",
    "\n",
    "    for m in self.linear2:\n",
    "      if isinstance(m, nn.Linear):\n",
    "        nn.init.xavier_uniform_(m.weight)\n",
    "\n",
    "    for m in self.linear3:\n",
    "      if isinstance(m, nn.Linear):\n",
    "        nn.init.xavier_uniform_(m.weight)\n",
    "\n",
    "  def forward(self, x):\n",
    "    x = x.view(-1, 28 * 28)\n",
    "    x = self.linear1(x)\n",
    "    x = self.linear2(x)\n",
    "    x = self.linear3(x)\n",
    "    x = self.linear4(x)\n",
    "    return x"
   ]
  },
  {
   "cell_type": "code",
   "execution_count": 171,
   "id": "9be83dca",
   "metadata": {},
   "outputs": [
    {
     "name": "stdout",
     "output_type": "stream",
     "text": [
      "Net(\n",
      "  (linear1): Sequential(\n",
      "    (0): Linear(in_features=784, out_features=512, bias=True)\n",
      "    (1): ReLU()\n",
      "  )\n",
      "  (linear2): Sequential(\n",
      "    (0): Linear(in_features=512, out_features=256, bias=True)\n",
      "    (1): ReLU()\n",
      "  )\n",
      "  (linear3): Sequential(\n",
      "    (0): Linear(in_features=256, out_features=128, bias=True)\n",
      "    (1): ReLU()\n",
      "  )\n",
      "  (linear4): Sequential(\n",
      "    (0): Linear(in_features=128, out_features=10, bias=True)\n",
      "  )\n",
      ")\n"
     ]
    }
   ],
   "source": [
    "model = Net().to(DEVICE)\n",
    "optimizer = torch.optim.SGD(model.parameters(), lr = 0.01, momentum = 0.5)\n",
    "criterion = nn.CrossEntropyLoss()\n",
    "\n",
    "print(model)"
   ]
  },
  {
   "cell_type": "code",
   "execution_count": 169,
   "id": "4b8c8f83",
   "metadata": {},
   "outputs": [
    {
     "name": "stdout",
     "output_type": "stream",
     "text": [
      "[EPOCH: 1], \tTrain Loss: 1.1454, \tTrain Accuracy: 63.04 %, \tVal Loss: 0.6828, \tVal Accuracy: 75.94 % \n",
      "\n",
      "[EPOCH: 2], \tTrain Loss: 0.6109, \tTrain Accuracy: 79.18 %, \tVal Loss: 0.5408, \tVal Accuracy: 81.59 % \n",
      "\n",
      "[EPOCH: 3], \tTrain Loss: 0.5221, \tTrain Accuracy: 81.85 %, \tVal Loss: 0.4900, \tVal Accuracy: 82.66 % \n",
      "\n",
      "[EPOCH: 4], \tTrain Loss: 0.4847, \tTrain Accuracy: 83.04 %, \tVal Loss: 0.4668, \tVal Accuracy: 83.66 % \n",
      "\n",
      "[EPOCH: 5], \tTrain Loss: 0.4596, \tTrain Accuracy: 83.82 %, \tVal Loss: 0.4391, \tVal Accuracy: 84.54 % \n",
      "\n",
      "[EPOCH: 6], \tTrain Loss: 0.4421, \tTrain Accuracy: 84.35 %, \tVal Loss: 0.4844, \tVal Accuracy: 82.47 % \n",
      "\n",
      "[EPOCH: 7], \tTrain Loss: 0.4283, \tTrain Accuracy: 84.90 %, \tVal Loss: 0.4361, \tVal Accuracy: 84.90 % \n",
      "\n",
      "[EPOCH: 8], \tTrain Loss: 0.4153, \tTrain Accuracy: 85.30 %, \tVal Loss: 0.4905, \tVal Accuracy: 82.61 % \n",
      "\n",
      "[EPOCH: 9], \tTrain Loss: 0.4031, \tTrain Accuracy: 85.76 %, \tVal Loss: 0.4036, \tVal Accuracy: 85.59 % \n",
      "\n",
      "[EPOCH: 10], \tTrain Loss: 0.3901, \tTrain Accuracy: 86.09 %, \tVal Loss: 0.3825, \tVal Accuracy: 86.58 % \n",
      "\n",
      "[EPOCH: 11], \tTrain Loss: 0.3822, \tTrain Accuracy: 86.39 %, \tVal Loss: 0.3806, \tVal Accuracy: 86.66 % \n",
      "\n",
      "[EPOCH: 12], \tTrain Loss: 0.3732, \tTrain Accuracy: 86.62 %, \tVal Loss: 0.3783, \tVal Accuracy: 86.47 % \n",
      "\n",
      "[EPOCH: 13], \tTrain Loss: 0.3634, \tTrain Accuracy: 86.99 %, \tVal Loss: 0.3721, \tVal Accuracy: 86.92 % \n",
      "\n",
      "[EPOCH: 14], \tTrain Loss: 0.3579, \tTrain Accuracy: 87.18 %, \tVal Loss: 0.3563, \tVal Accuracy: 87.34 % \n",
      "\n",
      "[EPOCH: 15], \tTrain Loss: 0.3491, \tTrain Accuracy: 87.45 %, \tVal Loss: 0.3611, \tVal Accuracy: 87.48 % \n",
      "\n"
     ]
    }
   ],
   "source": [
    "result_list = []\n",
    "for epoch in range(1, EPOCHS + 1):\n",
    "  train_loss, train_accuracy = train(model, train_loader)\n",
    "  val_loss, val_accuracy = evaluate(model, val_loader)\n",
    "  print(f\"[EPOCH: {epoch}], \\tTrain Loss: {train_loss:.4f}, \\tTrain Accuracy: {train_accuracy:.2f} %, \\tVal Loss: {val_loss:.4f}, \\tVal Accuracy: {val_accuracy:.2f} % \\n\")\n",
    "  result = {\n",
    "    'EPOCH': epoch,\n",
    "    'Train Loss': train_loss,\n",
    "    'Train Accuracy': train_accuracy,\n",
    "    'Val Loss': val_loss,\n",
    "    'Val Accuracy': val_accuracy}\n",
    "  \n",
    "  result_list.append(result)\n",
    "result_df = pd.DataFrame(result_list)"
   ]
  },
  {
   "cell_type": "markdown",
   "id": "19f5cd61",
   "metadata": {},
   "source": [
    "## 변형 3 \n",
    "\n",
    "### Batch Normalization"
   ]
  },
  {
   "cell_type": "code",
   "execution_count": 172,
   "id": "ac9b6fa1",
   "metadata": {},
   "outputs": [],
   "source": [
    "class Net(nn.Module):\n",
    "  def __init__(self):\n",
    "    super(Net, self).__init__()\n",
    "    self.linear1 = nn.Sequential(\n",
    "        nn.Linear(28 * 28, 512),\n",
    "        nn.BatchNorm1d(512),\n",
    "        nn.ReLU()\n",
    "    )\n",
    "    self.linear2 = nn.Sequential(\n",
    "        nn.Linear(512, 256),\n",
    "        nn.BatchNorm1d(256),\n",
    "        nn.ReLU()\n",
    "    )\n",
    "    self.linear3 = nn.Sequential(\n",
    "        nn.Linear(256, 128),\n",
    "        nn.BatchNorm1d(128),\n",
    "        nn.ReLU()\n",
    "    )\n",
    "    self.linear4 = nn.Sequential(\n",
    "        nn.Linear(128, 10)\n",
    "    )\n",
    "\n",
    "    self._init_weight_()\n",
    "\n",
    "  def _init_weight_(self):\n",
    "    for m in self.linear1:\n",
    "      if isinstance(m, nn.Linear):\n",
    "        nn.init.kaiming_uniform_(m.weight)\n",
    "\n",
    "    for m in self.linear2:\n",
    "      if isinstance(m, nn.Linear):\n",
    "        nn.init.kaiming_uniform_(m.weight)\n",
    "\n",
    "    for m in self.linear3:\n",
    "      if isinstance(m, nn.Linear):\n",
    "        nn.init.kaiming_uniform_(m.weight)\n",
    "\n",
    "  def forward(self, x):\n",
    "    x = x.view(-1, 28 * 28)\n",
    "    x = self.linear1(x)\n",
    "    x = self.linear2(x)\n",
    "    x = self.linear3(x)\n",
    "    x = self.linear4(x)\n",
    "    return x"
   ]
  },
  {
   "cell_type": "code",
   "execution_count": 173,
   "id": "e1dbaa77",
   "metadata": {},
   "outputs": [
    {
     "name": "stdout",
     "output_type": "stream",
     "text": [
      "Net(\n",
      "  (linear1): Sequential(\n",
      "    (0): Linear(in_features=784, out_features=512, bias=True)\n",
      "    (1): BatchNorm1d(512, eps=1e-05, momentum=0.1, affine=True, track_running_stats=True)\n",
      "    (2): ReLU()\n",
      "  )\n",
      "  (linear2): Sequential(\n",
      "    (0): Linear(in_features=512, out_features=256, bias=True)\n",
      "    (1): BatchNorm1d(256, eps=1e-05, momentum=0.1, affine=True, track_running_stats=True)\n",
      "    (2): ReLU()\n",
      "  )\n",
      "  (linear3): Sequential(\n",
      "    (0): Linear(in_features=256, out_features=128, bias=True)\n",
      "    (1): BatchNorm1d(128, eps=1e-05, momentum=0.1, affine=True, track_running_stats=True)\n",
      "    (2): ReLU()\n",
      "  )\n",
      "  (linear4): Sequential(\n",
      "    (0): Linear(in_features=128, out_features=10, bias=True)\n",
      "  )\n",
      ")\n"
     ]
    }
   ],
   "source": [
    "model = Net().to(DEVICE)\n",
    "optimizer = torch.optim.SGD(model.parameters(), lr = 0.01, momentum = 0.5)\n",
    "criterion = nn.CrossEntropyLoss()\n",
    "\n",
    "print(model)"
   ]
  },
  {
   "cell_type": "code",
   "execution_count": 174,
   "id": "80a28ebd",
   "metadata": {},
   "outputs": [
    {
     "name": "stdout",
     "output_type": "stream",
     "text": [
      "[EPOCH: 1], \tTrain Loss: 0.8148, \tTrain Accuracy: 75.42 %, \tVal Loss: 0.5159, \tVal Accuracy: 82.32 % \n",
      "\n",
      "[EPOCH: 2], \tTrain Loss: 0.4772, \tTrain Accuracy: 83.38 %, \tVal Loss: 0.4213, \tVal Accuracy: 84.93 % \n",
      "\n",
      "[EPOCH: 3], \tTrain Loss: 0.4080, \tTrain Accuracy: 85.57 %, \tVal Loss: 0.3837, \tVal Accuracy: 86.31 % \n",
      "\n",
      "[EPOCH: 4], \tTrain Loss: 0.3689, \tTrain Accuracy: 86.87 %, \tVal Loss: 0.3590, \tVal Accuracy: 87.06 % \n",
      "\n",
      "[EPOCH: 5], \tTrain Loss: 0.3434, \tTrain Accuracy: 87.76 %, \tVal Loss: 0.3447, \tVal Accuracy: 87.82 % \n",
      "\n",
      "[EPOCH: 6], \tTrain Loss: 0.3189, \tTrain Accuracy: 88.62 %, \tVal Loss: 0.3432, \tVal Accuracy: 87.65 % \n",
      "\n",
      "[EPOCH: 7], \tTrain Loss: 0.3024, \tTrain Accuracy: 89.26 %, \tVal Loss: 0.3373, \tVal Accuracy: 87.60 % \n",
      "\n",
      "[EPOCH: 8], \tTrain Loss: 0.2862, \tTrain Accuracy: 89.72 %, \tVal Loss: 0.3309, \tVal Accuracy: 88.03 % \n",
      "\n",
      "[EPOCH: 9], \tTrain Loss: 0.2691, \tTrain Accuracy: 90.50 %, \tVal Loss: 0.3240, \tVal Accuracy: 88.23 % \n",
      "\n",
      "[EPOCH: 10], \tTrain Loss: 0.2542, \tTrain Accuracy: 91.03 %, \tVal Loss: 0.3193, \tVal Accuracy: 88.74 % \n",
      "\n",
      "[EPOCH: 11], \tTrain Loss: 0.2417, \tTrain Accuracy: 91.48 %, \tVal Loss: 0.3275, \tVal Accuracy: 88.28 % \n",
      "\n",
      "[EPOCH: 12], \tTrain Loss: 0.2291, \tTrain Accuracy: 91.97 %, \tVal Loss: 0.3146, \tVal Accuracy: 88.76 % \n",
      "\n",
      "[EPOCH: 13], \tTrain Loss: 0.2156, \tTrain Accuracy: 92.43 %, \tVal Loss: 0.3344, \tVal Accuracy: 88.39 % \n",
      "\n",
      "[EPOCH: 14], \tTrain Loss: 0.2039, \tTrain Accuracy: 92.94 %, \tVal Loss: 0.3185, \tVal Accuracy: 88.76 % \n",
      "\n",
      "[EPOCH: 15], \tTrain Loss: 0.1918, \tTrain Accuracy: 93.35 %, \tVal Loss: 0.3186, \tVal Accuracy: 88.86 % \n",
      "\n"
     ]
    }
   ],
   "source": [
    "result_list = []\n",
    "for epoch in range(1, EPOCHS + 1):\n",
    "  train_loss, train_accuracy = train(model, train_loader)\n",
    "  val_loss, val_accuracy = evaluate(model, val_loader)\n",
    "  print(f\"[EPOCH: {epoch}], \\tTrain Loss: {train_loss:.4f}, \\tTrain Accuracy: {train_accuracy:.2f} %, \\tVal Loss: {val_loss:.4f}, \\tVal Accuracy: {val_accuracy:.2f} % \\n\")\n",
    "  result = {\n",
    "    'EPOCH': epoch,\n",
    "    'Train Loss': train_loss,\n",
    "    'Train Accuracy': train_accuracy,\n",
    "    'Val Loss': val_loss,\n",
    "    'Val Accuracy': val_accuracy}\n",
    "  \n",
    "  result_list.append(result)\n",
    "result_df = pd.DataFrame(result_list)"
   ]
  },
  {
   "cell_type": "markdown",
   "id": "704fd1b8",
   "metadata": {},
   "source": [
    "### batchnorm을 해주니 성능이 향상되었다."
   ]
  },
  {
   "cell_type": "markdown",
   "id": "4c8968a6",
   "metadata": {},
   "source": [
    "## 변형 4 \n",
    "### Optimization SGD -> Adam"
   ]
  },
  {
   "cell_type": "code",
   "execution_count": 179,
   "id": "fb509d88",
   "metadata": {},
   "outputs": [],
   "source": [
    "class Net(nn.Module):\n",
    "  def __init__(self):\n",
    "    super(Net, self).__init__()\n",
    "    self.linear1 = nn.Sequential(\n",
    "        nn.Linear(28 * 28, 512),\n",
    "        nn.BatchNorm1d(512),\n",
    "        nn.ReLU()\n",
    "    )\n",
    "    self.linear2 = nn.Sequential(\n",
    "        nn.Linear(512, 256),\n",
    "        nn.BatchNorm1d(256),\n",
    "        nn.ReLU()\n",
    "    )\n",
    "    self.linear3 = nn.Sequential(\n",
    "        nn.Linear(256, 128),\n",
    "        nn.BatchNorm1d(128),\n",
    "        nn.ReLU()\n",
    "    )\n",
    "    self.linear4 = nn.Sequential(\n",
    "        nn.Linear(128, 10)\n",
    "    )\n",
    "\n",
    "    self._init_weight_()\n",
    "\n",
    "  def _init_weight_(self):\n",
    "    for m in self.linear1:\n",
    "      if isinstance(m, nn.Linear):\n",
    "        nn.init.kaiming_uniform_(m.weight)\n",
    "\n",
    "    for m in self.linear2:\n",
    "      if isinstance(m, nn.Linear):\n",
    "        nn.init.kaiming_uniform_(m.weight)\n",
    "\n",
    "    for m in self.linear3:\n",
    "      if isinstance(m, nn.Linear):\n",
    "        nn.init.kaiming_uniform_(m.weight)\n",
    "\n",
    "  def forward(self, x):\n",
    "    x = x.view(-1, 28 * 28)\n",
    "    x = self.linear1(x)\n",
    "    x = self.linear2(x)\n",
    "    x = self.linear3(x)\n",
    "    x = self.linear4(x)\n",
    "    return x"
   ]
  },
  {
   "cell_type": "code",
   "execution_count": 180,
   "id": "a33b411b",
   "metadata": {},
   "outputs": [
    {
     "name": "stdout",
     "output_type": "stream",
     "text": [
      "Net(\n",
      "  (linear1): Sequential(\n",
      "    (0): Linear(in_features=784, out_features=512, bias=True)\n",
      "    (1): BatchNorm1d(512, eps=1e-05, momentum=0.1, affine=True, track_running_stats=True)\n",
      "    (2): ReLU()\n",
      "  )\n",
      "  (linear2): Sequential(\n",
      "    (0): Linear(in_features=512, out_features=256, bias=True)\n",
      "    (1): BatchNorm1d(256, eps=1e-05, momentum=0.1, affine=True, track_running_stats=True)\n",
      "    (2): ReLU()\n",
      "  )\n",
      "  (linear3): Sequential(\n",
      "    (0): Linear(in_features=256, out_features=128, bias=True)\n",
      "    (1): BatchNorm1d(128, eps=1e-05, momentum=0.1, affine=True, track_running_stats=True)\n",
      "    (2): ReLU()\n",
      "  )\n",
      "  (linear4): Sequential(\n",
      "    (0): Linear(in_features=128, out_features=10, bias=True)\n",
      "  )\n",
      ")\n"
     ]
    }
   ],
   "source": [
    "model = Net().to(DEVICE)\n",
    "optimizer = torch.optim.Adam(model.parameters(), lr = 0.01)\n",
    "criterion = nn.CrossEntropyLoss()\n",
    "\n",
    "print(model)"
   ]
  },
  {
   "cell_type": "code",
   "execution_count": 181,
   "id": "56663f95",
   "metadata": {},
   "outputs": [
    {
     "name": "stdout",
     "output_type": "stream",
     "text": [
      "[EPOCH: 1], \tTrain Loss: 0.4846, \tTrain Accuracy: 82.27 %, \tVal Loss: 0.4002, \tVal Accuracy: 85.01 % \n",
      "\n",
      "[EPOCH: 2], \tTrain Loss: 0.3736, \tTrain Accuracy: 86.13 %, \tVal Loss: 0.3907, \tVal Accuracy: 86.17 % \n",
      "\n",
      "[EPOCH: 3], \tTrain Loss: 0.3285, \tTrain Accuracy: 87.94 %, \tVal Loss: 0.3690, \tVal Accuracy: 85.88 % \n",
      "\n",
      "[EPOCH: 4], \tTrain Loss: 0.3026, \tTrain Accuracy: 88.66 %, \tVal Loss: 0.3361, \tVal Accuracy: 87.93 % \n",
      "\n",
      "[EPOCH: 5], \tTrain Loss: 0.2809, \tTrain Accuracy: 89.48 %, \tVal Loss: 0.3289, \tVal Accuracy: 87.92 % \n",
      "\n",
      "[EPOCH: 6], \tTrain Loss: 0.2589, \tTrain Accuracy: 90.25 %, \tVal Loss: 0.3025, \tVal Accuracy: 88.98 % \n",
      "\n",
      "[EPOCH: 7], \tTrain Loss: 0.2488, \tTrain Accuracy: 90.67 %, \tVal Loss: 0.2926, \tVal Accuracy: 89.60 % \n",
      "\n",
      "[EPOCH: 8], \tTrain Loss: 0.2306, \tTrain Accuracy: 91.34 %, \tVal Loss: 0.3170, \tVal Accuracy: 88.40 % \n",
      "\n",
      "[EPOCH: 9], \tTrain Loss: 0.2194, \tTrain Accuracy: 91.71 %, \tVal Loss: 0.2942, \tVal Accuracy: 89.57 % \n",
      "\n",
      "[EPOCH: 10], \tTrain Loss: 0.2024, \tTrain Accuracy: 92.18 %, \tVal Loss: 0.3199, \tVal Accuracy: 89.28 % \n",
      "\n",
      "[EPOCH: 11], \tTrain Loss: 0.1928, \tTrain Accuracy: 92.71 %, \tVal Loss: 0.3516, \tVal Accuracy: 87.63 % \n",
      "\n",
      "[EPOCH: 12], \tTrain Loss: 0.1883, \tTrain Accuracy: 92.88 %, \tVal Loss: 0.3395, \tVal Accuracy: 88.73 % \n",
      "\n",
      "[EPOCH: 13], \tTrain Loss: 0.1702, \tTrain Accuracy: 93.61 %, \tVal Loss: 0.3254, \tVal Accuracy: 89.50 % \n",
      "\n",
      "[EPOCH: 14], \tTrain Loss: 0.1651, \tTrain Accuracy: 93.67 %, \tVal Loss: 0.3470, \tVal Accuracy: 88.89 % \n",
      "\n",
      "[EPOCH: 15], \tTrain Loss: 0.1539, \tTrain Accuracy: 94.02 %, \tVal Loss: 0.3464, \tVal Accuracy: 88.86 % \n",
      "\n"
     ]
    }
   ],
   "source": [
    "result_list = []\n",
    "for epoch in range(1, EPOCHS + 1):\n",
    "  train_loss, train_accuracy = train(model, train_loader)\n",
    "  val_loss, val_accuracy = evaluate(model, val_loader)\n",
    "  print(f\"[EPOCH: {epoch}], \\tTrain Loss: {train_loss:.4f}, \\tTrain Accuracy: {train_accuracy:.2f} %, \\tVal Loss: {val_loss:.4f}, \\tVal Accuracy: {val_accuracy:.2f} % \\n\")\n",
    "  result = {\n",
    "    'EPOCH': epoch,\n",
    "    'Train Loss': train_loss,\n",
    "    'Train Accuracy': train_accuracy,\n",
    "    'Val Loss': val_loss,\n",
    "    'Val Accuracy': val_accuracy}\n",
    "  \n",
    "  result_list.append(result)\n",
    "result_df = pd.DataFrame(result_list)"
   ]
  },
  {
   "cell_type": "markdown",
   "id": "f2dd1cb6",
   "metadata": {},
   "source": [
    "### 성능이 살짝 .. ? 향상된 것 같다"
   ]
  },
  {
   "cell_type": "markdown",
   "id": "629b4e65",
   "metadata": {},
   "source": [
    "## 변형 5\n",
    "\n",
    "### Dropout"
   ]
  },
  {
   "cell_type": "code",
   "execution_count": 182,
   "id": "a200e9ad",
   "metadata": {},
   "outputs": [],
   "source": [
    "class Net(nn.Module):\n",
    "  def __init__(self):\n",
    "    super(Net, self).__init__()\n",
    "    self.linear1 = nn.Sequential(\n",
    "        nn.Linear(28 * 28, 512),\n",
    "        nn.BatchNorm1d(512),\n",
    "        nn.ReLU(),\n",
    "        nn.Dropout(0.2)\n",
    "    )\n",
    "    self.linear2 = nn.Sequential(\n",
    "        nn.Linear(512, 256),\n",
    "        nn.BatchNorm1d(256),\n",
    "        nn.ReLU(),\n",
    "        nn.Dropout(0.2)\n",
    "    )\n",
    "    self.linear3 = nn.Sequential(\n",
    "        nn.Linear(256, 128),\n",
    "        nn.BatchNorm1d(128),\n",
    "        nn.ReLU(),\n",
    "        nn.Dropout(0.2)\n",
    "    )\n",
    "    self.linear4 = nn.Sequential(\n",
    "        nn.Linear(128, 10)\n",
    "    )\n",
    "\n",
    "    self._init_weight_()\n",
    "\n",
    "  def _init_weight_(self):\n",
    "    for m in self.linear1:\n",
    "      if isinstance(m, nn.Linear):\n",
    "        nn.init.kaiming_uniform_(m.weight)\n",
    "\n",
    "    for m in self.linear2:\n",
    "      if isinstance(m, nn.Linear):\n",
    "        nn.init.kaiming_uniform_(m.weight)\n",
    "\n",
    "    for m in self.linear3:\n",
    "      if isinstance(m, nn.Linear):\n",
    "        nn.init.kaiming_uniform_(m.weight)\n",
    "\n",
    "  def forward(self, x):\n",
    "    x = x.view(-1, 28 * 28)\n",
    "    x = self.linear1(x)\n",
    "    x = self.linear2(x)\n",
    "    x = self.linear3(x)\n",
    "    x = self.linear4(x)\n",
    "    return x"
   ]
  },
  {
   "cell_type": "code",
   "execution_count": 183,
   "id": "721872d5",
   "metadata": {},
   "outputs": [
    {
     "name": "stdout",
     "output_type": "stream",
     "text": [
      "Net(\n",
      "  (linear1): Sequential(\n",
      "    (0): Linear(in_features=784, out_features=512, bias=True)\n",
      "    (1): BatchNorm1d(512, eps=1e-05, momentum=0.1, affine=True, track_running_stats=True)\n",
      "    (2): ReLU()\n",
      "    (3): Dropout(p=0.2, inplace=False)\n",
      "  )\n",
      "  (linear2): Sequential(\n",
      "    (0): Linear(in_features=512, out_features=256, bias=True)\n",
      "    (1): BatchNorm1d(256, eps=1e-05, momentum=0.1, affine=True, track_running_stats=True)\n",
      "    (2): ReLU()\n",
      "    (3): Dropout(p=0.2, inplace=False)\n",
      "  )\n",
      "  (linear3): Sequential(\n",
      "    (0): Linear(in_features=256, out_features=128, bias=True)\n",
      "    (1): BatchNorm1d(128, eps=1e-05, momentum=0.1, affine=True, track_running_stats=True)\n",
      "    (2): ReLU()\n",
      "    (3): Dropout(p=0.2, inplace=False)\n",
      "  )\n",
      "  (linear4): Sequential(\n",
      "    (0): Linear(in_features=128, out_features=10, bias=True)\n",
      "  )\n",
      ")\n"
     ]
    }
   ],
   "source": [
    "model = Net().to(DEVICE)\n",
    "optimizer = torch.optim.Adam(model.parameters(), lr = 0.01)\n",
    "criterion = nn.CrossEntropyLoss()\n",
    "\n",
    "print(model)"
   ]
  },
  {
   "cell_type": "code",
   "execution_count": 184,
   "id": "fb28b7ab",
   "metadata": {},
   "outputs": [
    {
     "name": "stdout",
     "output_type": "stream",
     "text": [
      "[EPOCH: 1], \tTrain Loss: 0.5267, \tTrain Accuracy: 81.04 %, \tVal Loss: 0.4145, \tVal Accuracy: 84.76 % \n",
      "\n",
      "[EPOCH: 2], \tTrain Loss: 0.4131, \tTrain Accuracy: 85.07 %, \tVal Loss: 0.3691, \tVal Accuracy: 86.14 % \n",
      "\n",
      "[EPOCH: 3], \tTrain Loss: 0.3683, \tTrain Accuracy: 86.67 %, \tVal Loss: 0.3417, \tVal Accuracy: 86.83 % \n",
      "\n",
      "[EPOCH: 4], \tTrain Loss: 0.3458, \tTrain Accuracy: 87.24 %, \tVal Loss: 0.3252, \tVal Accuracy: 87.76 % \n",
      "\n",
      "[EPOCH: 5], \tTrain Loss: 0.3294, \tTrain Accuracy: 87.93 %, \tVal Loss: 0.3056, \tVal Accuracy: 88.61 % \n",
      "\n",
      "[EPOCH: 6], \tTrain Loss: 0.3087, \tTrain Accuracy: 88.59 %, \tVal Loss: 0.3049, \tVal Accuracy: 89.02 % \n",
      "\n",
      "[EPOCH: 7], \tTrain Loss: 0.2945, \tTrain Accuracy: 89.08 %, \tVal Loss: 0.3008, \tVal Accuracy: 88.87 % \n",
      "\n",
      "[EPOCH: 8], \tTrain Loss: 0.2868, \tTrain Accuracy: 89.55 %, \tVal Loss: 0.3003, \tVal Accuracy: 89.03 % \n",
      "\n",
      "[EPOCH: 9], \tTrain Loss: 0.2716, \tTrain Accuracy: 89.75 %, \tVal Loss: 0.3061, \tVal Accuracy: 88.92 % \n",
      "\n",
      "[EPOCH: 10], \tTrain Loss: 0.2664, \tTrain Accuracy: 90.07 %, \tVal Loss: 0.2970, \tVal Accuracy: 89.43 % \n",
      "\n",
      "[EPOCH: 11], \tTrain Loss: 0.2535, \tTrain Accuracy: 90.54 %, \tVal Loss: 0.2918, \tVal Accuracy: 89.66 % \n",
      "\n",
      "[EPOCH: 12], \tTrain Loss: 0.2455, \tTrain Accuracy: 90.78 %, \tVal Loss: 0.3020, \tVal Accuracy: 89.26 % \n",
      "\n",
      "[EPOCH: 13], \tTrain Loss: 0.2368, \tTrain Accuracy: 91.06 %, \tVal Loss: 0.2779, \tVal Accuracy: 89.68 % \n",
      "\n",
      "[EPOCH: 14], \tTrain Loss: 0.2318, \tTrain Accuracy: 91.33 %, \tVal Loss: 0.2999, \tVal Accuracy: 89.08 % \n",
      "\n",
      "[EPOCH: 15], \tTrain Loss: 0.2193, \tTrain Accuracy: 91.75 %, \tVal Loss: 0.2929, \tVal Accuracy: 89.38 % \n",
      "\n"
     ]
    }
   ],
   "source": [
    "result_list = []\n",
    "for epoch in range(1, EPOCHS + 1):\n",
    "  train_loss, train_accuracy = train(model, train_loader)\n",
    "  val_loss, val_accuracy = evaluate(model, val_loader)\n",
    "  print(f\"[EPOCH: {epoch}], \\tTrain Loss: {train_loss:.4f}, \\tTrain Accuracy: {train_accuracy:.2f} %, \\tVal Loss: {val_loss:.4f}, \\tVal Accuracy: {val_accuracy:.2f} % \\n\")\n",
    "  result = {\n",
    "    'EPOCH': epoch,\n",
    "    'Train Loss': train_loss,\n",
    "    'Train Accuracy': train_accuracy,\n",
    "    'Val Loss': val_loss,\n",
    "    'Val Accuracy': val_accuracy}\n",
    "  \n",
    "  result_list.append(result)\n",
    "result_df = pd.DataFrame(result_list)"
   ]
  },
  {
   "cell_type": "markdown",
   "id": "6c4644d0",
   "metadata": {},
   "source": [
    "### dropout을 하니까 성능이 높아졌다"
   ]
  },
  {
   "cell_type": "markdown",
   "id": "610b58aa",
   "metadata": {},
   "source": [
    "## 변형 6 \n",
    "### Regularization"
   ]
  },
  {
   "cell_type": "code",
   "execution_count": 185,
   "id": "8cc1df63",
   "metadata": {},
   "outputs": [],
   "source": [
    "class Net(nn.Module):\n",
    "  def __init__(self):\n",
    "    super(Net, self).__init__()\n",
    "    self.linear1 = nn.Sequential(\n",
    "        nn.Linear(28 * 28, 512),\n",
    "        nn.BatchNorm1d(512),\n",
    "        nn.ReLU(),\n",
    "        nn.Dropout(0.2)\n",
    "    )\n",
    "    self.linear2 = nn.Sequential(\n",
    "        nn.Linear(512, 256),\n",
    "        nn.BatchNorm1d(256),\n",
    "        nn.ReLU(),\n",
    "        nn.Dropout(0.2)\n",
    "    )\n",
    "    self.linear3 = nn.Sequential(\n",
    "        nn.Linear(256, 128),\n",
    "        nn.BatchNorm1d(128),\n",
    "        nn.ReLU(),\n",
    "        nn.Dropout(0.2)\n",
    "    )\n",
    "    self.linear4 = nn.Sequential(\n",
    "        nn.Linear(128, 10)\n",
    "    )\n",
    "\n",
    "    self._init_weight_()\n",
    "\n",
    "  def _init_weight_(self):\n",
    "    for m in self.linear1:\n",
    "      if isinstance(m, nn.Linear):\n",
    "        nn.init.kaiming_uniform_(m.weight)\n",
    "\n",
    "    for m in self.linear2:\n",
    "      if isinstance(m, nn.Linear):\n",
    "        nn.init.kaiming_uniform_(m.weight)\n",
    "\n",
    "    for m in self.linear3:\n",
    "      if isinstance(m, nn.Linear):\n",
    "        nn.init.kaiming_uniform_(m.weight)\n",
    "\n",
    "  def forward(self, x):\n",
    "    x = x.view(-1, 28 * 28)\n",
    "    x = self.linear1(x)\n",
    "    x = self.linear2(x)\n",
    "    x = self.linear3(x)\n",
    "    x = self.linear4(x)\n",
    "    return x"
   ]
  },
  {
   "cell_type": "code",
   "execution_count": 186,
   "id": "224b6ac8",
   "metadata": {},
   "outputs": [
    {
     "name": "stdout",
     "output_type": "stream",
     "text": [
      "Net(\n",
      "  (linear1): Sequential(\n",
      "    (0): Linear(in_features=784, out_features=512, bias=True)\n",
      "    (1): BatchNorm1d(512, eps=1e-05, momentum=0.1, affine=True, track_running_stats=True)\n",
      "    (2): ReLU()\n",
      "    (3): Dropout(p=0.2, inplace=False)\n",
      "  )\n",
      "  (linear2): Sequential(\n",
      "    (0): Linear(in_features=512, out_features=256, bias=True)\n",
      "    (1): BatchNorm1d(256, eps=1e-05, momentum=0.1, affine=True, track_running_stats=True)\n",
      "    (2): ReLU()\n",
      "    (3): Dropout(p=0.2, inplace=False)\n",
      "  )\n",
      "  (linear3): Sequential(\n",
      "    (0): Linear(in_features=256, out_features=128, bias=True)\n",
      "    (1): BatchNorm1d(128, eps=1e-05, momentum=0.1, affine=True, track_running_stats=True)\n",
      "    (2): ReLU()\n",
      "    (3): Dropout(p=0.2, inplace=False)\n",
      "  )\n",
      "  (linear4): Sequential(\n",
      "    (0): Linear(in_features=128, out_features=10, bias=True)\n",
      "  )\n",
      ")\n"
     ]
    }
   ],
   "source": [
    "model = Net().to(DEVICE)\n",
    "optimizer = torch.optim.Adam(model.parameters(), lr = 0.01, weight_decay = 0.001)\n",
    "criterion = nn.CrossEntropyLoss()\n",
    "\n",
    "print(model)"
   ]
  },
  {
   "cell_type": "code",
   "execution_count": 189,
   "id": "9eb6d418",
   "metadata": {},
   "outputs": [
    {
     "name": "stdout",
     "output_type": "stream",
     "text": [
      "[EPOCH: 1], \tTrain Loss: 0.5819, \tTrain Accuracy: 79.69 %, \tVal Loss: 0.5506, \tVal Accuracy: 80.09 % \n",
      "\n",
      "[EPOCH: 2], \tTrain Loss: 0.5824, \tTrain Accuracy: 79.47 %, \tVal Loss: 0.6076, \tVal Accuracy: 78.70 % \n",
      "\n",
      "[EPOCH: 3], \tTrain Loss: 0.5796, \tTrain Accuracy: 79.72 %, \tVal Loss: 0.5349, \tVal Accuracy: 80.13 % \n",
      "\n",
      "[EPOCH: 4], \tTrain Loss: 0.5777, \tTrain Accuracy: 79.64 %, \tVal Loss: 0.5057, \tVal Accuracy: 81.82 % \n",
      "\n",
      "[EPOCH: 5], \tTrain Loss: 0.5816, \tTrain Accuracy: 79.79 %, \tVal Loss: 0.6053, \tVal Accuracy: 78.90 % \n",
      "\n",
      "[EPOCH: 6], \tTrain Loss: 0.5813, \tTrain Accuracy: 79.53 %, \tVal Loss: 0.5076, \tVal Accuracy: 81.56 % \n",
      "\n",
      "[EPOCH: 7], \tTrain Loss: 0.5839, \tTrain Accuracy: 79.46 %, \tVal Loss: 0.5388, \tVal Accuracy: 80.05 % \n",
      "\n",
      "[EPOCH: 8], \tTrain Loss: 0.5783, \tTrain Accuracy: 79.71 %, \tVal Loss: 0.5708, \tVal Accuracy: 79.26 % \n",
      "\n",
      "[EPOCH: 9], \tTrain Loss: 0.5793, \tTrain Accuracy: 79.74 %, \tVal Loss: 0.5154, \tVal Accuracy: 81.52 % \n",
      "\n",
      "[EPOCH: 10], \tTrain Loss: 0.5808, \tTrain Accuracy: 79.88 %, \tVal Loss: 0.7651, \tVal Accuracy: 71.37 % \n",
      "\n",
      "[EPOCH: 11], \tTrain Loss: 0.5830, \tTrain Accuracy: 79.61 %, \tVal Loss: 0.6491, \tVal Accuracy: 77.49 % \n",
      "\n",
      "[EPOCH: 12], \tTrain Loss: 0.5805, \tTrain Accuracy: 79.54 %, \tVal Loss: 0.4950, \tVal Accuracy: 82.87 % \n",
      "\n",
      "[EPOCH: 13], \tTrain Loss: 0.5773, \tTrain Accuracy: 79.84 %, \tVal Loss: 0.5814, \tVal Accuracy: 78.70 % \n",
      "\n",
      "[EPOCH: 14], \tTrain Loss: 0.5799, \tTrain Accuracy: 79.84 %, \tVal Loss: 0.5957, \tVal Accuracy: 78.51 % \n",
      "\n",
      "[EPOCH: 15], \tTrain Loss: 0.5844, \tTrain Accuracy: 79.57 %, \tVal Loss: 0.5950, \tVal Accuracy: 80.30 % \n",
      "\n"
     ]
    }
   ],
   "source": [
    "result_list = []\n",
    "for epoch in range(1, EPOCHS + 1):\n",
    "  train_loss, train_accuracy = train(model, train_loader)\n",
    "  val_loss, val_accuracy = evaluate(model, val_loader)\n",
    "  print(f\"[EPOCH: {epoch}], \\tTrain Loss: {train_loss:.4f}, \\tTrain Accuracy: {train_accuracy:.2f} %, \\tVal Loss: {val_loss:.4f}, \\tVal Accuracy: {val_accuracy:.2f} % \\n\")\n",
    "  result = {\n",
    "    'EPOCH': epoch,\n",
    "    'Train Loss': train_loss,\n",
    "    'Train Accuracy': train_accuracy,\n",
    "    'Val Loss': val_loss,\n",
    "    'Val Accuracy': val_accuracy}\n",
    "  \n",
    "  result_list.append(result)\n",
    "result_df = pd.DataFrame(result_list)"
   ]
  },
  {
   "cell_type": "markdown",
   "id": "3338e4fe",
   "metadata": {},
   "source": [
    "오히려 성능이 안 좋아졌다"
   ]
  },
  {
   "cell_type": "markdown",
   "id": "bb9c5f2d",
   "metadata": {},
   "source": [
    "### 변형 7 \n",
    "### 이것저것 해보기"
   ]
  },
  {
   "cell_type": "code",
   "execution_count": 190,
   "id": "e7665746",
   "metadata": {},
   "outputs": [],
   "source": [
    "#1. epoch 수 늘려보기 15 -> 20\n",
    "EPOCHS = 20"
   ]
  },
  {
   "cell_type": "code",
   "execution_count": 192,
   "id": "e20ead09",
   "metadata": {},
   "outputs": [
    {
     "name": "stdout",
     "output_type": "stream",
     "text": [
      "[EPOCH: 1], \tTrain Loss: 0.6346, \tTrain Accuracy: 77.21 %, \tVal Loss: 0.6930, \tVal Accuracy: 74.29 % \n",
      "\n",
      "[EPOCH: 2], \tTrain Loss: 0.6047, \tTrain Accuracy: 78.59 %, \tVal Loss: 0.6372, \tVal Accuracy: 75.39 % \n",
      "\n",
      "[EPOCH: 3], \tTrain Loss: 0.5942, \tTrain Accuracy: 79.16 %, \tVal Loss: 0.5658, \tVal Accuracy: 79.81 % \n",
      "\n",
      "[EPOCH: 4], \tTrain Loss: 0.5951, \tTrain Accuracy: 79.23 %, \tVal Loss: 0.5133, \tVal Accuracy: 81.24 % \n",
      "\n",
      "[EPOCH: 5], \tTrain Loss: 0.5917, \tTrain Accuracy: 79.03 %, \tVal Loss: 0.5674, \tVal Accuracy: 78.15 % \n",
      "\n",
      "[EPOCH: 6], \tTrain Loss: 0.5923, \tTrain Accuracy: 79.15 %, \tVal Loss: 0.5511, \tVal Accuracy: 80.42 % \n",
      "\n",
      "[EPOCH: 7], \tTrain Loss: 0.5882, \tTrain Accuracy: 79.17 %, \tVal Loss: 0.5405, \tVal Accuracy: 80.59 % \n",
      "\n",
      "[EPOCH: 8], \tTrain Loss: 0.5893, \tTrain Accuracy: 79.18 %, \tVal Loss: 0.5338, \tVal Accuracy: 80.48 % \n",
      "\n",
      "[EPOCH: 9], \tTrain Loss: 0.5831, \tTrain Accuracy: 79.46 %, \tVal Loss: 0.6951, \tVal Accuracy: 70.64 % \n",
      "\n",
      "[EPOCH: 10], \tTrain Loss: 0.5887, \tTrain Accuracy: 79.38 %, \tVal Loss: 0.5163, \tVal Accuracy: 82.05 % \n",
      "\n",
      "[EPOCH: 11], \tTrain Loss: 0.5897, \tTrain Accuracy: 79.29 %, \tVal Loss: 0.5383, \tVal Accuracy: 80.57 % \n",
      "\n",
      "[EPOCH: 12], \tTrain Loss: 0.5896, \tTrain Accuracy: 79.37 %, \tVal Loss: 0.5285, \tVal Accuracy: 80.82 % \n",
      "\n",
      "[EPOCH: 13], \tTrain Loss: 0.5903, \tTrain Accuracy: 79.09 %, \tVal Loss: 0.5345, \tVal Accuracy: 80.75 % \n",
      "\n",
      "[EPOCH: 14], \tTrain Loss: 0.5830, \tTrain Accuracy: 79.82 %, \tVal Loss: 0.5084, \tVal Accuracy: 80.79 % \n",
      "\n",
      "[EPOCH: 15], \tTrain Loss: 0.5831, \tTrain Accuracy: 79.34 %, \tVal Loss: 0.5507, \tVal Accuracy: 80.51 % \n",
      "\n",
      "[EPOCH: 16], \tTrain Loss: 0.5845, \tTrain Accuracy: 79.60 %, \tVal Loss: 0.5270, \tVal Accuracy: 81.22 % \n",
      "\n",
      "[EPOCH: 17], \tTrain Loss: 0.5819, \tTrain Accuracy: 79.51 %, \tVal Loss: 0.5228, \tVal Accuracy: 80.89 % \n",
      "\n",
      "[EPOCH: 18], \tTrain Loss: 0.5833, \tTrain Accuracy: 79.50 %, \tVal Loss: 0.7669, \tVal Accuracy: 72.87 % \n",
      "\n",
      "[EPOCH: 19], \tTrain Loss: 0.5836, \tTrain Accuracy: 79.57 %, \tVal Loss: 0.5941, \tVal Accuracy: 79.55 % \n",
      "\n",
      "[EPOCH: 20], \tTrain Loss: 0.5854, \tTrain Accuracy: 79.61 %, \tVal Loss: 0.5557, \tVal Accuracy: 79.11 % \n",
      "\n"
     ]
    }
   ],
   "source": [
    "result_list = []\n",
    "for epoch in range(1, EPOCHS + 1):\n",
    "  train_loss, train_accuracy = train(model, train_loader)\n",
    "  val_loss, val_accuracy = evaluate(model, val_loader)\n",
    "  print(f\"[EPOCH: {epoch}], \\tTrain Loss: {train_loss:.4f}, \\tTrain Accuracy: {train_accuracy:.2f} %, \\tVal Loss: {val_loss:.4f}, \\tVal Accuracy: {val_accuracy:.2f} % \\n\")\n",
    "  result = {\n",
    "    'EPOCH': epoch,\n",
    "    'Train Loss': train_loss,\n",
    "    'Train Accuracy': train_accuracy,\n",
    "    'Val Loss': val_loss,\n",
    "    'Val Accuracy': val_accuracy}\n",
    "  \n",
    "  result_list.append(result)\n",
    "result_df = pd.DataFrame(result_list)"
   ]
  },
  {
   "cell_type": "markdown",
   "id": "e985a79b",
   "metadata": {},
   "source": [
    "EPOCHS = 15\n",
    "dropout 0.25로 늘려보고\n",
    "lr = 0.02로 바꿔보기"
   ]
  },
  {
   "cell_type": "code",
   "execution_count": 194,
   "id": "3bb99a31",
   "metadata": {},
   "outputs": [
    {
     "name": "stdout",
     "output_type": "stream",
     "text": [
      "Net(\n",
      "  (linear1): Sequential(\n",
      "    (0): Linear(in_features=784, out_features=512, bias=True)\n",
      "    (1): BatchNorm1d(512, eps=1e-05, momentum=0.1, affine=True, track_running_stats=True)\n",
      "    (2): ReLU()\n",
      "    (3): Dropout(p=0.25, inplace=False)\n",
      "  )\n",
      "  (linear2): Sequential(\n",
      "    (0): Linear(in_features=512, out_features=256, bias=True)\n",
      "    (1): BatchNorm1d(256, eps=1e-05, momentum=0.1, affine=True, track_running_stats=True)\n",
      "    (2): ReLU()\n",
      "    (3): Dropout(p=0.25, inplace=False)\n",
      "  )\n",
      "  (linear3): Sequential(\n",
      "    (0): Linear(in_features=256, out_features=128, bias=True)\n",
      "    (1): BatchNorm1d(128, eps=1e-05, momentum=0.1, affine=True, track_running_stats=True)\n",
      "    (2): ReLU()\n",
      "    (3): Dropout(p=0.25, inplace=False)\n",
      "  )\n",
      "  (linear4): Sequential(\n",
      "    (0): Linear(in_features=128, out_features=10, bias=True)\n",
      "  )\n",
      ")\n"
     ]
    }
   ],
   "source": [
    "class Net(nn.Module):\n",
    "  def __init__(self):\n",
    "    super(Net, self).__init__()\n",
    "    self.linear1 = nn.Sequential(\n",
    "        nn.Linear(28 * 28, 512),\n",
    "        nn.BatchNorm1d(512),\n",
    "        nn.ReLU(),\n",
    "        nn.Dropout(0.25)\n",
    "    )\n",
    "    self.linear2 = nn.Sequential(\n",
    "        nn.Linear(512, 256),\n",
    "        nn.BatchNorm1d(256),\n",
    "        nn.ReLU(),\n",
    "        nn.Dropout(0.25)\n",
    "    )\n",
    "    self.linear3 = nn.Sequential(\n",
    "        nn.Linear(256, 128),\n",
    "        nn.BatchNorm1d(128),\n",
    "        nn.ReLU(),\n",
    "        nn.Dropout(0.25)\n",
    "    )\n",
    "    self.linear4 = nn.Sequential(\n",
    "        nn.Linear(128, 10)\n",
    "    )\n",
    "\n",
    "    self._init_weight_()\n",
    "\n",
    "  def _init_weight_(self):\n",
    "    for m in self.linear1:\n",
    "      if isinstance(m, nn.Linear):\n",
    "        nn.init.kaiming_uniform_(m.weight)\n",
    "\n",
    "    for m in self.linear2:\n",
    "      if isinstance(m, nn.Linear):\n",
    "        nn.init.kaiming_uniform_(m.weight)\n",
    "\n",
    "    for m in self.linear3:\n",
    "      if isinstance(m, nn.Linear):\n",
    "        nn.init.kaiming_uniform_(m.weight)\n",
    "\n",
    "  def forward(self, x):\n",
    "    x = x.view(-1, 28 * 28)\n",
    "    x = self.linear1(x)\n",
    "    x = self.linear2(x)\n",
    "    x = self.linear3(x)\n",
    "    x = self.linear4(x)\n",
    "    return x\n",
    "\n",
    "model = Net().to(DEVICE)\n",
    "optimizer = torch.optim.Adam(model.parameters(), lr = 0.02, weight_decay = 0.001)\n",
    "criterion = nn.CrossEntropyLoss()\n",
    "\n",
    "print(model)"
   ]
  },
  {
   "cell_type": "code",
   "execution_count": 195,
   "id": "d6947d44",
   "metadata": {},
   "outputs": [
    {
     "name": "stdout",
     "output_type": "stream",
     "text": [
      "[EPOCH: 1], \tTrain Loss: 0.7272, \tTrain Accuracy: 74.03 %, \tVal Loss: 0.8094, \tVal Accuracy: 70.97 % \n",
      "\n",
      "[EPOCH: 2], \tTrain Loss: 0.7124, \tTrain Accuracy: 74.95 %, \tVal Loss: 0.6721, \tVal Accuracy: 76.30 % \n",
      "\n",
      "[EPOCH: 3], \tTrain Loss: 0.7185, \tTrain Accuracy: 74.54 %, \tVal Loss: 0.6174, \tVal Accuracy: 78.52 % \n",
      "\n",
      "[EPOCH: 4], \tTrain Loss: 0.7155, \tTrain Accuracy: 74.97 %, \tVal Loss: 0.6491, \tVal Accuracy: 77.30 % \n",
      "\n",
      "[EPOCH: 5], \tTrain Loss: 0.7250, \tTrain Accuracy: 74.72 %, \tVal Loss: 1.0808, \tVal Accuracy: 63.35 % \n",
      "\n",
      "[EPOCH: 6], \tTrain Loss: 0.7245, \tTrain Accuracy: 74.52 %, \tVal Loss: 0.8194, \tVal Accuracy: 74.12 % \n",
      "\n",
      "[EPOCH: 7], \tTrain Loss: 0.7117, \tTrain Accuracy: 75.30 %, \tVal Loss: 0.6001, \tVal Accuracy: 80.59 % \n",
      "\n",
      "[EPOCH: 8], \tTrain Loss: 0.7175, \tTrain Accuracy: 74.92 %, \tVal Loss: 0.6489, \tVal Accuracy: 77.66 % \n",
      "\n",
      "[EPOCH: 9], \tTrain Loss: 0.7147, \tTrain Accuracy: 75.00 %, \tVal Loss: 0.8436, \tVal Accuracy: 74.26 % \n",
      "\n",
      "[EPOCH: 10], \tTrain Loss: 0.7165, \tTrain Accuracy: 75.05 %, \tVal Loss: 0.7256, \tVal Accuracy: 73.77 % \n",
      "\n",
      "[EPOCH: 11], \tTrain Loss: 0.7153, \tTrain Accuracy: 75.08 %, \tVal Loss: 0.6914, \tVal Accuracy: 74.28 % \n",
      "\n",
      "[EPOCH: 12], \tTrain Loss: 0.7082, \tTrain Accuracy: 75.24 %, \tVal Loss: 0.9760, \tVal Accuracy: 66.74 % \n",
      "\n",
      "[EPOCH: 13], \tTrain Loss: 0.7122, \tTrain Accuracy: 74.86 %, \tVal Loss: 0.7479, \tVal Accuracy: 73.95 % \n",
      "\n",
      "[EPOCH: 14], \tTrain Loss: 0.7106, \tTrain Accuracy: 75.14 %, \tVal Loss: 0.7974, \tVal Accuracy: 71.23 % \n",
      "\n",
      "[EPOCH: 15], \tTrain Loss: 0.7177, \tTrain Accuracy: 74.81 %, \tVal Loss: 0.6973, \tVal Accuracy: 74.61 % \n",
      "\n",
      "[EPOCH: 16], \tTrain Loss: 0.7239, \tTrain Accuracy: 74.66 %, \tVal Loss: 0.7459, \tVal Accuracy: 73.27 % \n",
      "\n",
      "[EPOCH: 17], \tTrain Loss: 0.7091, \tTrain Accuracy: 75.18 %, \tVal Loss: 0.5476, \tVal Accuracy: 81.09 % \n",
      "\n",
      "[EPOCH: 18], \tTrain Loss: 0.7139, \tTrain Accuracy: 75.13 %, \tVal Loss: 0.8112, \tVal Accuracy: 72.67 % \n",
      "\n",
      "[EPOCH: 19], \tTrain Loss: 0.7246, \tTrain Accuracy: 74.65 %, \tVal Loss: 0.6650, \tVal Accuracy: 76.45 % \n",
      "\n",
      "[EPOCH: 20], \tTrain Loss: 0.7182, \tTrain Accuracy: 75.08 %, \tVal Loss: 0.6539, \tVal Accuracy: 77.38 % \n",
      "\n"
     ]
    }
   ],
   "source": [
    "result_list = []\n",
    "for epoch in range(1, EPOCHS + 1):\n",
    "  train_loss, train_accuracy = train(model, train_loader)\n",
    "  val_loss, val_accuracy = evaluate(model, val_loader)\n",
    "  print(f\"[EPOCH: {epoch}], \\tTrain Loss: {train_loss:.4f}, \\tTrain Accuracy: {train_accuracy:.2f} %, \\tVal Loss: {val_loss:.4f}, \\tVal Accuracy: {val_accuracy:.2f} % \\n\")\n",
    "  result = {\n",
    "    'EPOCH': epoch,\n",
    "    'Train Loss': train_loss,\n",
    "    'Train Accuracy': train_accuracy,\n",
    "    'Val Loss': val_loss,\n",
    "    'Val Accuracy': val_accuracy}\n",
    "  \n",
    "  result_list.append(result)\n",
    "result_df = pd.DataFrame(result_list)"
   ]
  },
  {
   "cell_type": "markdown",
   "id": "74b35c51",
   "metadata": {},
   "source": [
    "성능이 더 안 좋아졌다 ..."
   ]
  },
  {
   "cell_type": "markdown",
   "id": "b9e46286",
   "metadata": {},
   "source": [
    "## baseline_Model_TensorFlow"
   ]
  },
  {
   "cell_type": "code",
   "execution_count": 196,
   "id": "bf2fc2dc",
   "metadata": {},
   "outputs": [],
   "source": [
    "Train = pd.read_csv('Train.csv')\n",
    "Test = pd.read_csv('Test.csv')"
   ]
  },
  {
   "cell_type": "code",
   "execution_count": 197,
   "id": "a75bb473",
   "metadata": {},
   "outputs": [],
   "source": [
    "X = Train.iloc[:, :-1].values\n",
    "X = X.reshape(-1, 28, 28, 1)\n",
    "y = Train.iloc[:, -1].values"
   ]
  },
  {
   "cell_type": "code",
   "execution_count": 198,
   "id": "467fcd09",
   "metadata": {},
   "outputs": [],
   "source": [
    "X_test = Test.values\n",
    "X_test = X_test.reshape(-1, 28, 28, 1)"
   ]
  },
  {
   "cell_type": "code",
   "execution_count": 199,
   "id": "a0364b0c",
   "metadata": {},
   "outputs": [],
   "source": [
    "from sklearn.model_selection import train_test_split\n",
    "\n",
    "X_train, X_val, y_train, y_val = train_test_split(X, y, test_size = 0.2, random_state = 16, stratify = y, shuffle = True)\n",
    "\n",
    "# 정규화\n",
    "X_train = X_train / 255.0\n",
    "X_val = X_val / 255.0\n",
    "X_test = X_test / 255.0"
   ]
  },
  {
   "cell_type": "code",
   "execution_count": 200,
   "id": "79ce6b84",
   "metadata": {},
   "outputs": [],
   "source": [
    "BATCH_SIZE = 128\n",
    "EPOCHS = 15"
   ]
  },
  {
   "cell_type": "code",
   "execution_count": 201,
   "id": "bce81197",
   "metadata": {},
   "outputs": [
    {
     "name": "stdout",
     "output_type": "stream",
     "text": [
      "Model: \"sequential_8\"\n",
      "_________________________________________________________________\n",
      " Layer (type)                Output Shape              Param #   \n",
      "=================================================================\n",
      " flatten_8 (Flatten)         (None, 784)               0         \n",
      "                                                                 \n",
      " dense_25 (Dense)            (None, 512)               401920    \n",
      "                                                                 \n",
      " dense_26 (Dense)            (None, 256)               131328    \n",
      "                                                                 \n",
      " dense_27 (Dense)            (None, 128)               32896     \n",
      "                                                                 \n",
      " dense_28 (Dense)            (None, 10)                1290      \n",
      "                                                                 \n",
      "=================================================================\n",
      "Total params: 567,434\n",
      "Trainable params: 567,434\n",
      "Non-trainable params: 0\n",
      "_________________________________________________________________\n",
      "None\n"
     ]
    }
   ],
   "source": [
    "model = keras.Sequential([\n",
    "    keras.layers.Flatten(input_shape=(28, 28)),\n",
    "    keras.layers.Dense(512, activation='linear'),\n",
    "    keras.layers.Dense(256, activation='linear'),\n",
    "    keras.layers.Dense(128, activation='linear'),\n",
    "    keras.layers.Dense(10, activation='softmax')\n",
    "])\n",
    "\n",
    "print(model.summary())"
   ]
  },
  {
   "cell_type": "code",
   "execution_count": 202,
   "id": "121b6663",
   "metadata": {},
   "outputs": [],
   "source": [
    "optimizer = keras.optimizers.SGD(lr=0.01, momentum=0.5)\n",
    "model.compile(optimizer=optimizer,\n",
    "              loss=tf.keras.losses.SparseCategoricalCrossentropy(from_logits=True),\n",
    "              metrics=['accuracy'])"
   ]
  },
  {
   "cell_type": "code",
   "execution_count": 203,
   "id": "37b07c5e",
   "metadata": {},
   "outputs": [
    {
     "name": "stdout",
     "output_type": "stream",
     "text": [
      "Epoch 1/10\n",
      "1488/1488 [==============================] - 10s 6ms/step - loss: 0.5756 - accuracy: 0.7989 - val_loss: 0.4652 - val_accuracy: 0.8382\n",
      "Epoch 2/10\n",
      "1488/1488 [==============================] - 9s 6ms/step - loss: 0.4734 - accuracy: 0.8336 - val_loss: 0.4494 - val_accuracy: 0.8418\n",
      "Epoch 3/10\n",
      "1488/1488 [==============================] - 9s 6ms/step - loss: 0.4557 - accuracy: 0.8404 - val_loss: 0.4282 - val_accuracy: 0.8519\n",
      "Epoch 4/10\n",
      "1488/1488 [==============================] - 9s 6ms/step - loss: 0.4437 - accuracy: 0.8425 - val_loss: 0.4337 - val_accuracy: 0.8492\n",
      "Epoch 5/10\n",
      "1488/1488 [==============================] - 10s 6ms/step - loss: 0.4365 - accuracy: 0.8467 - val_loss: 0.4509 - val_accuracy: 0.8415\n",
      "Epoch 6/10\n",
      "1488/1488 [==============================] - 9s 6ms/step - loss: 0.4306 - accuracy: 0.8504 - val_loss: 0.4505 - val_accuracy: 0.8389\n",
      "Epoch 7/10\n",
      "1488/1488 [==============================] - 10s 6ms/step - loss: 0.4254 - accuracy: 0.8506 - val_loss: 0.4528 - val_accuracy: 0.8399\n",
      "Epoch 8/10\n",
      "1488/1488 [==============================] - 10s 6ms/step - loss: 0.4218 - accuracy: 0.8516 - val_loss: 0.4383 - val_accuracy: 0.8506\n",
      "Epoch 9/10\n",
      "1488/1488 [==============================] - 10s 6ms/step - loss: 0.4181 - accuracy: 0.8513 - val_loss: 0.4221 - val_accuracy: 0.8545\n",
      "Epoch 10/10\n",
      "1488/1488 [==============================] - 10s 6ms/step - loss: 0.4148 - accuracy: 0.8527 - val_loss: 0.4146 - val_accuracy: 0.8550\n"
     ]
    }
   ],
   "source": [
    "result = model.fit(X_train, y_train, epochs=10, validation_data = (X_val, y_val))"
   ]
  },
  {
   "cell_type": "code",
   "execution_count": 204,
   "id": "22744c8e",
   "metadata": {},
   "outputs": [
    {
     "data": {
      "image/png": "[encoded data removed]",
      "text/plain": [
       "<Figure size 1080x360 with 2 Axes>"
      ]
     },
     "metadata": {
      "needs_background": "light"
     },
     "output_type": "display_data"
    }
   ],
   "source": [
    "fig, axes = plt.subplots(nrows=1, ncols=2, figsize=(15, 5))\n",
    "\n",
    "axes[0].plot(result.epoch, result.history[\"loss\"], label='Train Loss')\n",
    "axes[0].plot(result.epoch, result.history['val_loss'], label='Val Loss')\n",
    "axes[0].set_ylim(0.0, 1)\n",
    "axes[0].legend()\n",
    "axes[0].set_title('Loss')\n",
    "\n",
    "axes[1].plot(result.epoch, result.history['accuracy'], label='Train Accuracy')\n",
    "axes[1].plot(result.epoch, result.history['val_accuracy'], label='Val Accuracy')\n",
    "axes[1].set_ylim(0.7, 1)\n",
    "axes[1].legend()\n",
    "axes[1].set_title('ACC')\n",
    "\n",
    "plt.show()"
   ]
  },
  {
   "cell_type": "markdown",
   "id": "0c68bfec",
   "metadata": {},
   "source": [
    "## 변형하기"
   ]
  },
  {
   "cell_type": "code",
   "execution_count": 214,
   "id": "88613eb7",
   "metadata": {},
   "outputs": [
    {
     "ename": "ValueError",
     "evalue": "One of the dimensions in the output is <= 0 due to downsampling in conv2d_37. Consider increasing the input size. Received input shape [None, 128, 1, 26, 26] which would produce output shape with a zero or negative value in a dimension.",
     "output_type": "error",
     "traceback": [
      "\u001b[1;31m---------------------------------------------------------------------------\u001b[0m",
      "\u001b[1;31mValueError\u001b[0m                                Traceback (most recent call last)",
      "\u001b[1;32m<ipython-input-214-b38011f2c4cf>\u001b[0m in \u001b[0;36m<module>\u001b[1;34m\u001b[0m\n\u001b[0;32m      1\u001b[0m \u001b[0minput_shape\u001b[0m \u001b[1;33m=\u001b[0m \u001b[1;33m[\u001b[0m\u001b[1;36m128\u001b[0m\u001b[1;33m,\u001b[0m\u001b[1;36m1\u001b[0m\u001b[1;33m,\u001b[0m\u001b[1;36m28\u001b[0m\u001b[1;33m,\u001b[0m\u001b[1;36m28\u001b[0m\u001b[1;33m]\u001b[0m\u001b[1;33m\u001b[0m\u001b[1;33m\u001b[0m\u001b[0m\n\u001b[1;32m----> 2\u001b[1;33m model = keras.Sequential([\n\u001b[0m\u001b[0;32m      3\u001b[0m     \u001b[0mkeras\u001b[0m\u001b[1;33m.\u001b[0m\u001b[0mlayers\u001b[0m\u001b[1;33m.\u001b[0m\u001b[0mConv2D\u001b[0m\u001b[1;33m(\u001b[0m\u001b[1;36m1\u001b[0m\u001b[1;33m,\u001b[0m\u001b[0mkernel_size\u001b[0m\u001b[1;33m=\u001b[0m\u001b[1;33m(\u001b[0m\u001b[1;36m3\u001b[0m\u001b[1;33m,\u001b[0m\u001b[1;36m3\u001b[0m\u001b[1;33m)\u001b[0m\u001b[1;33m,\u001b[0m\u001b[0mpadding\u001b[0m\u001b[1;33m=\u001b[0m\u001b[1;34m'valid'\u001b[0m\u001b[1;33m,\u001b[0m\u001b[0mactivation\u001b[0m\u001b[1;33m=\u001b[0m\u001b[1;34m'relu'\u001b[0m\u001b[1;33m,\u001b[0m\u001b[0minput_shape\u001b[0m\u001b[1;33m=\u001b[0m\u001b[0minput_shape\u001b[0m\u001b[1;33m,\u001b[0m\u001b[0mdata_format\u001b[0m\u001b[1;33m=\u001b[0m\u001b[1;34m'channels_first'\u001b[0m\u001b[1;33m)\u001b[0m\u001b[1;33m,\u001b[0m\u001b[1;33m\u001b[0m\u001b[1;33m\u001b[0m\u001b[0m\n\u001b[0;32m      4\u001b[0m     \u001b[0mkeras\u001b[0m\u001b[1;33m.\u001b[0m\u001b[0mlayers\u001b[0m\u001b[1;33m.\u001b[0m\u001b[0mConv2D\u001b[0m\u001b[1;33m(\u001b[0m\u001b[1;36m32\u001b[0m\u001b[1;33m,\u001b[0m\u001b[0mkernel_size\u001b[0m\u001b[1;33m=\u001b[0m\u001b[1;33m(\u001b[0m\u001b[1;36m3\u001b[0m\u001b[1;33m,\u001b[0m\u001b[1;36m3\u001b[0m\u001b[1;33m)\u001b[0m\u001b[1;33m,\u001b[0m\u001b[0mpadding\u001b[0m\u001b[1;33m=\u001b[0m\u001b[1;34m'valid'\u001b[0m\u001b[1;33m,\u001b[0m\u001b[0mactivation\u001b[0m\u001b[1;33m=\u001b[0m\u001b[1;34m'relu'\u001b[0m\u001b[1;33m)\u001b[0m\u001b[1;33m,\u001b[0m\u001b[1;33m\u001b[0m\u001b[1;33m\u001b[0m\u001b[0m\n\u001b[0;32m      5\u001b[0m     \u001b[0mkeras\u001b[0m\u001b[1;33m.\u001b[0m\u001b[0mlayers\u001b[0m\u001b[1;33m.\u001b[0m\u001b[0mConv2D\u001b[0m\u001b[1;33m(\u001b[0m\u001b[1;36m64\u001b[0m\u001b[1;33m,\u001b[0m\u001b[0mkernel_size\u001b[0m\u001b[1;33m=\u001b[0m\u001b[1;33m(\u001b[0m\u001b[1;36m3\u001b[0m\u001b[1;33m,\u001b[0m\u001b[1;36m3\u001b[0m\u001b[1;33m)\u001b[0m\u001b[1;33m,\u001b[0m\u001b[0mpadding\u001b[0m\u001b[1;33m=\u001b[0m\u001b[1;34m'valid'\u001b[0m\u001b[1;33m,\u001b[0m\u001b[0mactivation\u001b[0m\u001b[1;33m=\u001b[0m\u001b[1;34m'relu'\u001b[0m\u001b[1;33m)\u001b[0m\u001b[1;33m,\u001b[0m\u001b[1;33m\u001b[0m\u001b[1;33m\u001b[0m\u001b[0m\n",
      "\u001b[1;32m~\\anaconda3\\lib\\site-packages\\tensorflow\\python\\training\\tracking\\base.py\u001b[0m in \u001b[0;36m_method_wrapper\u001b[1;34m(self, *args, **kwargs)\u001b[0m\n\u001b[0;32m    627\u001b[0m     \u001b[0mself\u001b[0m\u001b[1;33m.\u001b[0m\u001b[0m_self_setattr_tracking\u001b[0m \u001b[1;33m=\u001b[0m \u001b[1;32mFalse\u001b[0m  \u001b[1;31m# pylint: disable=protected-access\u001b[0m\u001b[1;33m\u001b[0m\u001b[1;33m\u001b[0m\u001b[0m\n\u001b[0;32m    628\u001b[0m     \u001b[1;32mtry\u001b[0m\u001b[1;33m:\u001b[0m\u001b[1;33m\u001b[0m\u001b[1;33m\u001b[0m\u001b[0m\n\u001b[1;32m--> 629\u001b[1;33m       \u001b[0mresult\u001b[0m \u001b[1;33m=\u001b[0m \u001b[0mmethod\u001b[0m\u001b[1;33m(\u001b[0m\u001b[0mself\u001b[0m\u001b[1;33m,\u001b[0m \u001b[1;33m*\u001b[0m\u001b[0margs\u001b[0m\u001b[1;33m,\u001b[0m \u001b[1;33m**\u001b[0m\u001b[0mkwargs\u001b[0m\u001b[1;33m)\u001b[0m\u001b[1;33m\u001b[0m\u001b[1;33m\u001b[0m\u001b[0m\n\u001b[0m\u001b[0;32m    630\u001b[0m     \u001b[1;32mfinally\u001b[0m\u001b[1;33m:\u001b[0m\u001b[1;33m\u001b[0m\u001b[1;33m\u001b[0m\u001b[0m\n\u001b[0;32m    631\u001b[0m       \u001b[0mself\u001b[0m\u001b[1;33m.\u001b[0m\u001b[0m_self_setattr_tracking\u001b[0m \u001b[1;33m=\u001b[0m \u001b[0mprevious_value\u001b[0m  \u001b[1;31m# pylint: disable=protected-access\u001b[0m\u001b[1;33m\u001b[0m\u001b[1;33m\u001b[0m\u001b[0m\n",
      "\u001b[1;32m~\\AppData\\Roaming\\Python\\Python38\\site-packages\\keras\\utils\\traceback_utils.py\u001b[0m in \u001b[0;36merror_handler\u001b[1;34m(*args, **kwargs)\u001b[0m\n\u001b[0;32m     65\u001b[0m     \u001b[1;32mexcept\u001b[0m \u001b[0mException\u001b[0m \u001b[1;32mas\u001b[0m \u001b[0me\u001b[0m\u001b[1;33m:\u001b[0m  \u001b[1;31m# pylint: disable=broad-except\u001b[0m\u001b[1;33m\u001b[0m\u001b[1;33m\u001b[0m\u001b[0m\n\u001b[0;32m     66\u001b[0m       \u001b[0mfiltered_tb\u001b[0m \u001b[1;33m=\u001b[0m \u001b[0m_process_traceback_frames\u001b[0m\u001b[1;33m(\u001b[0m\u001b[0me\u001b[0m\u001b[1;33m.\u001b[0m\u001b[0m__traceback__\u001b[0m\u001b[1;33m)\u001b[0m\u001b[1;33m\u001b[0m\u001b[1;33m\u001b[0m\u001b[0m\n\u001b[1;32m---> 67\u001b[1;33m       \u001b[1;32mraise\u001b[0m \u001b[0me\u001b[0m\u001b[1;33m.\u001b[0m\u001b[0mwith_traceback\u001b[0m\u001b[1;33m(\u001b[0m\u001b[0mfiltered_tb\u001b[0m\u001b[1;33m)\u001b[0m \u001b[1;32mfrom\u001b[0m \u001b[1;32mNone\u001b[0m\u001b[1;33m\u001b[0m\u001b[1;33m\u001b[0m\u001b[0m\n\u001b[0m\u001b[0;32m     68\u001b[0m     \u001b[1;32mfinally\u001b[0m\u001b[1;33m:\u001b[0m\u001b[1;33m\u001b[0m\u001b[1;33m\u001b[0m\u001b[0m\n\u001b[0;32m     69\u001b[0m       \u001b[1;32mdel\u001b[0m \u001b[0mfiltered_tb\u001b[0m\u001b[1;33m\u001b[0m\u001b[1;33m\u001b[0m\u001b[0m\n",
      "\u001b[1;32m~\\AppData\\Roaming\\Python\\Python38\\site-packages\\keras\\layers\\convolutional.py\u001b[0m in \u001b[0;36mcompute_output_shape\u001b[1;34m(self, input_shape)\u001b[0m\n\u001b[0;32m    302\u001b[0m \u001b[1;33m\u001b[0m\u001b[0m\n\u001b[0;32m    303\u001b[0m     \u001b[1;32mexcept\u001b[0m \u001b[0mValueError\u001b[0m\u001b[1;33m:\u001b[0m\u001b[1;33m\u001b[0m\u001b[1;33m\u001b[0m\u001b[0m\n\u001b[1;32m--> 304\u001b[1;33m       raise ValueError(\n\u001b[0m\u001b[0;32m    305\u001b[0m           \u001b[1;34mf'One of the dimensions in the output is <= 0 '\u001b[0m\u001b[1;33m\u001b[0m\u001b[1;33m\u001b[0m\u001b[0m\n\u001b[0;32m    306\u001b[0m           \u001b[1;34mf'due to downsampling in {self.name}. Consider '\u001b[0m\u001b[1;33m\u001b[0m\u001b[1;33m\u001b[0m\u001b[0m\n",
      "\u001b[1;31mValueError\u001b[0m: One of the dimensions in the output is <= 0 due to downsampling in conv2d_37. Consider increasing the input size. Received input shape [None, 128, 1, 26, 26] which would produce output shape with a zero or negative value in a dimension."
     ]
    }
   ],
   "source": [
    "input_shape = [128,1,28,28]\n",
    "model = keras.Sequential([\n",
    "    keras.layers.Conv2D(1,kernel_size=(3,3),padding='valid',activation='relu',input_shape=input_shape,data_format='channels_first'),\n",
    "    keras.layers.Conv2D(32,kernel_size=(3,3),padding='valid',activation='relu'),\n",
    "    keras.layers.Conv2D(64,kernel_size=(3,3),padding='valid',activation='relu'),\n",
    "    keras.layers.Flatten(),\n",
    "    keras.layers.Dense(512, activation='linear'),\n",
    "    keras.layers.Dense(256, activation='linear'),\n",
    "    keras.layers.Dense(10, activation='softmax')\n",
    "])\n",
    "\n",
    "print(model.summary())"
   ]
  },
  {
   "cell_type": "markdown",
   "id": "d4ce3f75",
   "metadata": {},
   "source": [
    "conv2d를 적용하고 싶은데 에러가 납니다.. 나중에 수정할 수 있으면 수정하겠습니다!"
   ]
  },
  {
   "cell_type": "code",
   "execution_count": null,
   "id": "76499050",
   "metadata": {},
   "outputs": [],
   "source": [
    "optimizer = keras.optimizers.SGD(lr=0.01, momentum=0.5)\n",
    "model.compile(optimizer=optimizer,\n",
    "              loss=tf.keras.losses.SparseCategoricalCrossentropy(from_logits=True),\n",
    "              metrics=['accuracy'])"
   ]
  },
  {
   "cell_type": "code",
   "execution_count": null,
   "id": "b66e17ff",
   "metadata": {},
   "outputs": [],
   "source": [
    "result = model.fit(X_train, y_train, epochs=10, validation_data = (X_val, y_val))"
   ]
  },
  {
   "cell_type": "code",
   "execution_count": 210,
   "id": "7d194757",
   "metadata": {},
   "outputs": [
    {
     "data": {
      "text/plain": [
       "(47600, 28, 28, 1)"
      ]
     },
     "execution_count": 210,
     "metadata": {},
     "output_type": "execute_result"
    }
   ],
   "source": [
    "X_train.shape"
   ]
  },
  {
   "cell_type": "code",
   "execution_count": null,
   "id": "647679da",
   "metadata": {},
   "outputs": [],
   "source": [
    "#keras.layers.MaxPool2D(pool_size=(2, 2)),"
   ]
  }
 ],
 "metadata": {
  "kernelspec": {
   "display_name": "Python 3",
   "language": "python",
   "name": "python3"
  },
  "language_info": {
   "codemirror_mode": {
    "name": "ipython",
    "version": 3
   },
   "file_extension": ".py",
   "mimetype": "text/x-python",
   "name": "python",
   "nbconvert_exporter": "python",
   "pygments_lexer": "ipython3",
   "version": "3.8.8"
  }
 },
 "nbformat": 4,
 "nbformat_minor": 5
}
