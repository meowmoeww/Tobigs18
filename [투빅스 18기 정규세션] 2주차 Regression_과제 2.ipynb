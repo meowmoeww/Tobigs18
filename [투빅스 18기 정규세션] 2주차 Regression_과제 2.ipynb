{
 "cells": [
  {
   "cell_type": "markdown",
   "metadata": {
    "id": "oYVqHpHghxi1"
   },
   "source": [
    "# [과제 2] 회귀분석\n",
    "### - Ch 1, Ch 2를 토대로 자유롭게 회귀분석과 회귀진단을 진행해주세요.\n",
    "### - 주석으로 설명 및 근거 자세하게 달아주시면 감사하겠습니다. :)"
   ]
  },
  {
   "cell_type": "code",
   "execution_count": 1,
   "metadata": {
    "id": "F0T3iPmPhxi_"
   },
   "outputs": [],
   "source": [
    "%matplotlib inline \n",
    "\n",
    "import pandas as pd\n",
    "import numpy as np\n",
    "import matplotlib.pyplot as plt\n",
    "import seaborn as sns\n",
    "\n",
    "import warnings\n",
    "warnings.filterwarnings(action='ignore')"
   ]
  },
  {
   "cell_type": "code",
   "execution_count": 66,
   "metadata": {},
   "outputs": [
    {
     "name": "stdout",
     "output_type": "stream",
     "text": [
      "Requirement already satisfied: statsmodels in c:\\users\\rhskr\\anaconda3\\lib\\site-packages (0.12.2)\n",
      "Requirement already satisfied: numpy>=1.15 in c:\\users\\rhskr\\anaconda3\\lib\\site-packages (from statsmodels) (1.20.1)\n",
      "Requirement already satisfied: scipy>=1.1 in c:\\users\\rhskr\\anaconda3\\lib\\site-packages (from statsmodels) (1.8.0)\n",
      "Requirement already satisfied: pandas>=0.21 in c:\\users\\rhskr\\anaconda3\\lib\\site-packages (from statsmodels) (1.2.4)\n",
      "Requirement already satisfied: patsy>=0.5 in c:\\users\\rhskr\\anaconda3\\lib\\site-packages (from statsmodels) (0.5.1)\n",
      "Requirement already satisfied: python-dateutil>=2.7.3 in c:\\users\\rhskr\\anaconda3\\lib\\site-packages (from pandas>=0.21->statsmodels) (2.8.1)\n",
      "Requirement already satisfied: pytz>=2017.3 in c:\\users\\rhskr\\anaconda3\\lib\\site-packages (from pandas>=0.21->statsmodels) (2021.1)\n",
      "Requirement already satisfied: six in c:\\users\\rhskr\\anaconda3\\lib\\site-packages (from patsy>=0.5->statsmodels) (1.15.0)\n"
     ]
    }
   ],
   "source": [
    "!pip install statsmodels"
   ]
  },
  {
   "cell_type": "code",
   "execution_count": 68,
   "metadata": {},
   "outputs": [
    {
     "name": "stderr",
     "output_type": "stream",
     "text": [
      "ERROR: Could not find a version that satisfies the requirement scipy.signal.signaltools\n",
      "ERROR: No matching distribution found for scipy.signal.signaltools\n"
     ]
    }
   ],
   "source": [
    "!pip install scipy.signal.signaltools"
   ]
  },
  {
   "cell_type": "code",
   "execution_count": 73,
   "metadata": {},
   "outputs": [],
   "source": [
    "\n",
    "#머신러닝 모델 구축 / 평가\n",
    "import scipy as sp\n",
    "import scipy.stats as stats\n",
    "\n",
    "import statsmodels.api as sm\n",
    "from statsmodels.formula.api import ols\n",
    "\n",
    "from sklearn.model_selection import train_test_split\n",
    "from sklearn.metrics import mean_squared_error,r2_score,mean_absolute_error\n",
    "\n",
    "#데이터 시각화\n",
    "import seaborn as sns\n",
    "import matplotlib.pyplot as plt\n",
    "import matplotlib.font_manager as fm\n",
    "\n",
    "#한글 폰트\n",
    "plt.style.use('seaborn')\n",
    "plt.rc('font', family='DejaVu Sans')\n",
    "plt.rc('axes', unicode_minus=False)"
   ]
  },
  {
   "cell_type": "markdown",
   "metadata": {
    "id": "P0uNO4d5hxjA"
   },
   "source": [
    "# Data "
   ]
  },
  {
   "cell_type": "markdown",
   "metadata": {
    "id": "3-xhqe55hxjB"
   },
   "source": [
    "데이터 출처 : https://www.kaggle.com/avikasliwal/used-cars-price-prediction "
   ]
  },
  {
   "cell_type": "markdown",
   "metadata": {
    "id": "NL9G4b7-hxjB"
   },
   "source": [
    "< y > \n",
    "* **Price** : The price of the used car in INR Lakhs.\n",
    "\n",
    "\n",
    "\n",
    "< X > \n",
    "* Name : The brand and model of the car\n",
    "* Location : The location in which the car is being sold or is available for purchase.\n",
    "* Year : The year or edition of the model.\n",
    "* Kilometers_Driven : The total kilometres driven in the car by the previous owner(s) in KM.\n",
    "* Fuel_Type : The type of fuel used by the car. (Petrol, Diesel, Electric, CNG, LPG)\n",
    "* Transmission : The type of transmission used by the car. (Automatic / Manual)\n",
    "* Owner_Type : Whether the ownership is Firsthand, Second hand or other.\n",
    "* Mileage : The standard mileage offered by the car company in kmpl or km/kg\n",
    "* Engine : The displacement volume of the engine in CC.\n",
    "* Power : The maximum power of the engine in bhp.\n",
    "* Seats : The number of seats in the car.\n",
    "* New_Price : The price of a new car of the same model."
   ]
  },
  {
   "cell_type": "code",
   "execution_count": 43,
   "metadata": {
    "colab": {
     "base_uri": "https://localhost:8080/",
     "height": 407
    },
    "id": "4erq13F3hxjC",
    "outputId": "9d870503-1f14-40ab-fb6c-510abcdf231d"
   },
   "outputs": [
    {
     "data": {
      "text/html": [
       "<div>\n",
       "<style scoped>\n",
       "    .dataframe tbody tr th:only-of-type {\n",
       "        vertical-align: middle;\n",
       "    }\n",
       "\n",
       "    .dataframe tbody tr th {\n",
       "        vertical-align: top;\n",
       "    }\n",
       "\n",
       "    .dataframe thead th {\n",
       "        text-align: right;\n",
       "    }\n",
       "</style>\n",
       "<table border=\"1\" class=\"dataframe\">\n",
       "  <thead>\n",
       "    <tr style=\"text-align: right;\">\n",
       "      <th></th>\n",
       "      <th>Unnamed: 0</th>\n",
       "      <th>Name</th>\n",
       "      <th>Location</th>\n",
       "      <th>Year</th>\n",
       "      <th>Kilometers_Driven</th>\n",
       "      <th>Fuel_Type</th>\n",
       "      <th>Transmission</th>\n",
       "      <th>Owner_Type</th>\n",
       "      <th>Mileage</th>\n",
       "      <th>Engine</th>\n",
       "      <th>Power</th>\n",
       "      <th>Seats</th>\n",
       "      <th>New_Price</th>\n",
       "      <th>Price</th>\n",
       "    </tr>\n",
       "  </thead>\n",
       "  <tbody>\n",
       "    <tr>\n",
       "      <th>0</th>\n",
       "      <td>0</td>\n",
       "      <td>Maruti Wagon R LXI CNG</td>\n",
       "      <td>Mumbai</td>\n",
       "      <td>2010</td>\n",
       "      <td>72000</td>\n",
       "      <td>CNG</td>\n",
       "      <td>Manual</td>\n",
       "      <td>First</td>\n",
       "      <td>26.6 km/kg</td>\n",
       "      <td>998 CC</td>\n",
       "      <td>58.16 bhp</td>\n",
       "      <td>5.0</td>\n",
       "      <td>NaN</td>\n",
       "      <td>1.75</td>\n",
       "    </tr>\n",
       "    <tr>\n",
       "      <th>1</th>\n",
       "      <td>1</td>\n",
       "      <td>Hyundai Creta 1.6 CRDi SX Option</td>\n",
       "      <td>Pune</td>\n",
       "      <td>2015</td>\n",
       "      <td>41000</td>\n",
       "      <td>Diesel</td>\n",
       "      <td>Manual</td>\n",
       "      <td>First</td>\n",
       "      <td>19.67 kmpl</td>\n",
       "      <td>1582 CC</td>\n",
       "      <td>126.2 bhp</td>\n",
       "      <td>5.0</td>\n",
       "      <td>NaN</td>\n",
       "      <td>12.50</td>\n",
       "    </tr>\n",
       "    <tr>\n",
       "      <th>2</th>\n",
       "      <td>2</td>\n",
       "      <td>Honda Jazz V</td>\n",
       "      <td>Chennai</td>\n",
       "      <td>2011</td>\n",
       "      <td>46000</td>\n",
       "      <td>Petrol</td>\n",
       "      <td>Manual</td>\n",
       "      <td>First</td>\n",
       "      <td>18.2 kmpl</td>\n",
       "      <td>1199 CC</td>\n",
       "      <td>88.7 bhp</td>\n",
       "      <td>5.0</td>\n",
       "      <td>8.61 Lakh</td>\n",
       "      <td>4.50</td>\n",
       "    </tr>\n",
       "    <tr>\n",
       "      <th>3</th>\n",
       "      <td>3</td>\n",
       "      <td>Maruti Ertiga VDI</td>\n",
       "      <td>Chennai</td>\n",
       "      <td>2012</td>\n",
       "      <td>87000</td>\n",
       "      <td>Diesel</td>\n",
       "      <td>Manual</td>\n",
       "      <td>First</td>\n",
       "      <td>20.77 kmpl</td>\n",
       "      <td>1248 CC</td>\n",
       "      <td>88.76 bhp</td>\n",
       "      <td>7.0</td>\n",
       "      <td>NaN</td>\n",
       "      <td>6.00</td>\n",
       "    </tr>\n",
       "    <tr>\n",
       "      <th>4</th>\n",
       "      <td>4</td>\n",
       "      <td>Audi A4 New 2.0 TDI Multitronic</td>\n",
       "      <td>Coimbatore</td>\n",
       "      <td>2013</td>\n",
       "      <td>40670</td>\n",
       "      <td>Diesel</td>\n",
       "      <td>Automatic</td>\n",
       "      <td>Second</td>\n",
       "      <td>15.2 kmpl</td>\n",
       "      <td>1968 CC</td>\n",
       "      <td>140.8 bhp</td>\n",
       "      <td>5.0</td>\n",
       "      <td>NaN</td>\n",
       "      <td>17.74</td>\n",
       "    </tr>\n",
       "  </tbody>\n",
       "</table>\n",
       "</div>"
      ],
      "text/plain": [
       "   Unnamed: 0                              Name    Location  Year  \\\n",
       "0           0            Maruti Wagon R LXI CNG      Mumbai  2010   \n",
       "1           1  Hyundai Creta 1.6 CRDi SX Option        Pune  2015   \n",
       "2           2                      Honda Jazz V     Chennai  2011   \n",
       "3           3                 Maruti Ertiga VDI     Chennai  2012   \n",
       "4           4   Audi A4 New 2.0 TDI Multitronic  Coimbatore  2013   \n",
       "\n",
       "   Kilometers_Driven Fuel_Type Transmission Owner_Type     Mileage   Engine  \\\n",
       "0              72000       CNG       Manual      First  26.6 km/kg   998 CC   \n",
       "1              41000    Diesel       Manual      First  19.67 kmpl  1582 CC   \n",
       "2              46000    Petrol       Manual      First   18.2 kmpl  1199 CC   \n",
       "3              87000    Diesel       Manual      First  20.77 kmpl  1248 CC   \n",
       "4              40670    Diesel    Automatic     Second   15.2 kmpl  1968 CC   \n",
       "\n",
       "       Power  Seats  New_Price  Price  \n",
       "0  58.16 bhp    5.0        NaN   1.75  \n",
       "1  126.2 bhp    5.0        NaN  12.50  \n",
       "2   88.7 bhp    5.0  8.61 Lakh   4.50  \n",
       "3  88.76 bhp    7.0        NaN   6.00  \n",
       "4  140.8 bhp    5.0        NaN  17.74  "
      ]
     },
     "execution_count": 43,
     "metadata": {},
     "output_type": "execute_result"
    }
   ],
   "source": [
    "# Load Data \n",
    "data = pd.read_csv(\"assignment2_data.csv\")\n",
    "data.head()"
   ]
  },
  {
   "cell_type": "code",
   "execution_count": 44,
   "metadata": {},
   "outputs": [
    {
     "data": {
      "text/plain": [
       "Index(['Unnamed: 0', 'Name', 'Location', 'Year', 'Kilometers_Driven',\n",
       "       'Fuel_Type', 'Transmission', 'Owner_Type', 'Mileage', 'Engine', 'Power',\n",
       "       'Seats', 'New_Price', 'Price'],\n",
       "      dtype='object')"
      ]
     },
     "execution_count": 44,
     "metadata": {},
     "output_type": "execute_result"
    }
   ],
   "source": [
    "data.columns"
   ]
  },
  {
   "cell_type": "code",
   "execution_count": 45,
   "metadata": {},
   "outputs": [
    {
     "name": "stdout",
     "output_type": "stream",
     "text": [
      "<class 'pandas.core.frame.DataFrame'>\n",
      "RangeIndex: 6019 entries, 0 to 6018\n",
      "Data columns (total 14 columns):\n",
      " #   Column             Non-Null Count  Dtype  \n",
      "---  ------             --------------  -----  \n",
      " 0   Unnamed: 0         6019 non-null   int64  \n",
      " 1   Name               6019 non-null   object \n",
      " 2   Location           6019 non-null   object \n",
      " 3   Year               6019 non-null   int64  \n",
      " 4   Kilometers_Driven  6019 non-null   int64  \n",
      " 5   Fuel_Type          6019 non-null   object \n",
      " 6   Transmission       6019 non-null   object \n",
      " 7   Owner_Type         6019 non-null   object \n",
      " 8   Mileage            6017 non-null   object \n",
      " 9   Engine             5983 non-null   object \n",
      " 10  Power              5983 non-null   object \n",
      " 11  Seats              5977 non-null   float64\n",
      " 12  New_Price          824 non-null    object \n",
      " 13  Price              6019 non-null   float64\n",
      "dtypes: float64(2), int64(3), object(9)\n",
      "memory usage: 658.5+ KB\n"
     ]
    }
   ],
   "source": [
    "data.info()"
   ]
  },
  {
   "cell_type": "code",
   "execution_count": 46,
   "metadata": {},
   "outputs": [
    {
     "data": {
      "text/plain": [
       "Unnamed: 0              0\n",
       "Name                    0\n",
       "Location                0\n",
       "Year                    0\n",
       "Kilometers_Driven       0\n",
       "Fuel_Type               0\n",
       "Transmission            0\n",
       "Owner_Type              0\n",
       "Mileage                 2\n",
       "Engine                 36\n",
       "Power                  36\n",
       "Seats                  42\n",
       "New_Price            5195\n",
       "Price                   0\n",
       "dtype: int64"
      ]
     },
     "execution_count": 46,
     "metadata": {},
     "output_type": "execute_result"
    }
   ],
   "source": [
    "data.isnull().sum()"
   ]
  },
  {
   "cell_type": "markdown",
   "metadata": {},
   "source": [
    "전처리"
   ]
  },
  {
   "cell_type": "code",
   "execution_count": 47,
   "metadata": {},
   "outputs": [],
   "source": [
    "data = data[data['Mileage'].notna()] #notna() : 누락값 여부 체크\n",
    "data = data[data['Engine'].notna()]\n",
    "data = data[data['Power'].notna()]\n",
    "data = data[data['Seats'].notna()]\n",
    "data = data.reset_index(drop=True)"
   ]
  },
  {
   "cell_type": "code",
   "execution_count": 48,
   "metadata": {},
   "outputs": [],
   "source": [
    "for i in range(data.shape[0]):\n",
    "    data.at[i, 'Mileage(km/kg)'] = data['Mileage'][i].split()[0] #mileage의 숫자부분만 가져오기\n",
    "    data.at[i, 'Engine(CC)'] = data['Engine'][i].split()[0] #engine의 숫자부분만 가져오기\n",
    "    data.at[i, 'Power(bhp)'] = data['Power'][i].split()[0] #power의 숫자부분만 가져오기"
   ]
  },
  {
   "cell_type": "code",
   "execution_count": 49,
   "metadata": {},
   "outputs": [
    {
     "data": {
      "text/plain": [
       "False    5872\n",
       "True      103\n",
       "Name: Power, dtype: int64"
      ]
     },
     "execution_count": 49,
     "metadata": {},
     "output_type": "execute_result"
    }
   ],
   "source": [
    "(data['Power'] == 'null bhp').value_counts()\n",
    "#power에 null bhp인 값들이 103개가 존재한다"
   ]
  },
  {
   "cell_type": "code",
   "execution_count": 50,
   "metadata": {},
   "outputs": [],
   "source": [
    "x = 'n'\n",
    "count = 0\n",
    "position = []\n",
    "for i in range(data.shape[0]):\n",
    "    if data['Power(bhp)'][i]=='null':\n",
    "        x = 'Y'\n",
    "        count = count + 1\n",
    "        position.append(i)\n",
    "\n",
    "data = data.drop(data.index[position]) # 그리고 그 값을 삭제해주기\n",
    "data = data.reset_index(drop=True)"
   ]
  },
  {
   "cell_type": "code",
   "execution_count": 51,
   "metadata": {},
   "outputs": [],
   "source": [
    "data['Mileage(km/kg)'] = data['Mileage(km/kg)'].astype(float)\n",
    "data['Engine(CC)'] = data['Engine(CC)'].astype(float)\n",
    "data['Power(bhp)'] = data['Power(bhp)'].astype(float)"
   ]
  },
  {
   "cell_type": "code",
   "execution_count": 52,
   "metadata": {},
   "outputs": [],
   "source": [
    "for i in range(data.shape[0]):\n",
    "    if pd.isnull(data.loc[i,'New_Price']) == False: #New_Price의 값이 존재하면 숫자부분만 가져오기\n",
    "        data.at[i,'New_car_Price'] = data['New_Price'][i].split()[0]"
   ]
  },
  {
   "cell_type": "code",
   "execution_count": 53,
   "metadata": {},
   "outputs": [],
   "source": [
    "data['New_car_Price'] = data['New_car_Price'].astype(float)"
   ]
  },
  {
   "cell_type": "code",
   "execution_count": 54,
   "metadata": {},
   "outputs": [],
   "source": [
    "data.drop([\"Name\",\"Mileage\",\"Engine\",\"Power\",\"New_Price\"],axis=1,inplace=True)"
   ]
  },
  {
   "cell_type": "code",
   "execution_count": 55,
   "metadata": {},
   "outputs": [
    {
     "data": {
      "text/html": [
       "<div>\n",
       "<style scoped>\n",
       "    .dataframe tbody tr th:only-of-type {\n",
       "        vertical-align: middle;\n",
       "    }\n",
       "\n",
       "    .dataframe tbody tr th {\n",
       "        vertical-align: top;\n",
       "    }\n",
       "\n",
       "    .dataframe thead th {\n",
       "        text-align: right;\n",
       "    }\n",
       "</style>\n",
       "<table border=\"1\" class=\"dataframe\">\n",
       "  <thead>\n",
       "    <tr style=\"text-align: right;\">\n",
       "      <th></th>\n",
       "      <th>Unnamed: 0</th>\n",
       "      <th>Location</th>\n",
       "      <th>Year</th>\n",
       "      <th>Kilometers_Driven</th>\n",
       "      <th>Fuel_Type</th>\n",
       "      <th>Transmission</th>\n",
       "      <th>Owner_Type</th>\n",
       "      <th>Seats</th>\n",
       "      <th>Price</th>\n",
       "      <th>Mileage(km/kg)</th>\n",
       "      <th>Engine(CC)</th>\n",
       "      <th>Power(bhp)</th>\n",
       "      <th>New_car_Price</th>\n",
       "    </tr>\n",
       "  </thead>\n",
       "  <tbody>\n",
       "    <tr>\n",
       "      <th>0</th>\n",
       "      <td>0</td>\n",
       "      <td>Mumbai</td>\n",
       "      <td>2010</td>\n",
       "      <td>72000</td>\n",
       "      <td>CNG</td>\n",
       "      <td>Manual</td>\n",
       "      <td>First</td>\n",
       "      <td>5.0</td>\n",
       "      <td>1.75</td>\n",
       "      <td>26.60</td>\n",
       "      <td>998.0</td>\n",
       "      <td>58.16</td>\n",
       "      <td>NaN</td>\n",
       "    </tr>\n",
       "    <tr>\n",
       "      <th>1</th>\n",
       "      <td>1</td>\n",
       "      <td>Pune</td>\n",
       "      <td>2015</td>\n",
       "      <td>41000</td>\n",
       "      <td>Diesel</td>\n",
       "      <td>Manual</td>\n",
       "      <td>First</td>\n",
       "      <td>5.0</td>\n",
       "      <td>12.50</td>\n",
       "      <td>19.67</td>\n",
       "      <td>1582.0</td>\n",
       "      <td>126.20</td>\n",
       "      <td>NaN</td>\n",
       "    </tr>\n",
       "    <tr>\n",
       "      <th>2</th>\n",
       "      <td>2</td>\n",
       "      <td>Chennai</td>\n",
       "      <td>2011</td>\n",
       "      <td>46000</td>\n",
       "      <td>Petrol</td>\n",
       "      <td>Manual</td>\n",
       "      <td>First</td>\n",
       "      <td>5.0</td>\n",
       "      <td>4.50</td>\n",
       "      <td>18.20</td>\n",
       "      <td>1199.0</td>\n",
       "      <td>88.70</td>\n",
       "      <td>8.61</td>\n",
       "    </tr>\n",
       "    <tr>\n",
       "      <th>3</th>\n",
       "      <td>3</td>\n",
       "      <td>Chennai</td>\n",
       "      <td>2012</td>\n",
       "      <td>87000</td>\n",
       "      <td>Diesel</td>\n",
       "      <td>Manual</td>\n",
       "      <td>First</td>\n",
       "      <td>7.0</td>\n",
       "      <td>6.00</td>\n",
       "      <td>20.77</td>\n",
       "      <td>1248.0</td>\n",
       "      <td>88.76</td>\n",
       "      <td>NaN</td>\n",
       "    </tr>\n",
       "    <tr>\n",
       "      <th>4</th>\n",
       "      <td>4</td>\n",
       "      <td>Coimbatore</td>\n",
       "      <td>2013</td>\n",
       "      <td>40670</td>\n",
       "      <td>Diesel</td>\n",
       "      <td>Automatic</td>\n",
       "      <td>Second</td>\n",
       "      <td>5.0</td>\n",
       "      <td>17.74</td>\n",
       "      <td>15.20</td>\n",
       "      <td>1968.0</td>\n",
       "      <td>140.80</td>\n",
       "      <td>NaN</td>\n",
       "    </tr>\n",
       "  </tbody>\n",
       "</table>\n",
       "</div>"
      ],
      "text/plain": [
       "   Unnamed: 0    Location  Year  Kilometers_Driven Fuel_Type Transmission  \\\n",
       "0           0      Mumbai  2010              72000       CNG       Manual   \n",
       "1           1        Pune  2015              41000    Diesel       Manual   \n",
       "2           2     Chennai  2011              46000    Petrol       Manual   \n",
       "3           3     Chennai  2012              87000    Diesel       Manual   \n",
       "4           4  Coimbatore  2013              40670    Diesel    Automatic   \n",
       "\n",
       "  Owner_Type  Seats  Price  Mileage(km/kg)  Engine(CC)  Power(bhp)  \\\n",
       "0      First    5.0   1.75           26.60       998.0       58.16   \n",
       "1      First    5.0  12.50           19.67      1582.0      126.20   \n",
       "2      First    5.0   4.50           18.20      1199.0       88.70   \n",
       "3      First    7.0   6.00           20.77      1248.0       88.76   \n",
       "4     Second    5.0  17.74           15.20      1968.0      140.80   \n",
       "\n",
       "   New_car_Price  \n",
       "0            NaN  \n",
       "1            NaN  \n",
       "2           8.61  \n",
       "3            NaN  \n",
       "4            NaN  "
      ]
     },
     "execution_count": 55,
     "metadata": {},
     "output_type": "execute_result"
    }
   ],
   "source": [
    "data.head()"
   ]
  },
  {
   "cell_type": "code",
   "execution_count": 56,
   "metadata": {},
   "outputs": [
    {
     "data": {
      "text/html": [
       "<div>\n",
       "<style scoped>\n",
       "    .dataframe tbody tr th:only-of-type {\n",
       "        vertical-align: middle;\n",
       "    }\n",
       "\n",
       "    .dataframe tbody tr th {\n",
       "        vertical-align: top;\n",
       "    }\n",
       "\n",
       "    .dataframe thead th {\n",
       "        text-align: right;\n",
       "    }\n",
       "</style>\n",
       "<table border=\"1\" class=\"dataframe\">\n",
       "  <thead>\n",
       "    <tr style=\"text-align: right;\">\n",
       "      <th></th>\n",
       "      <th>Unnamed: 0</th>\n",
       "      <th>Location</th>\n",
       "      <th>Year</th>\n",
       "      <th>Kilometers_Driven</th>\n",
       "      <th>Fuel_Type</th>\n",
       "      <th>Transmission</th>\n",
       "      <th>Owner_Type</th>\n",
       "      <th>Seats</th>\n",
       "      <th>Price</th>\n",
       "      <th>Mileage(km/kg)</th>\n",
       "      <th>Engine(CC)</th>\n",
       "      <th>Power(bhp)</th>\n",
       "      <th>New_car_Price</th>\n",
       "    </tr>\n",
       "  </thead>\n",
       "  <tbody>\n",
       "    <tr>\n",
       "      <th>0</th>\n",
       "      <td>0</td>\n",
       "      <td>Mumbai</td>\n",
       "      <td>2010</td>\n",
       "      <td>72000</td>\n",
       "      <td>CNG</td>\n",
       "      <td>Manual</td>\n",
       "      <td>1</td>\n",
       "      <td>5.0</td>\n",
       "      <td>1.75</td>\n",
       "      <td>26.60</td>\n",
       "      <td>998.0</td>\n",
       "      <td>58.16</td>\n",
       "      <td>NaN</td>\n",
       "    </tr>\n",
       "    <tr>\n",
       "      <th>1</th>\n",
       "      <td>1</td>\n",
       "      <td>Pune</td>\n",
       "      <td>2015</td>\n",
       "      <td>41000</td>\n",
       "      <td>Diesel</td>\n",
       "      <td>Manual</td>\n",
       "      <td>1</td>\n",
       "      <td>5.0</td>\n",
       "      <td>12.50</td>\n",
       "      <td>19.67</td>\n",
       "      <td>1582.0</td>\n",
       "      <td>126.20</td>\n",
       "      <td>NaN</td>\n",
       "    </tr>\n",
       "    <tr>\n",
       "      <th>2</th>\n",
       "      <td>2</td>\n",
       "      <td>Chennai</td>\n",
       "      <td>2011</td>\n",
       "      <td>46000</td>\n",
       "      <td>Petrol</td>\n",
       "      <td>Manual</td>\n",
       "      <td>1</td>\n",
       "      <td>5.0</td>\n",
       "      <td>4.50</td>\n",
       "      <td>18.20</td>\n",
       "      <td>1199.0</td>\n",
       "      <td>88.70</td>\n",
       "      <td>8.61</td>\n",
       "    </tr>\n",
       "    <tr>\n",
       "      <th>3</th>\n",
       "      <td>3</td>\n",
       "      <td>Chennai</td>\n",
       "      <td>2012</td>\n",
       "      <td>87000</td>\n",
       "      <td>Diesel</td>\n",
       "      <td>Manual</td>\n",
       "      <td>1</td>\n",
       "      <td>7.0</td>\n",
       "      <td>6.00</td>\n",
       "      <td>20.77</td>\n",
       "      <td>1248.0</td>\n",
       "      <td>88.76</td>\n",
       "      <td>NaN</td>\n",
       "    </tr>\n",
       "    <tr>\n",
       "      <th>4</th>\n",
       "      <td>4</td>\n",
       "      <td>Coimbatore</td>\n",
       "      <td>2013</td>\n",
       "      <td>40670</td>\n",
       "      <td>Diesel</td>\n",
       "      <td>Automatic</td>\n",
       "      <td>2</td>\n",
       "      <td>5.0</td>\n",
       "      <td>17.74</td>\n",
       "      <td>15.20</td>\n",
       "      <td>1968.0</td>\n",
       "      <td>140.80</td>\n",
       "      <td>NaN</td>\n",
       "    </tr>\n",
       "  </tbody>\n",
       "</table>\n",
       "</div>"
      ],
      "text/plain": [
       "   Unnamed: 0    Location  Year  Kilometers_Driven Fuel_Type Transmission  \\\n",
       "0           0      Mumbai  2010              72000       CNG       Manual   \n",
       "1           1        Pune  2015              41000    Diesel       Manual   \n",
       "2           2     Chennai  2011              46000    Petrol       Manual   \n",
       "3           3     Chennai  2012              87000    Diesel       Manual   \n",
       "4           4  Coimbatore  2013              40670    Diesel    Automatic   \n",
       "\n",
       "   Owner_Type  Seats  Price  Mileage(km/kg)  Engine(CC)  Power(bhp)  \\\n",
       "0           1    5.0   1.75           26.60       998.0       58.16   \n",
       "1           1    5.0  12.50           19.67      1582.0      126.20   \n",
       "2           1    5.0   4.50           18.20      1199.0       88.70   \n",
       "3           1    7.0   6.00           20.77      1248.0       88.76   \n",
       "4           2    5.0  17.74           15.20      1968.0      140.80   \n",
       "\n",
       "   New_car_Price  \n",
       "0            NaN  \n",
       "1            NaN  \n",
       "2           8.61  \n",
       "3            NaN  \n",
       "4            NaN  "
      ]
     },
     "execution_count": 56,
     "metadata": {},
     "output_type": "execute_result"
    }
   ],
   "source": [
    "Location = pd.get_dummies(data[['Location']],drop_first=True)\n",
    "\n",
    "Fuel_t = pd.get_dummies(data[['Fuel_Type']],drop_first=True)\n",
    "\n",
    "Transmission = pd.get_dummies(data[['Transmission']],drop_first=True)\n",
    "\n",
    "data.replace({\"First\":1,\"Second\":2,\"Third\": 3,\"Fourth & Above\":4},inplace=True)\n",
    "\n",
    "data.head()"
   ]
  },
  {
   "cell_type": "code",
   "execution_count": 57,
   "metadata": {},
   "outputs": [
    {
     "data": {
      "text/html": [
       "<div>\n",
       "<style scoped>\n",
       "    .dataframe tbody tr th:only-of-type {\n",
       "        vertical-align: middle;\n",
       "    }\n",
       "\n",
       "    .dataframe tbody tr th {\n",
       "        vertical-align: top;\n",
       "    }\n",
       "\n",
       "    .dataframe thead th {\n",
       "        text-align: right;\n",
       "    }\n",
       "</style>\n",
       "<table border=\"1\" class=\"dataframe\">\n",
       "  <thead>\n",
       "    <tr style=\"text-align: right;\">\n",
       "      <th></th>\n",
       "      <th>Unnamed: 0</th>\n",
       "      <th>Location</th>\n",
       "      <th>Year</th>\n",
       "      <th>Kilometers_Driven</th>\n",
       "      <th>Fuel_Type</th>\n",
       "      <th>Transmission</th>\n",
       "      <th>Owner_Type</th>\n",
       "      <th>Seats</th>\n",
       "      <th>Price</th>\n",
       "      <th>Mileage(km/kg)</th>\n",
       "      <th>...</th>\n",
       "      <th>Location_Hyderabad</th>\n",
       "      <th>Location_Jaipur</th>\n",
       "      <th>Location_Kochi</th>\n",
       "      <th>Location_Kolkata</th>\n",
       "      <th>Location_Mumbai</th>\n",
       "      <th>Location_Pune</th>\n",
       "      <th>Fuel_Type_Diesel</th>\n",
       "      <th>Fuel_Type_LPG</th>\n",
       "      <th>Fuel_Type_Petrol</th>\n",
       "      <th>Transmission_Manual</th>\n",
       "    </tr>\n",
       "  </thead>\n",
       "  <tbody>\n",
       "    <tr>\n",
       "      <th>0</th>\n",
       "      <td>0</td>\n",
       "      <td>Mumbai</td>\n",
       "      <td>2010</td>\n",
       "      <td>72000</td>\n",
       "      <td>CNG</td>\n",
       "      <td>Manual</td>\n",
       "      <td>1</td>\n",
       "      <td>5.0</td>\n",
       "      <td>1.75</td>\n",
       "      <td>26.60</td>\n",
       "      <td>...</td>\n",
       "      <td>0</td>\n",
       "      <td>0</td>\n",
       "      <td>0</td>\n",
       "      <td>0</td>\n",
       "      <td>1</td>\n",
       "      <td>0</td>\n",
       "      <td>0</td>\n",
       "      <td>0</td>\n",
       "      <td>0</td>\n",
       "      <td>1</td>\n",
       "    </tr>\n",
       "    <tr>\n",
       "      <th>1</th>\n",
       "      <td>1</td>\n",
       "      <td>Pune</td>\n",
       "      <td>2015</td>\n",
       "      <td>41000</td>\n",
       "      <td>Diesel</td>\n",
       "      <td>Manual</td>\n",
       "      <td>1</td>\n",
       "      <td>5.0</td>\n",
       "      <td>12.50</td>\n",
       "      <td>19.67</td>\n",
       "      <td>...</td>\n",
       "      <td>0</td>\n",
       "      <td>0</td>\n",
       "      <td>0</td>\n",
       "      <td>0</td>\n",
       "      <td>0</td>\n",
       "      <td>1</td>\n",
       "      <td>1</td>\n",
       "      <td>0</td>\n",
       "      <td>0</td>\n",
       "      <td>1</td>\n",
       "    </tr>\n",
       "    <tr>\n",
       "      <th>2</th>\n",
       "      <td>2</td>\n",
       "      <td>Chennai</td>\n",
       "      <td>2011</td>\n",
       "      <td>46000</td>\n",
       "      <td>Petrol</td>\n",
       "      <td>Manual</td>\n",
       "      <td>1</td>\n",
       "      <td>5.0</td>\n",
       "      <td>4.50</td>\n",
       "      <td>18.20</td>\n",
       "      <td>...</td>\n",
       "      <td>0</td>\n",
       "      <td>0</td>\n",
       "      <td>0</td>\n",
       "      <td>0</td>\n",
       "      <td>0</td>\n",
       "      <td>0</td>\n",
       "      <td>0</td>\n",
       "      <td>0</td>\n",
       "      <td>1</td>\n",
       "      <td>1</td>\n",
       "    </tr>\n",
       "    <tr>\n",
       "      <th>3</th>\n",
       "      <td>3</td>\n",
       "      <td>Chennai</td>\n",
       "      <td>2012</td>\n",
       "      <td>87000</td>\n",
       "      <td>Diesel</td>\n",
       "      <td>Manual</td>\n",
       "      <td>1</td>\n",
       "      <td>7.0</td>\n",
       "      <td>6.00</td>\n",
       "      <td>20.77</td>\n",
       "      <td>...</td>\n",
       "      <td>0</td>\n",
       "      <td>0</td>\n",
       "      <td>0</td>\n",
       "      <td>0</td>\n",
       "      <td>0</td>\n",
       "      <td>0</td>\n",
       "      <td>1</td>\n",
       "      <td>0</td>\n",
       "      <td>0</td>\n",
       "      <td>1</td>\n",
       "    </tr>\n",
       "    <tr>\n",
       "      <th>4</th>\n",
       "      <td>4</td>\n",
       "      <td>Coimbatore</td>\n",
       "      <td>2013</td>\n",
       "      <td>40670</td>\n",
       "      <td>Diesel</td>\n",
       "      <td>Automatic</td>\n",
       "      <td>2</td>\n",
       "      <td>5.0</td>\n",
       "      <td>17.74</td>\n",
       "      <td>15.20</td>\n",
       "      <td>...</td>\n",
       "      <td>0</td>\n",
       "      <td>0</td>\n",
       "      <td>0</td>\n",
       "      <td>0</td>\n",
       "      <td>0</td>\n",
       "      <td>0</td>\n",
       "      <td>1</td>\n",
       "      <td>0</td>\n",
       "      <td>0</td>\n",
       "      <td>0</td>\n",
       "    </tr>\n",
       "  </tbody>\n",
       "</table>\n",
       "<p>5 rows × 27 columns</p>\n",
       "</div>"
      ],
      "text/plain": [
       "   Unnamed: 0    Location  Year  Kilometers_Driven Fuel_Type Transmission  \\\n",
       "0           0      Mumbai  2010              72000       CNG       Manual   \n",
       "1           1        Pune  2015              41000    Diesel       Manual   \n",
       "2           2     Chennai  2011              46000    Petrol       Manual   \n",
       "3           3     Chennai  2012              87000    Diesel       Manual   \n",
       "4           4  Coimbatore  2013              40670    Diesel    Automatic   \n",
       "\n",
       "   Owner_Type  Seats  Price  Mileage(km/kg)  ...  Location_Hyderabad  \\\n",
       "0           1    5.0   1.75           26.60  ...                   0   \n",
       "1           1    5.0  12.50           19.67  ...                   0   \n",
       "2           1    5.0   4.50           18.20  ...                   0   \n",
       "3           1    7.0   6.00           20.77  ...                   0   \n",
       "4           2    5.0  17.74           15.20  ...                   0   \n",
       "\n",
       "   Location_Jaipur  Location_Kochi  Location_Kolkata  Location_Mumbai  \\\n",
       "0                0               0                 0                1   \n",
       "1                0               0                 0                0   \n",
       "2                0               0                 0                0   \n",
       "3                0               0                 0                0   \n",
       "4                0               0                 0                0   \n",
       "\n",
       "   Location_Pune  Fuel_Type_Diesel  Fuel_Type_LPG  Fuel_Type_Petrol  \\\n",
       "0              0                 0              0                 0   \n",
       "1              1                 1              0                 0   \n",
       "2              0                 0              0                 1   \n",
       "3              0                 1              0                 0   \n",
       "4              0                 1              0                 0   \n",
       "\n",
       "   Transmission_Manual  \n",
       "0                    1  \n",
       "1                    1  \n",
       "2                    1  \n",
       "3                    1  \n",
       "4                    0  \n",
       "\n",
       "[5 rows x 27 columns]"
      ]
     },
     "execution_count": 57,
     "metadata": {},
     "output_type": "execute_result"
    }
   ],
   "source": [
    "final_data= pd.concat([data,Location,Fuel_t,Transmission],axis=1)\n",
    "final_data.head()"
   ]
  },
  {
   "cell_type": "code",
   "execution_count": 58,
   "metadata": {},
   "outputs": [
    {
     "data": {
      "text/html": [
       "<div>\n",
       "<style scoped>\n",
       "    .dataframe tbody tr th:only-of-type {\n",
       "        vertical-align: middle;\n",
       "    }\n",
       "\n",
       "    .dataframe tbody tr th {\n",
       "        vertical-align: top;\n",
       "    }\n",
       "\n",
       "    .dataframe thead th {\n",
       "        text-align: right;\n",
       "    }\n",
       "</style>\n",
       "<table border=\"1\" class=\"dataframe\">\n",
       "  <thead>\n",
       "    <tr style=\"text-align: right;\">\n",
       "      <th></th>\n",
       "      <th>Unnamed: 0</th>\n",
       "      <th>Year</th>\n",
       "      <th>Kilometers_Driven</th>\n",
       "      <th>Owner_Type</th>\n",
       "      <th>Seats</th>\n",
       "      <th>Price</th>\n",
       "      <th>Mileage(km/kg)</th>\n",
       "      <th>Engine(CC)</th>\n",
       "      <th>Power(bhp)</th>\n",
       "      <th>Location_Bangalore</th>\n",
       "      <th>...</th>\n",
       "      <th>Location_Hyderabad</th>\n",
       "      <th>Location_Jaipur</th>\n",
       "      <th>Location_Kochi</th>\n",
       "      <th>Location_Kolkata</th>\n",
       "      <th>Location_Mumbai</th>\n",
       "      <th>Location_Pune</th>\n",
       "      <th>Fuel_Type_Diesel</th>\n",
       "      <th>Fuel_Type_LPG</th>\n",
       "      <th>Fuel_Type_Petrol</th>\n",
       "      <th>Transmission_Manual</th>\n",
       "    </tr>\n",
       "  </thead>\n",
       "  <tbody>\n",
       "    <tr>\n",
       "      <th>0</th>\n",
       "      <td>0</td>\n",
       "      <td>2010</td>\n",
       "      <td>72000</td>\n",
       "      <td>1</td>\n",
       "      <td>5.0</td>\n",
       "      <td>1.75</td>\n",
       "      <td>26.60</td>\n",
       "      <td>998.0</td>\n",
       "      <td>58.16</td>\n",
       "      <td>0</td>\n",
       "      <td>...</td>\n",
       "      <td>0</td>\n",
       "      <td>0</td>\n",
       "      <td>0</td>\n",
       "      <td>0</td>\n",
       "      <td>1</td>\n",
       "      <td>0</td>\n",
       "      <td>0</td>\n",
       "      <td>0</td>\n",
       "      <td>0</td>\n",
       "      <td>1</td>\n",
       "    </tr>\n",
       "    <tr>\n",
       "      <th>1</th>\n",
       "      <td>1</td>\n",
       "      <td>2015</td>\n",
       "      <td>41000</td>\n",
       "      <td>1</td>\n",
       "      <td>5.0</td>\n",
       "      <td>12.50</td>\n",
       "      <td>19.67</td>\n",
       "      <td>1582.0</td>\n",
       "      <td>126.20</td>\n",
       "      <td>0</td>\n",
       "      <td>...</td>\n",
       "      <td>0</td>\n",
       "      <td>0</td>\n",
       "      <td>0</td>\n",
       "      <td>0</td>\n",
       "      <td>0</td>\n",
       "      <td>1</td>\n",
       "      <td>1</td>\n",
       "      <td>0</td>\n",
       "      <td>0</td>\n",
       "      <td>1</td>\n",
       "    </tr>\n",
       "    <tr>\n",
       "      <th>2</th>\n",
       "      <td>2</td>\n",
       "      <td>2011</td>\n",
       "      <td>46000</td>\n",
       "      <td>1</td>\n",
       "      <td>5.0</td>\n",
       "      <td>4.50</td>\n",
       "      <td>18.20</td>\n",
       "      <td>1199.0</td>\n",
       "      <td>88.70</td>\n",
       "      <td>0</td>\n",
       "      <td>...</td>\n",
       "      <td>0</td>\n",
       "      <td>0</td>\n",
       "      <td>0</td>\n",
       "      <td>0</td>\n",
       "      <td>0</td>\n",
       "      <td>0</td>\n",
       "      <td>0</td>\n",
       "      <td>0</td>\n",
       "      <td>1</td>\n",
       "      <td>1</td>\n",
       "    </tr>\n",
       "    <tr>\n",
       "      <th>3</th>\n",
       "      <td>3</td>\n",
       "      <td>2012</td>\n",
       "      <td>87000</td>\n",
       "      <td>1</td>\n",
       "      <td>7.0</td>\n",
       "      <td>6.00</td>\n",
       "      <td>20.77</td>\n",
       "      <td>1248.0</td>\n",
       "      <td>88.76</td>\n",
       "      <td>0</td>\n",
       "      <td>...</td>\n",
       "      <td>0</td>\n",
       "      <td>0</td>\n",
       "      <td>0</td>\n",
       "      <td>0</td>\n",
       "      <td>0</td>\n",
       "      <td>0</td>\n",
       "      <td>1</td>\n",
       "      <td>0</td>\n",
       "      <td>0</td>\n",
       "      <td>1</td>\n",
       "    </tr>\n",
       "    <tr>\n",
       "      <th>4</th>\n",
       "      <td>4</td>\n",
       "      <td>2013</td>\n",
       "      <td>40670</td>\n",
       "      <td>2</td>\n",
       "      <td>5.0</td>\n",
       "      <td>17.74</td>\n",
       "      <td>15.20</td>\n",
       "      <td>1968.0</td>\n",
       "      <td>140.80</td>\n",
       "      <td>0</td>\n",
       "      <td>...</td>\n",
       "      <td>0</td>\n",
       "      <td>0</td>\n",
       "      <td>0</td>\n",
       "      <td>0</td>\n",
       "      <td>0</td>\n",
       "      <td>0</td>\n",
       "      <td>1</td>\n",
       "      <td>0</td>\n",
       "      <td>0</td>\n",
       "      <td>0</td>\n",
       "    </tr>\n",
       "  </tbody>\n",
       "</table>\n",
       "<p>5 rows × 23 columns</p>\n",
       "</div>"
      ],
      "text/plain": [
       "   Unnamed: 0  Year  Kilometers_Driven  Owner_Type  Seats  Price  \\\n",
       "0           0  2010              72000           1    5.0   1.75   \n",
       "1           1  2015              41000           1    5.0  12.50   \n",
       "2           2  2011              46000           1    5.0   4.50   \n",
       "3           3  2012              87000           1    7.0   6.00   \n",
       "4           4  2013              40670           2    5.0  17.74   \n",
       "\n",
       "   Mileage(km/kg)  Engine(CC)  Power(bhp)  Location_Bangalore  ...  \\\n",
       "0           26.60       998.0       58.16                   0  ...   \n",
       "1           19.67      1582.0      126.20                   0  ...   \n",
       "2           18.20      1199.0       88.70                   0  ...   \n",
       "3           20.77      1248.0       88.76                   0  ...   \n",
       "4           15.20      1968.0      140.80                   0  ...   \n",
       "\n",
       "   Location_Hyderabad  Location_Jaipur  Location_Kochi  Location_Kolkata  \\\n",
       "0                   0                0               0                 0   \n",
       "1                   0                0               0                 0   \n",
       "2                   0                0               0                 0   \n",
       "3                   0                0               0                 0   \n",
       "4                   0                0               0                 0   \n",
       "\n",
       "   Location_Mumbai  Location_Pune  Fuel_Type_Diesel  Fuel_Type_LPG  \\\n",
       "0                1              0                 0              0   \n",
       "1                0              1                 1              0   \n",
       "2                0              0                 0              0   \n",
       "3                0              0                 1              0   \n",
       "4                0              0                 1              0   \n",
       "\n",
       "   Fuel_Type_Petrol  Transmission_Manual  \n",
       "0                 0                    1  \n",
       "1                 0                    1  \n",
       "2                 1                    1  \n",
       "3                 0                    1  \n",
       "4                 0                    0  \n",
       "\n",
       "[5 rows x 23 columns]"
      ]
     },
     "execution_count": 58,
     "metadata": {},
     "output_type": "execute_result"
    }
   ],
   "source": [
    "final_data.drop([\"Location\",\"Fuel_Type\",\"Transmission\",\"New_car_Price\"],axis=1,inplace=True)\n",
    "final_data.head()"
   ]
  },
  {
   "cell_type": "code",
   "execution_count": 59,
   "metadata": {},
   "outputs": [],
   "source": [
    "X = final_data.drop(['Unnamed: 0','Price'],axis=1)\n",
    "y = final_data[['Price']]"
   ]
  },
  {
   "cell_type": "code",
   "execution_count": 63,
   "metadata": {},
   "outputs": [],
   "source": [
    "from sklearn.model_selection import train_test_split\n",
    "X_train, X_test, y_train, y_test = train_test_split(X, y, test_size=0.2, random_state=2021)"
   ]
  },
  {
   "cell_type": "markdown",
   "metadata": {},
   "source": [
    "### 선형회귀모델 가정확인"
   ]
  },
  {
   "cell_type": "code",
   "execution_count": 72,
   "metadata": {},
   "outputs": [],
   "source": [
    "import  scipy.signal.signaltools\n",
    "\n",
    "def _centered(arr, newsize):\n",
    "    # Return the center newsize portion of the array.\n",
    "    newsize = np.asarray(newsize)\n",
    "    currsize = np.array(arr.shape)\n",
    "    startind = (currsize - newsize) // 2\n",
    "    endind = startind + newsize\n",
    "    myslice = [slice(startind[k], endind[k]) for k in range(len(endind))]\n",
    "    return arr[tuple(myslice)]\n",
    "\n",
    "scipy.signal.signaltools._centered = _centered"
   ]
  },
  {
   "cell_type": "code",
   "execution_count": 74,
   "metadata": {},
   "outputs": [],
   "source": [
    "import statsmodels.api as sm\n",
    "X_train=sm.add_constant(X_train) #beta_0 값이 될 변수 만들기\n",
    "model=sm.OLS(y_train,X_train,axis=1)\n",
    "model_trained=model.fit()"
   ]
  },
  {
   "cell_type": "markdown",
   "metadata": {},
   "source": [
    "**정규성 확인**"
   ]
  },
  {
   "cell_type": "markdown",
   "metadata": {},
   "source": [
    "확률오차가 정규성을 나름 잘 따라 가는 것 같음"
   ]
  },
  {
   "cell_type": "code",
   "execution_count": 75,
   "metadata": {},
   "outputs": [
    {
     "data": {
      "image/png": "[encoded data removed]",
      "text/plain": [
       "<Figure size 576x396 with 1 Axes>"
      ]
     },
     "execution_count": 75,
     "metadata": {},
     "output_type": "execute_result"
    },
    {
     "data": {
      "image/png": "[encoded data removed]",
      "text/plain": [
       "<Figure size 576x396 with 1 Axes>"
      ]
     },
     "metadata": {},
     "output_type": "display_data"
    }
   ],
   "source": [
    "model_residuals=model_trained.resid\n",
    "\n",
    "plt.rcParams[\"axes.unicode_minus\"]=False #폰트 깨짐 방지\n",
    "sm.ProbPlot(model_residuals).qqplot(line=\"s\")"
   ]
  },
  {
   "cell_type": "markdown",
   "metadata": {},
   "source": [
    "**등분산성 확인**"
   ]
  },
  {
   "cell_type": "markdown",
   "metadata": {},
   "source": [
    "분산이 점점 커지는 형태로 보아 등분산성 만족 못하는 것 같음"
   ]
  },
  {
   "cell_type": "code",
   "execution_count": 76,
   "metadata": {},
   "outputs": [
    {
     "data": {
      "text/plain": [
       "Text(0, 0.5, 'residuals')"
      ]
     },
     "execution_count": 76,
     "metadata": {},
     "output_type": "execute_result"
    },
    {
     "data": {
      "image/png": "[encoded data removed]",
      "text/plain": [
       "<Figure size 576x396 with 1 Axes>"
      ]
     },
     "metadata": {},
     "output_type": "display_data"
    }
   ],
   "source": [
    "model_fitted_y=model_trained.fittedvalues\n",
    "\n",
    "sns.residplot(model_fitted_y, y_train,data=X_train, lowess=True, scatter_kws={\"alpha\":0.5},line_kws={\"color\":\"red\"})\n",
    "\n",
    "plt.title(\"residuals vs Fitted\")\n",
    "plt.xlabel(\"fitted values\")\n",
    "plt.ylabel(\"residuals\")"
   ]
  },
  {
   "cell_type": "markdown",
   "metadata": {},
   "source": [
    "y의 로그변환을 해주었고 결과 확인시 등분산성을 만족하므로 y는 log 변환을 해주기로 한다"
   ]
  },
  {
   "cell_type": "code",
   "execution_count": 79,
   "metadata": {},
   "outputs": [
    {
     "data": {
      "text/plain": [
       "Text(0, 0.5, 'residuals')"
      ]
     },
     "execution_count": 79,
     "metadata": {},
     "output_type": "execute_result"
    },
    {
     "data": {
      "image/png": "[encoded data removed]",
      "text/plain": [
       "<Figure size 576x396 with 1 Axes>"
      ]
     },
     "metadata": {},
     "output_type": "display_data"
    }
   ],
   "source": [
    "X_train=sm.add_constant(X_train) #beta_0 값이 될 변수 만들기\n",
    "log_model=sm.OLS(np.log(y_train),X_train,axis=1)\n",
    "log_model_trained=log_model.fit()\n",
    "\n",
    "log_model_fitted_y=log_model_trained.fittedvalues\n",
    "\n",
    "sns.residplot(log_model_fitted_y, np.log(y_train),data=X_train, lowess=True, scatter_kws={\"alpha\":0.5},line_kws={\"color\":\"red\"})\n",
    "\n",
    "plt.title(\"residuals vs Fitted\")\n",
    "plt.xlabel(\"fitted values\")\n",
    "plt.ylabel(\"residuals\")"
   ]
  },
  {
   "cell_type": "markdown",
   "metadata": {},
   "source": [
    "### 설명 : 통계적인 해석\n",
    "* R-squared : 모형의 성능\n",
    "* coef (회귀계수) : X가 1 단위 증가함에 따른 y의 변화량\n",
    "* p-value : 0.05 (유의 수준) 이하일 때 변수 유의미"
   ]
  },
  {
   "cell_type": "code",
   "execution_count": 80,
   "metadata": {},
   "outputs": [
    {
     "name": "stdout",
     "output_type": "stream",
     "text": [
      "                            OLS Regression Results                            \n",
      "==============================================================================\n",
      "Dep. Variable:                  Price   R-squared:                       0.886\n",
      "Model:                            OLS   Adj. R-squared:                  0.885\n",
      "Method:                 Least Squares   F-statistic:                     1725.\n",
      "Date:                Tue, 02 Aug 2022   Prob (F-statistic):               0.00\n",
      "Time:                        14:32:31   Log-Likelihood:                -864.45\n",
      "No. Observations:                4697   AIC:                             1773.\n",
      "Df Residuals:                    4675   BIC:                             1915.\n",
      "Df Model:                          21                                         \n",
      "Covariance Type:            nonrobust                                         \n",
      "=======================================================================================\n",
      "                          coef    std err          t      P>|t|      [0.025      0.975]\n",
      "---------------------------------------------------------------------------------------\n",
      "const                -250.6709      3.370    -74.374      0.000    -257.279    -244.063\n",
      "Year                    0.1252      0.002     74.583      0.000       0.122       0.129\n",
      "Kilometers_Driven    -7.36e-08   4.31e-08     -1.708      0.088   -1.58e-07    1.09e-08\n",
      "Owner_Type             -0.0696      0.011     -6.537      0.000      -0.091      -0.049\n",
      "Seats                   0.0052      0.007      0.718      0.473      -0.009       0.019\n",
      "Mileage(km/kg)         -0.0201      0.002    -12.198      0.000      -0.023      -0.017\n",
      "Engine(CC)           9.472e-05   2.13e-05      4.448      0.000     5.3e-05       0.000\n",
      "Power(bhp)              0.0077      0.000     37.255      0.000       0.007       0.008\n",
      "Location_Bangalore      0.1518      0.029      5.216      0.000       0.095       0.209\n",
      "Location_Chennai       -0.0174      0.028     -0.632      0.527      -0.072       0.037\n",
      "Location_Coimbatore     0.0725      0.027      2.728      0.006       0.020       0.125\n",
      "Location_Delhi         -0.0653      0.027     -2.436      0.015      -0.118      -0.013\n",
      "Location_Hyderabad      0.0904      0.026      3.487      0.000       0.040       0.141\n",
      "Location_Jaipur        -0.0887      0.028     -3.150      0.002      -0.144      -0.033\n",
      "Location_Kochi         -0.0474      0.026     -1.789      0.074      -0.099       0.005\n",
      "Location_Kolkata       -0.2304      0.027     -8.527      0.000      -0.283      -0.177\n",
      "Location_Mumbai        -0.0541      0.026     -2.100      0.036      -0.105      -0.004\n",
      "Location_Pune          -0.0861      0.027     -3.239      0.001      -0.138      -0.034\n",
      "Fuel_Type_Diesel        0.1920      0.044      4.386      0.000       0.106       0.278\n",
      "Fuel_Type_LPG          -0.1142      0.112     -1.015      0.310      -0.335       0.106\n",
      "Fuel_Type_Petrol       -0.1371      0.044     -3.088      0.002      -0.224      -0.050\n",
      "Transmission_Manual    -0.3081      0.013    -24.174      0.000      -0.333      -0.283\n",
      "==============================================================================\n",
      "Omnibus:                      470.323   Durbin-Watson:                   2.041\n",
      "Prob(Omnibus):                  0.000   Jarque-Bera (JB):             1638.803\n",
      "Skew:                          -0.481   Prob(JB):                         0.00\n",
      "Kurtosis:                       5.729   Cond. No.                     9.28e+07\n",
      "==============================================================================\n",
      "\n",
      "Notes:\n",
      "[1] Standard Errors assume that the covariance matrix of the errors is correctly specified.\n",
      "[2] The condition number is large, 9.28e+07. This might indicate that there are\n",
      "strong multicollinearity or other numerical problems.\n"
     ]
    }
   ],
   "source": [
    "print(log_model_trained.summary()) #통계량 제공됨"
   ]
  },
  {
   "cell_type": "markdown",
   "metadata": {},
   "source": [
    "상대적으로 p-value 값이 높은 변수 값 제거 : 'Kilometers_Driven','Seats', 'Location_Chennai','Location_Kochi', 'Fuel_Type_LPG'"
   ]
  },
  {
   "cell_type": "code",
   "execution_count": 81,
   "metadata": {
    "id": "d-J1QpWR_WYh"
   },
   "outputs": [
    {
     "name": "stdout",
     "output_type": "stream",
     "text": [
      "                            OLS Regression Results                            \n",
      "==============================================================================\n",
      "Dep. Variable:                  Price   R-squared:                       0.885\n",
      "Model:                            OLS   Adj. R-squared:                  0.885\n",
      "Method:                 Least Squares   F-statistic:                     2262.\n",
      "Date:                Tue, 02 Aug 2022   Prob (F-statistic):               0.00\n",
      "Time:                        14:34:40   Log-Likelihood:                -868.60\n",
      "No. Observations:                4697   AIC:                             1771.\n",
      "Df Residuals:                    4680   BIC:                             1881.\n",
      "Df Model:                          16                                         \n",
      "Covariance Type:            nonrobust                                         \n",
      "=======================================================================================\n",
      "                          coef    std err          t      P>|t|      [0.025      0.975]\n",
      "---------------------------------------------------------------------------------------\n",
      "const                -250.6346      3.223    -77.769      0.000    -256.953    -244.316\n",
      "Year                    0.1252      0.002     78.160      0.000       0.122       0.128\n",
      "Owner_Type             -0.0686      0.011     -6.463      0.000      -0.089      -0.048\n",
      "Mileage(km/kg)         -0.0201      0.002    -12.648      0.000      -0.023      -0.017\n",
      "Engine(CC)              0.0001   1.93e-05      5.225      0.000    6.31e-05       0.000\n",
      "Power(bhp)              0.0076      0.000     40.736      0.000       0.007       0.008\n",
      "Location_Bangalore      0.1818      0.020      9.027      0.000       0.142       0.221\n",
      "Location_Coimbatore     0.1038      0.016      6.475      0.000       0.072       0.135\n",
      "Location_Delhi         -0.0346      0.017     -2.078      0.038      -0.067      -0.002\n",
      "Location_Hyderabad      0.1182      0.015      7.710      0.000       0.088       0.148\n",
      "Location_Jaipur        -0.0601      0.019     -3.191      0.001      -0.097      -0.023\n",
      "Location_Kolkata       -0.1997      0.017    -11.672      0.000      -0.233      -0.166\n",
      "Location_Mumbai        -0.0224      0.015     -1.517      0.129      -0.051       0.007\n",
      "Location_Pune          -0.0572      0.016     -3.512      0.000      -0.089      -0.025\n",
      "Fuel_Type_Diesel        0.2113      0.040      5.219      0.000       0.132       0.291\n",
      "Fuel_Type_Petrol       -0.1192      0.041     -2.915      0.004      -0.199      -0.039\n",
      "Transmission_Manual    -0.3075      0.013    -24.480      0.000      -0.332      -0.283\n",
      "==============================================================================\n",
      "Omnibus:                      469.706   Durbin-Watson:                   2.043\n",
      "Prob(Omnibus):                  0.000   Jarque-Bera (JB):             1628.419\n",
      "Skew:                          -0.482   Prob(JB):                         0.00\n",
      "Kurtosis:                       5.718   Cond. No.                     1.98e+06\n",
      "==============================================================================\n",
      "\n",
      "Notes:\n",
      "[1] Standard Errors assume that the covariance matrix of the errors is correctly specified.\n",
      "[2] The condition number is large, 1.98e+06. This might indicate that there are\n",
      "strong multicollinearity or other numerical problems.\n"
     ]
    }
   ],
   "source": [
    "log_model=sm.OLS(np.log(y_train),X_train.drop(['Kilometers_Driven','Seats', 'Location_Chennai','Location_Kochi', 'Fuel_Type_LPG'],axis=1))\n",
    "log_model_trained=log_model.fit()\n",
    "print(log_model_trained.summary())"
   ]
  },
  {
   "cell_type": "markdown",
   "metadata": {},
   "source": [
    "## chp2 다중공선성 검사"
   ]
  },
  {
   "cell_type": "code",
   "execution_count": 103,
   "metadata": {},
   "outputs": [
    {
     "data": {
      "text/html": [
       "<div>\n",
       "<style scoped>\n",
       "    .dataframe tbody tr th:only-of-type {\n",
       "        vertical-align: middle;\n",
       "    }\n",
       "\n",
       "    .dataframe tbody tr th {\n",
       "        vertical-align: top;\n",
       "    }\n",
       "\n",
       "    .dataframe thead th {\n",
       "        text-align: right;\n",
       "    }\n",
       "</style>\n",
       "<table border=\"1\" class=\"dataframe\">\n",
       "  <thead>\n",
       "    <tr style=\"text-align: right;\">\n",
       "      <th></th>\n",
       "      <th>VIF Factor</th>\n",
       "      <th>features</th>\n",
       "    </tr>\n",
       "  </thead>\n",
       "  <tbody>\n",
       "    <tr>\n",
       "      <th>0</th>\n",
       "      <td>386.808640</td>\n",
       "      <td>Year</td>\n",
       "    </tr>\n",
       "    <tr>\n",
       "      <th>3</th>\n",
       "      <td>79.898587</td>\n",
       "      <td>Seats</td>\n",
       "    </tr>\n",
       "    <tr>\n",
       "      <th>5</th>\n",
       "      <td>75.438171</td>\n",
       "      <td>Engine(CC)</td>\n",
       "    </tr>\n",
       "    <tr>\n",
       "      <th>17</th>\n",
       "      <td>60.604214</td>\n",
       "      <td>Fuel_Type_Diesel</td>\n",
       "    </tr>\n",
       "    <tr>\n",
       "      <th>19</th>\n",
       "      <td>52.607187</td>\n",
       "      <td>Fuel_Type_Petrol</td>\n",
       "    </tr>\n",
       "    <tr>\n",
       "      <th>4</th>\n",
       "      <td>51.363552</td>\n",
       "      <td>Mileage(km/kg)</td>\n",
       "    </tr>\n",
       "    <tr>\n",
       "      <th>6</th>\n",
       "      <td>36.997675</td>\n",
       "      <td>Power(bhp)</td>\n",
       "    </tr>\n",
       "    <tr>\n",
       "      <th>2</th>\n",
       "      <td>9.065694</td>\n",
       "      <td>Owner_Type</td>\n",
       "    </tr>\n",
       "    <tr>\n",
       "      <th>20</th>\n",
       "      <td>6.331967</td>\n",
       "      <td>Transmission_Manual</td>\n",
       "    </tr>\n",
       "    <tr>\n",
       "      <th>15</th>\n",
       "      <td>4.579068</td>\n",
       "      <td>Location_Mumbai</td>\n",
       "    </tr>\n",
       "    <tr>\n",
       "      <th>11</th>\n",
       "      <td>4.280300</td>\n",
       "      <td>Location_Hyderabad</td>\n",
       "    </tr>\n",
       "    <tr>\n",
       "      <th>13</th>\n",
       "      <td>3.961965</td>\n",
       "      <td>Location_Kochi</td>\n",
       "    </tr>\n",
       "    <tr>\n",
       "      <th>9</th>\n",
       "      <td>3.886543</td>\n",
       "      <td>Location_Coimbatore</td>\n",
       "    </tr>\n",
       "    <tr>\n",
       "      <th>16</th>\n",
       "      <td>3.737333</td>\n",
       "      <td>Location_Pune</td>\n",
       "    </tr>\n",
       "    <tr>\n",
       "      <th>10</th>\n",
       "      <td>3.489097</td>\n",
       "      <td>Location_Delhi</td>\n",
       "    </tr>\n",
       "    <tr>\n",
       "      <th>14</th>\n",
       "      <td>3.389800</td>\n",
       "      <td>Location_Kolkata</td>\n",
       "    </tr>\n",
       "    <tr>\n",
       "      <th>8</th>\n",
       "      <td>3.199359</td>\n",
       "      <td>Location_Chennai</td>\n",
       "    </tr>\n",
       "    <tr>\n",
       "      <th>12</th>\n",
       "      <td>2.846938</td>\n",
       "      <td>Location_Jaipur</td>\n",
       "    </tr>\n",
       "    <tr>\n",
       "      <th>7</th>\n",
       "      <td>2.608436</td>\n",
       "      <td>Location_Bangalore</td>\n",
       "    </tr>\n",
       "    <tr>\n",
       "      <th>1</th>\n",
       "      <td>1.467512</td>\n",
       "      <td>Kilometers_Driven</td>\n",
       "    </tr>\n",
       "    <tr>\n",
       "      <th>18</th>\n",
       "      <td>1.199043</td>\n",
       "      <td>Fuel_Type_LPG</td>\n",
       "    </tr>\n",
       "  </tbody>\n",
       "</table>\n",
       "</div>"
      ],
      "text/plain": [
       "    VIF Factor             features\n",
       "0   386.808640                 Year\n",
       "3    79.898587                Seats\n",
       "5    75.438171           Engine(CC)\n",
       "17   60.604214     Fuel_Type_Diesel\n",
       "19   52.607187     Fuel_Type_Petrol\n",
       "4    51.363552       Mileage(km/kg)\n",
       "6    36.997675           Power(bhp)\n",
       "2     9.065694           Owner_Type\n",
       "20    6.331967  Transmission_Manual\n",
       "15    4.579068      Location_Mumbai\n",
       "11    4.280300   Location_Hyderabad\n",
       "13    3.961965       Location_Kochi\n",
       "9     3.886543  Location_Coimbatore\n",
       "16    3.737333        Location_Pune\n",
       "10    3.489097       Location_Delhi\n",
       "14    3.389800     Location_Kolkata\n",
       "8     3.199359     Location_Chennai\n",
       "12    2.846938      Location_Jaipur\n",
       "7     2.608436   Location_Bangalore\n",
       "1     1.467512    Kilometers_Driven\n",
       "18    1.199043        Fuel_Type_LPG"
      ]
     },
     "execution_count": 103,
     "metadata": {},
     "output_type": "execute_result"
    }
   ],
   "source": [
    "# VIF check \n",
    "from statsmodels.stats.outliers_influence import variance_inflation_factor\n",
    "\n",
    "vif = pd.DataFrame()\n",
    "vif[\"VIF Factor\"] = [variance_inflation_factor(X.values, i) for i in range(X.shape[1])]\n",
    "vif[\"features\"] = X.columns\n",
    "vif.sort_values([\"VIF Factor\"], ascending=[False])"
   ]
  },
  {
   "cell_type": "markdown",
   "metadata": {},
   "source": [
    "의심되는 변수: const, Fule_Type_Petrol, Fuel_Type_Diesel"
   ]
  },
  {
   "cell_type": "code",
   "execution_count": 114,
   "metadata": {},
   "outputs": [
    {
     "data": {
      "text/html": [
       "<div>\n",
       "<style scoped>\n",
       "    .dataframe tbody tr th:only-of-type {\n",
       "        vertical-align: middle;\n",
       "    }\n",
       "\n",
       "    .dataframe tbody tr th {\n",
       "        vertical-align: top;\n",
       "    }\n",
       "\n",
       "    .dataframe thead th {\n",
       "        text-align: right;\n",
       "    }\n",
       "</style>\n",
       "<table border=\"1\" class=\"dataframe\">\n",
       "  <thead>\n",
       "    <tr style=\"text-align: right;\">\n",
       "      <th></th>\n",
       "      <th>VIF Factor</th>\n",
       "      <th>features</th>\n",
       "    </tr>\n",
       "  </thead>\n",
       "  <tbody>\n",
       "    <tr>\n",
       "      <th>1</th>\n",
       "      <td>7.940987</td>\n",
       "      <td>Owner_Type</td>\n",
       "    </tr>\n",
       "    <tr>\n",
       "      <th>2</th>\n",
       "      <td>6.905753</td>\n",
       "      <td>Power(bhp)</td>\n",
       "    </tr>\n",
       "    <tr>\n",
       "      <th>15</th>\n",
       "      <td>4.385965</td>\n",
       "      <td>Transmission_Manual</td>\n",
       "    </tr>\n",
       "    <tr>\n",
       "      <th>11</th>\n",
       "      <td>2.929601</td>\n",
       "      <td>Location_Mumbai</td>\n",
       "    </tr>\n",
       "    <tr>\n",
       "      <th>7</th>\n",
       "      <td>2.608949</td>\n",
       "      <td>Location_Hyderabad</td>\n",
       "    </tr>\n",
       "    <tr>\n",
       "      <th>12</th>\n",
       "      <td>2.538211</td>\n",
       "      <td>Location_Pune</td>\n",
       "    </tr>\n",
       "    <tr>\n",
       "      <th>9</th>\n",
       "      <td>2.495157</td>\n",
       "      <td>Location_Kochi</td>\n",
       "    </tr>\n",
       "    <tr>\n",
       "      <th>5</th>\n",
       "      <td>2.489009</td>\n",
       "      <td>Location_Coimbatore</td>\n",
       "    </tr>\n",
       "    <tr>\n",
       "      <th>6</th>\n",
       "      <td>2.347907</td>\n",
       "      <td>Location_Delhi</td>\n",
       "    </tr>\n",
       "    <tr>\n",
       "      <th>4</th>\n",
       "      <td>2.250325</td>\n",
       "      <td>Location_Chennai</td>\n",
       "    </tr>\n",
       "    <tr>\n",
       "      <th>10</th>\n",
       "      <td>2.248333</td>\n",
       "      <td>Location_Kolkata</td>\n",
       "    </tr>\n",
       "    <tr>\n",
       "      <th>8</th>\n",
       "      <td>2.003348</td>\n",
       "      <td>Location_Jaipur</td>\n",
       "    </tr>\n",
       "    <tr>\n",
       "      <th>14</th>\n",
       "      <td>1.994316</td>\n",
       "      <td>Fuel_Type_Petrol</td>\n",
       "    </tr>\n",
       "    <tr>\n",
       "      <th>3</th>\n",
       "      <td>1.948652</td>\n",
       "      <td>Location_Bangalore</td>\n",
       "    </tr>\n",
       "    <tr>\n",
       "      <th>0</th>\n",
       "      <td>1.454576</td>\n",
       "      <td>Kilometers_Driven</td>\n",
       "    </tr>\n",
       "    <tr>\n",
       "      <th>13</th>\n",
       "      <td>1.009361</td>\n",
       "      <td>Fuel_Type_LPG</td>\n",
       "    </tr>\n",
       "  </tbody>\n",
       "</table>\n",
       "</div>"
      ],
      "text/plain": [
       "    VIF Factor             features\n",
       "1     7.940987           Owner_Type\n",
       "2     6.905753           Power(bhp)\n",
       "15    4.385965  Transmission_Manual\n",
       "11    2.929601      Location_Mumbai\n",
       "7     2.608949   Location_Hyderabad\n",
       "12    2.538211        Location_Pune\n",
       "9     2.495157       Location_Kochi\n",
       "5     2.489009  Location_Coimbatore\n",
       "6     2.347907       Location_Delhi\n",
       "4     2.250325     Location_Chennai\n",
       "10    2.248333     Location_Kolkata\n",
       "8     2.003348      Location_Jaipur\n",
       "14    1.994316     Fuel_Type_Petrol\n",
       "3     1.948652   Location_Bangalore\n",
       "0     1.454576    Kilometers_Driven\n",
       "13    1.009361        Fuel_Type_LPG"
      ]
     },
     "execution_count": 114,
     "metadata": {},
     "output_type": "execute_result"
    }
   ],
   "source": [
    "X2 = X.drop(['Year','Engine(CC)','Seats','Fuel_Type_Diesel','Mileage(km/kg)'], axis=1)\n",
    "vif = pd.DataFrame()\n",
    "vif[\"VIF Factor\"] = [variance_inflation_factor(X2.values, i) for i in range(X2.shape[1])]\n",
    "vif[\"features\"] = X2.columns\n",
    "vif.sort_values([\"VIF Factor\"], ascending=[False])"
   ]
  },
  {
   "cell_type": "code",
   "execution_count": 119,
   "metadata": {},
   "outputs": [
    {
     "name": "stdout",
     "output_type": "stream",
     "text": [
      "                            OLS Regression Results                            \n",
      "==============================================================================\n",
      "Dep. Variable:                  Price   R-squared:                       0.743\n",
      "Model:                            OLS   Adj. R-squared:                  0.742\n",
      "Method:                 Least Squares   F-statistic:                     844.9\n",
      "Date:                Tue, 02 Aug 2022   Prob (F-statistic):               0.00\n",
      "Time:                        14:55:38   Log-Likelihood:                -2768.8\n",
      "No. Observations:                4697   AIC:                             5572.\n",
      "Df Residuals:                    4680   BIC:                             5681.\n",
      "Df Model:                          16                                         \n",
      "Covariance Type:            nonrobust                                         \n",
      "=======================================================================================\n",
      "                          coef    std err          t      P>|t|      [0.025      0.975]\n",
      "---------------------------------------------------------------------------------------\n",
      "const                   1.7291      0.048     36.151      0.000       1.635       1.823\n",
      "Kilometers_Driven   -4.432e-07    6.4e-08     -6.927      0.000   -5.69e-07   -3.18e-07\n",
      "Owner_Type             -0.3324      0.015    -22.129      0.000      -0.362      -0.303\n",
      "Power(bhp)              0.0088      0.000     54.478      0.000       0.008       0.009\n",
      "Location_Bangalore      0.1738      0.044      3.986      0.000       0.088       0.259\n",
      "Location_Chennai       -0.0767      0.041     -1.857      0.063      -0.158       0.004\n",
      "Location_Coimbatore     0.3211      0.040      8.123      0.000       0.244       0.399\n",
      "Location_Delhi         -0.0286      0.040     -0.712      0.477      -0.107       0.050\n",
      "Location_Hyderabad      0.0240      0.039      0.617      0.537      -0.052       0.100\n",
      "Location_Jaipur        -0.1109      0.042     -2.629      0.009      -0.194      -0.028\n",
      "Location_Kochi          0.2045      0.039      5.199      0.000       0.127       0.282\n",
      "Location_Kolkata       -0.2819      0.040     -6.962      0.000      -0.361      -0.203\n",
      "Location_Mumbai        -0.0114      0.039     -0.296      0.767      -0.087       0.064\n",
      "Location_Pune          -0.1159      0.040     -2.912      0.004      -0.194      -0.038\n",
      "Fuel_Type_LPG          -0.5938      0.155     -3.820      0.000      -0.899      -0.289\n",
      "Fuel_Type_Petrol       -0.4106      0.014    -30.109      0.000      -0.437      -0.384\n",
      "Transmission_Manual    -0.3924      0.018    -21.272      0.000      -0.429      -0.356\n",
      "==============================================================================\n",
      "Omnibus:                      326.810   Durbin-Watson:                   1.998\n",
      "Prob(Omnibus):                  0.000   Jarque-Bera (JB):              789.871\n",
      "Skew:                          -0.421   Prob(JB):                    3.03e-172\n",
      "Kurtosis:                       4.824   Cond. No.                     2.85e+06\n",
      "==============================================================================\n",
      "\n",
      "Notes:\n",
      "[1] Standard Errors assume that the covariance matrix of the errors is correctly specified.\n",
      "[2] The condition number is large, 2.85e+06. This might indicate that there are\n",
      "strong multicollinearity or other numerical problems.\n"
     ]
    }
   ],
   "source": [
    "X_2 = X.drop(['Year','Engine(CC)','Seats','Fuel_Type_Diesel','Mileage(km/kg)'], axis=1)\n",
    "X_train2,X_test2,y_train2,y_test2=train_test_split(X_2,y,test_size=0.2,random_state=2021)\n",
    "\n",
    "X_train2=sm.add_constant(X_train2) #beta_0 값이 될 변수 만들기\n",
    "log_model=sm.OLS(np.log(y_train2),X_train2,axis=1)\n",
    "log_model_trained=log_model.fit()\n",
    "print(log_model_trained.summary()) #통계량 제공됨"
   ]
  },
  {
   "cell_type": "code",
   "execution_count": 120,
   "metadata": {},
   "outputs": [
    {
     "name": "stdout",
     "output_type": "stream",
     "text": [
      "                            OLS Regression Results                            \n",
      "==============================================================================\n",
      "Dep. Variable:                  Price   R-squared:                       0.742\n",
      "Model:                            OLS   Adj. R-squared:                  0.741\n",
      "Method:                 Least Squares   F-statistic:                     1124.\n",
      "Date:                Tue, 02 Aug 2022   Prob (F-statistic):               0.00\n",
      "Time:                        14:56:30   Log-Likelihood:                -2775.0\n",
      "No. Observations:                4697   AIC:                             5576.\n",
      "Df Residuals:                    4684   BIC:                             5660.\n",
      "Df Model:                          12                                         \n",
      "Covariance Type:            nonrobust                                         \n",
      "=======================================================================================\n",
      "                          coef    std err          t      P>|t|      [0.025      0.975]\n",
      "---------------------------------------------------------------------------------------\n",
      "const                   1.7239      0.035     49.148      0.000       1.655       1.793\n",
      "Kilometers_Driven   -4.552e-07   6.37e-08     -7.151      0.000    -5.8e-07    -3.3e-07\n",
      "Owner_Type             -0.3395      0.015    -22.820      0.000      -0.369      -0.310\n",
      "Power(bhp)              0.0088      0.000     54.605      0.000       0.008       0.009\n",
      "Location_Bangalore      0.1906      0.028      6.690      0.000       0.135       0.246\n",
      "Location_Coimbatore     0.3359      0.022     15.408      0.000       0.293       0.379\n",
      "Location_Jaipur        -0.0946      0.026     -3.579      0.000      -0.146      -0.043\n",
      "Location_Kochi          0.2191      0.021     10.196      0.000       0.177       0.261\n",
      "Location_Kolkata       -0.2674      0.024    -11.314      0.000      -0.314      -0.221\n",
      "Location_Pune          -0.0987      0.022     -4.434      0.000      -0.142      -0.055\n",
      "Fuel_Type_LPG          -0.5649      0.155     -3.639      0.000      -0.869      -0.261\n",
      "Fuel_Type_Petrol       -0.4121      0.013    -30.601      0.000      -0.438      -0.386\n",
      "Transmission_Manual    -0.3929      0.018    -21.289      0.000      -0.429      -0.357\n",
      "==============================================================================\n",
      "Omnibus:                      321.408   Durbin-Watson:                   1.998\n",
      "Prob(Omnibus):                  0.000   Jarque-Bera (JB):              774.858\n",
      "Skew:                          -0.415   Prob(JB):                    5.52e-169\n",
      "Kurtosis:                       4.809   Cond. No.                     2.85e+06\n",
      "==============================================================================\n",
      "\n",
      "Notes:\n",
      "[1] Standard Errors assume that the covariance matrix of the errors is correctly specified.\n",
      "[2] The condition number is large, 2.85e+06. This might indicate that there are\n",
      "strong multicollinearity or other numerical problems.\n"
     ]
    }
   ],
   "source": [
    "X_2 = X.drop(['Year','Engine(CC)','Seats','Fuel_Type_Diesel','Mileage(km/kg)'], axis=1)\n",
    "X_train2,X_test2,y_train2,y_test2=train_test_split(X_2,y,test_size=0.2,random_state=2021)\n",
    "\n",
    "X_train2=sm.add_constant(X_train2) #beta_0 값이 될 변수 만들기\n",
    "log_model=sm.OLS(np.log(y_train2),X_train2,axis=1)\n",
    "log_model_trained=log_model.fit()\n",
    "\n",
    "log_model_fitted_y=log_model_trained.fittedvalues\n",
    "\n",
    "log_model=sm.OLS(np.log(y_train2),X_train2.drop(['Location_Chennai','Location_Delhi','Location_Hyderabad', 'Location_Mumbai'],axis=1))\n",
    "log_model_trained=log_model.fit()\n",
    "print(log_model_trained.summary())"
   ]
  },
  {
   "cell_type": "markdown",
   "metadata": {},
   "source": [
    "### **예측 : 미래의 반응변수 값 예측** (다중공선성 처리 전)"
   ]
  },
  {
   "cell_type": "code",
   "execution_count": 86,
   "metadata": {},
   "outputs": [
    {
     "data": {
      "image/png": "[encoded data removed]",
      "text/plain": [
       "<Figure size 576x576 with 1 Axes>"
      ]
     },
     "metadata": {},
     "output_type": "display_data"
    }
   ],
   "source": [
    "#train하는 부분\n",
    "y_train_pred=log_model_trained.fittedvalues\n",
    "\n",
    "plt.figure(figsize=(8,8))\n",
    "plt.title(\"true value vs predict value\")\n",
    "plt.scatter(np.log(y_train),y_train_pred)\n",
    "plt.plot([-5,10],[-5,10],ls=\"--\",c=\"red\")\n",
    "plt.xlabel(\"true value\")\n",
    "plt.ylabel(\"predict value\")\n",
    "plt.xlim(-5,10)\n",
    "plt.ylim(-5,10)\n",
    "plt.show()\n",
    "\n",
    "#일직선을 따르므로 정확한 예측을 함"
   ]
  },
  {
   "cell_type": "markdown",
   "metadata": {},
   "source": [
    "**test-set에 대해 진행**"
   ]
  },
  {
   "cell_type": "code",
   "execution_count": 87,
   "metadata": {},
   "outputs": [
    {
     "data": {
      "text/plain": [
       "1929    1.793135\n",
       "1937    2.828946\n",
       "4992    2.777147\n",
       "2743    1.873878\n",
       "4341    1.301288\n",
       "dtype: float64"
      ]
     },
     "execution_count": 87,
     "metadata": {},
     "output_type": "execute_result"
    }
   ],
   "source": [
    "X_test=sm.add_constant(X_test)\n",
    "y_test_pred=log_model_trained.predict(X_test.drop(['Kilometers_Driven','Seats', 'Location_Chennai','Location_Kochi', 'Fuel_Type_LPG'],axis=1))\n",
    "y_test_pred.head()"
   ]
  },
  {
   "cell_type": "markdown",
   "metadata": {},
   "source": [
    "**평균제곱오차**"
   ]
  },
  {
   "cell_type": "code",
   "execution_count": 88,
   "metadata": {},
   "outputs": [
    {
     "name": "stdout",
     "output_type": "stream",
     "text": [
      "0.09690774298566589\n"
     ]
    }
   ],
   "source": [
    "print(mean_squared_error(np.log(y_test),y_test_pred))"
   ]
  },
  {
   "cell_type": "markdown",
   "metadata": {},
   "source": [
    "**제곱근 평균 제곱 오차**"
   ]
  },
  {
   "cell_type": "code",
   "execution_count": 89,
   "metadata": {},
   "outputs": [
    {
     "name": "stdout",
     "output_type": "stream",
     "text": [
      "0.31130008510385265\n"
     ]
    }
   ],
   "source": [
    "print(np.sqrt(mean_squared_error(np.log(y_test),y_test_pred)))"
   ]
  },
  {
   "cell_type": "markdown",
   "metadata": {},
   "source": [
    "**평균 절대 오차**"
   ]
  },
  {
   "cell_type": "code",
   "execution_count": 90,
   "metadata": {},
   "outputs": [
    {
     "name": "stdout",
     "output_type": "stream",
     "text": [
      "0.2254152712355099\n"
     ]
    }
   ],
   "source": [
    "print(mean_absolute_error(np.log(y_test),y_test_pred))"
   ]
  },
  {
   "cell_type": "markdown",
   "metadata": {},
   "source": [
    "**평균 절대 백분율 오차**"
   ]
  },
  {
   "cell_type": "code",
   "execution_count": 93,
   "metadata": {},
   "outputs": [
    {
     "name": "stdout",
     "output_type": "stream",
     "text": [
      "7.7301263408642\n"
     ]
    }
   ],
   "source": [
    "def mean_absolute_percentage_error(y_true,y_pred):\n",
    "  y_true,y_pred=np.array(y_true),np.array(y_pred)\n",
    "  return np.mean(np.abs((np.log(y_true)-y_pred)/y_true))*100\n",
    "\n",
    "print(mean_absolute_error(y_test,y_test_pred))"
   ]
  },
  {
   "cell_type": "markdown",
   "metadata": {},
   "source": [
    "### **예측 : 미래의 반응변수 값 예측** (다중공선성 처리 후)"
   ]
  },
  {
   "cell_type": "code",
   "execution_count": 122,
   "metadata": {},
   "outputs": [
    {
     "data": {
      "image/png": "[encoded data removed]",
      "text/plain": [
       "<Figure size 576x576 with 1 Axes>"
      ]
     },
     "metadata": {},
     "output_type": "display_data"
    }
   ],
   "source": [
    "#train하는 부분\n",
    "log_model=sm.OLS(np.log(y_train2),X_train2.drop(['Location_Chennai','Location_Delhi','Location_Hyderabad', 'Location_Mumbai'],axis=1))\n",
    "log_model_trained=log_model.fit()\n",
    "y_train_pred=log_model_trained.fittedvalues\n",
    "\n",
    "plt.figure(figsize=(8,8))\n",
    "plt.title(\"true value vs predict value\")\n",
    "plt.scatter(np.log(y_train2),y_train_pred)\n",
    "plt.plot([-5,10],[-5,10],ls=\"--\",c=\"red\")\n",
    "plt.xlabel(\"true value\")\n",
    "plt.ylabel(\"predict value\")\n",
    "plt.xlim(-5,10)\n",
    "plt.ylim(-5,10)\n",
    "plt.show()\n",
    "\n",
    "#일직선을 따르므로 정확한 예측을 함"
   ]
  },
  {
   "cell_type": "markdown",
   "metadata": {},
   "source": [
    "**test-set에 대해 진행**"
   ]
  },
  {
   "cell_type": "code",
   "execution_count": 124,
   "metadata": {},
   "outputs": [
    {
     "data": {
      "text/plain": [
       "1929    2.131713\n",
       "1937    3.026763\n",
       "4992    2.422323\n",
       "2743    1.616382\n",
       "4341    1.163642\n",
       "dtype: float64"
      ]
     },
     "execution_count": 124,
     "metadata": {},
     "output_type": "execute_result"
    }
   ],
   "source": [
    "X_test2=sm.add_constant(X_test2)\n",
    "y_test_pred=log_model_trained.predict(X_test2.drop(['Location_Chennai','Location_Delhi','Location_Hyderabad', 'Location_Mumbai'],axis=1))\n",
    "y_test_pred.head()"
   ]
  },
  {
   "cell_type": "markdown",
   "metadata": {},
   "source": [
    "**평균제곱오차**"
   ]
  },
  {
   "cell_type": "code",
   "execution_count": 126,
   "metadata": {},
   "outputs": [
    {
     "name": "stdout",
     "output_type": "stream",
     "text": [
      "0.19870709780357085\n"
     ]
    }
   ],
   "source": [
    "print(mean_squared_error(np.log(y_test2),y_test_pred))"
   ]
  },
  {
   "cell_type": "markdown",
   "metadata": {},
   "source": [
    "**제곱근 평균 제곱 오차**"
   ]
  },
  {
   "cell_type": "code",
   "execution_count": 127,
   "metadata": {},
   "outputs": [
    {
     "name": "stdout",
     "output_type": "stream",
     "text": [
      "0.34331757542188573\n"
     ]
    }
   ],
   "source": [
    "print(mean_absolute_error(np.log(y_test2),y_test_pred))"
   ]
  },
  {
   "cell_type": "markdown",
   "metadata": {},
   "source": [
    "다중공선성 처리 안 해준게 오차의 값이 더 낮다"
   ]
  },
  {
   "cell_type": "code",
   "execution_count": null,
   "metadata": {},
   "outputs": [],
   "source": []
  }
 ],
 "metadata": {
  "colab": {
   "collapsed_sections": [],
   "name": "Regression_과제2",
   "provenance": []
  },
  "kernelspec": {
   "display_name": "Python 3",
   "language": "python",
   "name": "python3"
  },
  "language_info": {
   "codemirror_mode": {
    "name": "ipython",
    "version": 3
   },
   "file_extension": ".py",
   "mimetype": "text/x-python",
   "name": "python",
   "nbconvert_exporter": "python",
   "pygments_lexer": "ipython3",
   "version": "3.8.8"
  }
 },
 "nbformat": 4,
 "nbformat_minor": 1
}
